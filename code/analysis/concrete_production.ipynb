{
 "cells": [
  {
   "cell_type": "code",
   "execution_count": 20,
   "metadata": {},
   "outputs": [],
   "source": [
    "import numpy as np\n",
    "import pandas as pd\n",
    "from math import floor, log10"
   ]
  },
  {
   "cell_type": "code",
   "execution_count": 21,
   "metadata": {},
   "outputs": [],
   "source": [
    "# Set to the directory that your csv file is in\n",
    "# data_dir = curr_dir + file meant to be accessed\n",
    "data_dir = \"/Users/nicholassarai/git/human_impacts/data/anthropocene/\""
   ]
  },
  {
   "cell_type": "code",
   "execution_count": 22,
   "metadata": {},
   "outputs": [],
   "source": [
    "# function to truncate a number to a given number of sig figs\n",
    "def sig_fig(number, sig=3):\n",
    "    return round(number, sig - int(floor(log10(abs(number)))) - 1)"
   ]
  },
  {
   "cell_type": "markdown",
   "metadata": {},
   "source": [
    "#### In the first approach, we look directly at the literature data for an estimate of concrete consumption. \n",
    "Data from (Miller et al. 2016 Environ. Res. Lett. 11 074029, https://doi.org/10.1088/1748-9326/11/7/074029) estimates the volume of concrete _consumed_ in 2012 based on an analysis of primary data on the components (water, cement, aggregate) required for concrete manufacture."
   ]
  },
  {
   "cell_type": "code",
   "execution_count": 73,
   "metadata": {},
   "outputs": [],
   "source": [
    "concrete = pd.DataFrame(pd.read_csv(\n",
    "    data_dir + \"Miller_concrete_consumption/concrete_consumption.csv\"\n",
    "))\n",
    "concrete_vol = concrete.loc[0][0]\n",
    "\n",
    "concrete_density = 2400 #kg/m^3, per https://hypertextbook.com/facts/1999/KatrinaJones.shtml\n",
    "concrete_mass = (concrete_vol * concrete_density)/1000"
   ]
  },
  {
   "cell_type": "code",
   "execution_count": 74,
   "metadata": {},
   "outputs": [
    {
     "name": "stdout",
     "output_type": "stream",
     "text": [
      "1.01e+10 m^3 – or approximately 2.41e+10 tons – of concrete were consumed in 2012.\n"
     ]
    }
   ],
   "source": [
    "print(\"{:.2e}\".format(concrete_vol), \"m^3 – or approximately\", \"{:.2e}\".format(concrete_mass), \"tons – of concrete were consumed in 2012.\")"
   ]
  },
  {
   "cell_type": "markdown",
   "metadata": {},
   "source": [
    "#### In the second approach, we use _cement_ production data to estimate concrete production. \n",
    "30 billion tons of concrete _produced_ per year is often cited, but little data was found directly backing it up. Data on the annual production of cement is more readily available. \n",
    "\n",
    "The literature (Monteiro, P., Miller, S. & Horvath, A. Towards sustainable concrete. _Nature Mater_ 16, 698–699 (2017). https://doi.org/10.1038/nmat4930) notes that the production of cement by mass correlates to a seven-fold higher production of concrete. This scaling coefficient can be used to estimate concrete production from cement production. "
   ]
  },
  {
   "cell_type": "code",
   "execution_count": 70,
   "metadata": {},
   "outputs": [],
   "source": [
    "cement = pd.DataFrame(pd.read_csv(\n",
    "    data_dir + \"USGS_cement/cement_production.csv\"\n",
    "))\n",
    "cement_mass = cement.loc[0][0]"
   ]
  },
  {
   "cell_type": "code",
   "execution_count": 71,
   "metadata": {},
   "outputs": [],
   "source": [
    "cement_to_concrete = 7 \n",
    "concrete_mass_from_cement = cement_mass * cement_to_concrete"
   ]
  },
  {
   "cell_type": "code",
   "execution_count": 72,
   "metadata": {},
   "outputs": [
    {
     "name": "stdout",
     "output_type": "stream",
     "text": [
      "4.10e+09 tons of cement – which approximately corresponds to 2.87e+10 tons of concrete – were produced in 2019.\n"
     ]
    }
   ],
   "source": [
    "print(\"{:.2e}\".format(cement_mass), \"tons of cement – which approximately corresponds to\", \"{:.2e}\".format(concrete_mass_from_cement), \"tons of concrete – were produced in 2019.\")"
   ]
  }
 ],
 "metadata": {
  "kernelspec": {
   "display_name": "Python 3",
   "language": "python",
   "name": "python3"
  },
  "language_info": {
   "codemirror_mode": {
    "name": "ipython",
    "version": 3
   },
   "file_extension": ".py",
   "mimetype": "text/x-python",
   "name": "python",
   "nbconvert_exporter": "python",
   "pygments_lexer": "ipython3",
   "version": "3.7.7"
  }
 },
 "nbformat": 4,
 "nbformat_minor": 4
}
