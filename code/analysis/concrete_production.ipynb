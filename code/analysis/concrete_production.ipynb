{
 "cells": [
  {
   "cell_type": "code",
   "execution_count": 1,
   "metadata": {},
   "outputs": [],
   "source": [
    "import numpy as np\n",
    "import pandas as pd\n",
    "from math import floor, log10"
   ]
  },
  {
   "cell_type": "code",
   "execution_count": 2,
   "metadata": {},
   "outputs": [],
   "source": [
    "# Set to the directory that your csv file is in\n",
    "# data_dir = curr_dir + file meant to be accessed\n",
    "data_dir = \"/Users/nicholassarai/git/human_impacts/data/anthropocene/\""
   ]
  },
  {
   "cell_type": "code",
   "execution_count": 3,
   "metadata": {},
   "outputs": [],
   "source": [
    "# function to truncate a number to a given number of sig figs\n",
    "def sig_fig(number, sig=3):\n",
    "    return round(number, sig - int(floor(log10(abs(number)))) - 1)"
   ]
  },
  {
   "cell_type": "markdown",
   "metadata": {},
   "source": [
    "#### In the first approach, we look directly at the literature data for an estimate of concrete consumption. \n",
    "Data from (Miller et al. 2016 Environ. Res. Lett. 11 074029, https://doi.org/10.1088/1748-9326/11/7/074029) estimates the volume and mass of concrete _consumed_ in 2012 based on an analysis of primary data on the components (water, cement, aggregate) required for concrete manufacture."
   ]
  },
  {
   "cell_type": "code",
   "execution_count": 4,
   "metadata": {},
   "outputs": [],
   "source": [
    "concrete = pd.DataFrame(pd.read_csv(\n",
    "    data_dir + \"Miller2016_concrete_consumption/processed/concrete_consumption.csv\"\n",
    "))\n",
    "\n",
    "concrete_vol = concrete.loc[0][\"concrete (m^3)\"]\n",
    "concrete_mass = concrete.loc[0]['concrete (Mt)']"
   ]
  },
  {
   "cell_type": "code",
   "execution_count": 5,
   "metadata": {},
   "outputs": [
    {
     "name": "stdout",
     "output_type": "stream",
     "text": [
      "1.0058e+10 m^3 – or 23.4 Gt – of concrete were consumed in 2012.\n"
     ]
    }
   ],
   "source": [
    "print(\"{:.4e}\".format(concrete_vol), \"m^3 – or\", sig_fig(concrete_mass/1000), \"Gt – of concrete were consumed in 2012.\")"
   ]
  },
  {
   "cell_type": "markdown",
   "metadata": {},
   "source": [
    "#### In the second approach, we use _cement_ production data to estimate concrete production. \n",
    "30 billion tons of concrete _produced_ per year is often cited, but little data was found directly backing it up. Data on the annual production of cement is more readily available. \n",
    "\n",
    "The literature (Monteiro, P., Miller, S. & Horvath, A. Towards sustainable concrete. _Nature Mater_ 16, 698–699 (2017). https://doi.org/10.1038/nmat4930) notes that the production of cement by mass correlates to a seven-fold higher production of concrete. This scaling coefficient can be used to estimate concrete production from cement production. "
   ]
  },
  {
   "cell_type": "code",
   "execution_count": 6,
   "metadata": {},
   "outputs": [],
   "source": [
    "cement = pd.DataFrame(pd.read_csv( \n",
    "    data_dir + \"USGS_cement_production/processed/cement_production.csv\"\n",
    "))\n",
    "cement_mass = cement.loc[1][\"cement production (Gt)\"]"
   ]
  },
  {
   "cell_type": "code",
   "execution_count": 7,
   "metadata": {},
   "outputs": [
    {
     "data": {
      "text/html": [
       "<div>\n",
       "<style scoped>\n",
       "    .dataframe tbody tr th:only-of-type {\n",
       "        vertical-align: middle;\n",
       "    }\n",
       "\n",
       "    .dataframe tbody tr th {\n",
       "        vertical-align: top;\n",
       "    }\n",
       "\n",
       "    .dataframe thead th {\n",
       "        text-align: right;\n",
       "    }\n",
       "</style>\n",
       "<table border=\"1\" class=\"dataframe\">\n",
       "  <thead>\n",
       "    <tr style=\"text-align: right;\">\n",
       "      <th></th>\n",
       "      <th>year</th>\n",
       "      <th>cement production (Gt)</th>\n",
       "    </tr>\n",
       "  </thead>\n",
       "  <tbody>\n",
       "    <tr>\n",
       "      <th>0</th>\n",
       "      <td>2018</td>\n",
       "      <td>4.05</td>\n",
       "    </tr>\n",
       "    <tr>\n",
       "      <th>1</th>\n",
       "      <td>2019</td>\n",
       "      <td>4.10</td>\n",
       "    </tr>\n",
       "  </tbody>\n",
       "</table>\n",
       "</div>"
      ],
      "text/plain": [
       "   year  cement production (Gt)\n",
       "0  2018                    4.05\n",
       "1  2019                    4.10"
      ]
     },
     "execution_count": 7,
     "metadata": {},
     "output_type": "execute_result"
    }
   ],
   "source": [
    "cement"
   ]
  },
  {
   "cell_type": "code",
   "execution_count": 8,
   "metadata": {},
   "outputs": [],
   "source": [
    "cement_to_concrete = 7 \n",
    "concrete_mass_from_cement = cement_mass * cement_to_concrete"
   ]
  },
  {
   "cell_type": "code",
   "execution_count": 9,
   "metadata": {},
   "outputs": [
    {
     "name": "stdout",
     "output_type": "stream",
     "text": [
      "4.1 Gt of cement – which approximately corresponds to 28.7 Gt of concrete – were produced in 2019.\n"
     ]
    }
   ],
   "source": [
    "print(cement_mass, \"Gt of cement – which approximately corresponds to\", sig_fig(concrete_mass_from_cement), \"Gt of concrete – were produced in 2019.\")"
   ]
  },
  {
   "cell_type": "code",
   "execution_count": null,
   "metadata": {},
   "outputs": [],
   "source": []
  }
 ],
 "metadata": {
  "kernelspec": {
   "display_name": "Python 3",
   "language": "python",
   "name": "python3"
  },
  "language_info": {
   "codemirror_mode": {
    "name": "ipython",
    "version": 3
   },
   "file_extension": ".py",
   "mimetype": "text/x-python",
   "name": "python",
   "nbconvert_exporter": "python",
   "pygments_lexer": "ipython3",
   "version": "3.7.7"
  }
 },
 "nbformat": 4,
 "nbformat_minor": 4
}
