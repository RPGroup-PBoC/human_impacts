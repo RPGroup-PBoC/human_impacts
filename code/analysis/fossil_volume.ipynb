{
 "cells": [
  {
   "cell_type": "code",
   "execution_count": 23,
   "metadata": {},
   "outputs": [],
   "source": [
    "import numpy as np\n",
    "import pandas as pd\n",
    "from math import floor, log10"
   ]
  },
  {
   "cell_type": "code",
   "execution_count": 28,
   "metadata": {},
   "outputs": [],
   "source": [
    "# function to truncate a number to a given number of sig figs\n",
    "def sig_fig(number, sig=3):\n",
    "    return round(number, sig - int(floor(log10(abs(number)))) - 1)"
   ]
  },
  {
   "cell_type": "code",
   "execution_count": 2,
   "metadata": {},
   "outputs": [],
   "source": [
    "#load datasets\n",
    "oil_data = pd.DataFrame(pd.read_csv('data/energy/BP_statistical_report_global_fossil_extraction/processed/BP_global_oil_production.csv'))\n",
    "gas_data = pd.DataFrame(pd.read_csv('data/energy/BP_statistical_report_global_fossil_extraction/processed/BP_global_gas_production.csv'))\n",
    "consumption_data = pd.DataFrame(pd.read_csv('data/energy/BP_statistical_report_global_energy_usage/processed/BP_global_energy_usage_by_type.csv'))"
   ]
  },
  {
   "cell_type": "code",
   "execution_count": 29,
   "metadata": {},
   "outputs": [
    {
     "name": "stdout",
     "output_type": "stream",
     "text": [
      "5.52e+09 cubic meters of oil were extracted in 2019.\n"
     ]
    }
   ],
   "source": [
    "#how much oil was extracted in 2019?\n",
    "oil_vol_2019 = oil_data.loc[54]['production_cubic_meters_per_year']\n",
    "\n",
    "print(\"{:.2e}\".format(sig_fig(oil_vol_2019)), \"cubic meters of oil were extracted in 2019.\")"
   ]
  },
  {
   "cell_type": "code",
   "execution_count": 31,
   "metadata": {},
   "outputs": [
    {
     "name": "stdout",
     "output_type": "stream",
     "text": [
      "3.99e+12 cubic meters of natural gas were extracted in 2019.\n"
     ]
    }
   ],
   "source": [
    "#how much natural gas was extracted in 2019?\n",
    "gas_vol_2019 = gas_data.loc[49]['production_cubic_meters']\n",
    "\n",
    "print(\"{:.2e}\".format(sig_fig(gas_vol_2019)), \"cubic meters of natural gas were extracted in 2019.\")"
   ]
  },
  {
   "cell_type": "markdown",
   "metadata": {},
   "source": [
    "#### How much energy is produced from combustion of oil and gas?"
   ]
  },
  {
   "cell_type": "code",
   "execution_count": 17,
   "metadata": {},
   "outputs": [
    {
     "data": {
      "text/html": [
       "<div>\n",
       "<style scoped>\n",
       "    .dataframe tbody tr th:only-of-type {\n",
       "        vertical-align: middle;\n",
       "    }\n",
       "\n",
       "    .dataframe tbody tr th {\n",
       "        vertical-align: top;\n",
       "    }\n",
       "\n",
       "    .dataframe thead th {\n",
       "        text-align: right;\n",
       "    }\n",
       "</style>\n",
       "<table border=\"1\" class=\"dataframe\">\n",
       "  <thead>\n",
       "    <tr style=\"text-align: right;\">\n",
       "      <th></th>\n",
       "      <th>year</th>\n",
       "      <th>type</th>\n",
       "      <th>consumption_EJ_yr</th>\n",
       "      <th>consumption_TW</th>\n",
       "    </tr>\n",
       "  </thead>\n",
       "  <tbody>\n",
       "    <tr>\n",
       "      <th>27</th>\n",
       "      <td>2019</td>\n",
       "      <td>Solar</td>\n",
       "      <td>6.450000</td>\n",
       "      <td>0.204654</td>\n",
       "    </tr>\n",
       "    <tr>\n",
       "      <th>57</th>\n",
       "      <td>2019</td>\n",
       "      <td>Wind</td>\n",
       "      <td>11.360000</td>\n",
       "      <td>0.360324</td>\n",
       "    </tr>\n",
       "    <tr>\n",
       "      <th>112</th>\n",
       "      <td>2019</td>\n",
       "      <td>Geothermal/Biomass/Other</td>\n",
       "      <td>5.810000</td>\n",
       "      <td>0.184226</td>\n",
       "    </tr>\n",
       "    <tr>\n",
       "      <th>142</th>\n",
       "      <td>2019</td>\n",
       "      <td>Biodiesel/Biogasoline</td>\n",
       "      <td>3.967014</td>\n",
       "      <td>0.125777</td>\n",
       "    </tr>\n",
       "    <tr>\n",
       "      <th>197</th>\n",
       "      <td>2019</td>\n",
       "      <td>Coal</td>\n",
       "      <td>157.860000</td>\n",
       "      <td>5.004979</td>\n",
       "    </tr>\n",
       "    <tr>\n",
       "      <th>252</th>\n",
       "      <td>2019</td>\n",
       "      <td>Hydroelectric</td>\n",
       "      <td>37.640000</td>\n",
       "      <td>1.193355</td>\n",
       "    </tr>\n",
       "    <tr>\n",
       "      <th>307</th>\n",
       "      <td>2019</td>\n",
       "      <td>Oil</td>\n",
       "      <td>193.030000</td>\n",
       "      <td>6.120215</td>\n",
       "    </tr>\n",
       "    <tr>\n",
       "      <th>362</th>\n",
       "      <td>2019</td>\n",
       "      <td>Natural Gas</td>\n",
       "      <td>141.450000</td>\n",
       "      <td>4.484869</td>\n",
       "    </tr>\n",
       "    <tr>\n",
       "      <th>417</th>\n",
       "      <td>2019</td>\n",
       "      <td>Nuclear</td>\n",
       "      <td>24.920000</td>\n",
       "      <td>0.792504</td>\n",
       "    </tr>\n",
       "  </tbody>\n",
       "</table>\n",
       "</div>"
      ],
      "text/plain": [
       "     year                      type  consumption_EJ_yr  consumption_TW\n",
       "27   2019                     Solar           6.450000        0.204654\n",
       "57   2019                      Wind          11.360000        0.360324\n",
       "112  2019  Geothermal/Biomass/Other           5.810000        0.184226\n",
       "142  2019     Biodiesel/Biogasoline           3.967014        0.125777\n",
       "197  2019                      Coal         157.860000        5.004979\n",
       "252  2019             Hydroelectric          37.640000        1.193355\n",
       "307  2019                       Oil         193.030000        6.120215\n",
       "362  2019               Natural Gas         141.450000        4.484869\n",
       "417  2019                   Nuclear          24.920000        0.792504"
      ]
     },
     "execution_count": 17,
     "metadata": {},
     "output_type": "execute_result"
    }
   ],
   "source": [
    "totals_2019 = consumption_data.loc[consumption_data['year'] == 2019]\n",
    "totals_2019"
   ]
  },
  {
   "cell_type": "code",
   "execution_count": 35,
   "metadata": {},
   "outputs": [
    {
     "name": "stdout",
     "output_type": "stream",
     "text": [
      "6.12 TW were produced from oil combustion in 2019.\n"
     ]
    }
   ],
   "source": [
    "oil_TW_2019 = totals_2019.loc[307]['consumption_TW']\n",
    "print(sig_fig(oil_TW_2019), \"TW were produced from oil combustion in 2019.\")"
   ]
  },
  {
   "cell_type": "code",
   "execution_count": 37,
   "metadata": {},
   "outputs": [
    {
     "name": "stdout",
     "output_type": "stream",
     "text": [
      "4.48 TW were produced from natural gas combustion in 2019.\n"
     ]
    }
   ],
   "source": [
    "gas_TW_2019 = totals_2019.loc[362]['consumption_TW']\n",
    "print(sig_fig(gas_TW_2019), \"TW were produced from natural gas combustion in 2019.\")"
   ]
  }
 ],
 "metadata": {
  "kernelspec": {
   "display_name": "Python 3",
   "language": "python",
   "name": "python3"
  },
  "language_info": {
   "codemirror_mode": {
    "name": "ipython",
    "version": 3
   },
   "file_extension": ".py",
   "mimetype": "text/x-python",
   "name": "python",
   "nbconvert_exporter": "python",
   "pygments_lexer": "ipython3",
   "version": "3.7.7"
  }
 },
 "nbformat": 4,
 "nbformat_minor": 4
}
