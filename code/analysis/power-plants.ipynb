{
 "cells": [
  {
   "cell_type": "code",
   "execution_count": 1,
   "metadata": {},
   "outputs": [
    {
     "name": "stdout",
     "output_type": "stream",
     "text": [
      "/Users/flamholz/Documents/workspace/human_impacts\n"
     ]
    }
   ],
   "source": [
    "cd ../../"
   ]
  },
  {
   "cell_type": "code",
   "execution_count": 2,
   "metadata": {},
   "outputs": [],
   "source": [
    "%matplotlib inline\n",
    "import numpy as np\n",
    "import pandas as pd\n",
    "from matplotlib import pyplot as plt\n",
    "import seaborn as sns"
   ]
  },
  {
   "cell_type": "code",
   "execution_count": 3,
   "metadata": {},
   "outputs": [],
   "source": [
    "data_file = \"data/energy/WRI_global_power_plant_db/source/global_power_plant_database.csv\"\n",
    "power_plant_df = pd.read_csv(data_file)"
   ]
  },
  {
   "cell_type": "code",
   "execution_count": 4,
   "metadata": {},
   "outputs": [
    {
     "data": {
      "text/html": [
       "<div>\n",
       "<style scoped>\n",
       "    .dataframe tbody tr th:only-of-type {\n",
       "        vertical-align: middle;\n",
       "    }\n",
       "\n",
       "    .dataframe tbody tr th {\n",
       "        vertical-align: top;\n",
       "    }\n",
       "\n",
       "    .dataframe thead th {\n",
       "        text-align: right;\n",
       "    }\n",
       "</style>\n",
       "<table border=\"1\" class=\"dataframe\">\n",
       "  <thead>\n",
       "    <tr style=\"text-align: right;\">\n",
       "      <th></th>\n",
       "      <th>capacity_mw</th>\n",
       "      <th>latitude</th>\n",
       "      <th>longitude</th>\n",
       "      <th>commissioning_year</th>\n",
       "      <th>year_of_capacity_data</th>\n",
       "      <th>generation_gwh_2013</th>\n",
       "      <th>generation_gwh_2014</th>\n",
       "      <th>generation_gwh_2015</th>\n",
       "      <th>generation_gwh_2016</th>\n",
       "      <th>generation_gwh_2017</th>\n",
       "      <th>estimated_generation_gwh</th>\n",
       "    </tr>\n",
       "  </thead>\n",
       "  <tbody>\n",
       "    <tr>\n",
       "      <th>count</th>\n",
       "      <td>33643.000000</td>\n",
       "      <td>33643.000000</td>\n",
       "      <td>33643.000000</td>\n",
       "      <td>16303.000000</td>\n",
       "      <td>13743.000000</td>\n",
       "      <td>6995.000000</td>\n",
       "      <td>7430.000000</td>\n",
       "      <td>8409.000000</td>\n",
       "      <td>9346.000000</td>\n",
       "      <td>9669.000000</td>\n",
       "      <td>25506.000000</td>\n",
       "    </tr>\n",
       "    <tr>\n",
       "      <th>mean</th>\n",
       "      <td>168.992503</td>\n",
       "      <td>32.501448</td>\n",
       "      <td>-4.195501</td>\n",
       "      <td>1995.486227</td>\n",
       "      <td>2016.860001</td>\n",
       "      <td>689.323739</td>\n",
       "      <td>655.356204</td>\n",
       "      <td>756.245838</td>\n",
       "      <td>688.213749</td>\n",
       "      <td>701.996888</td>\n",
       "      <td>724.035121</td>\n",
       "    </tr>\n",
       "    <tr>\n",
       "      <th>std</th>\n",
       "      <td>498.471809</td>\n",
       "      <td>22.976195</td>\n",
       "      <td>78.321609</td>\n",
       "      <td>23.525537</td>\n",
       "      <td>1.195205</td>\n",
       "      <td>2330.899731</td>\n",
       "      <td>2229.554684</td>\n",
       "      <td>2518.222075</td>\n",
       "      <td>2390.731668</td>\n",
       "      <td>2402.691580</td>\n",
       "      <td>3771.067583</td>\n",
       "    </tr>\n",
       "    <tr>\n",
       "      <th>min</th>\n",
       "      <td>1.000000</td>\n",
       "      <td>-77.847000</td>\n",
       "      <td>-179.977700</td>\n",
       "      <td>1896.000000</td>\n",
       "      <td>2000.000000</td>\n",
       "      <td>-947.600000</td>\n",
       "      <td>-989.619000</td>\n",
       "      <td>-864.428000</td>\n",
       "      <td>-768.620000</td>\n",
       "      <td>-934.944000</td>\n",
       "      <td>0.000000</td>\n",
       "    </tr>\n",
       "    <tr>\n",
       "      <th>25%</th>\n",
       "      <td>5.000000</td>\n",
       "      <td>28.317050</td>\n",
       "      <td>-76.220000</td>\n",
       "      <td>1986.000000</td>\n",
       "      <td>2017.000000</td>\n",
       "      <td>2.166000</td>\n",
       "      <td>2.152000</td>\n",
       "      <td>2.550000</td>\n",
       "      <td>2.591000</td>\n",
       "      <td>3.473000</td>\n",
       "      <td>7.993903</td>\n",
       "    </tr>\n",
       "    <tr>\n",
       "      <th>50%</th>\n",
       "      <td>18.300000</td>\n",
       "      <td>39.583500</td>\n",
       "      <td>-1.274400</td>\n",
       "      <td>2005.000000</td>\n",
       "      <td>2017.000000</td>\n",
       "      <td>27.029000</td>\n",
       "      <td>22.832500</td>\n",
       "      <td>25.468000</td>\n",
       "      <td>21.604100</td>\n",
       "      <td>25.282000</td>\n",
       "      <td>35.345934</td>\n",
       "    </tr>\n",
       "    <tr>\n",
       "      <th>75%</th>\n",
       "      <td>80.000000</td>\n",
       "      <td>46.470500</td>\n",
       "      <td>61.679450</td>\n",
       "      <td>2012.063866</td>\n",
       "      <td>2017.000000</td>\n",
       "      <td>250.554500</td>\n",
       "      <td>223.171500</td>\n",
       "      <td>280.075000</td>\n",
       "      <td>245.285000</td>\n",
       "      <td>250.124000</td>\n",
       "      <td>222.130958</td>\n",
       "    </tr>\n",
       "    <tr>\n",
       "      <th>max</th>\n",
       "      <td>22500.000000</td>\n",
       "      <td>71.292000</td>\n",
       "      <td>179.388700</td>\n",
       "      <td>2018.000000</td>\n",
       "      <td>2018.000000</td>\n",
       "      <td>50834.000000</td>\n",
       "      <td>32320.917000</td>\n",
       "      <td>37433.607000</td>\n",
       "      <td>32377.477000</td>\n",
       "      <td>36448.643000</td>\n",
       "      <td>450562.692350</td>\n",
       "    </tr>\n",
       "  </tbody>\n",
       "</table>\n",
       "</div>"
      ],
      "text/plain": [
       "        capacity_mw      latitude     longitude  commissioning_year  \\\n",
       "count  33643.000000  33643.000000  33643.000000        16303.000000   \n",
       "mean     168.992503     32.501448     -4.195501         1995.486227   \n",
       "std      498.471809     22.976195     78.321609           23.525537   \n",
       "min        1.000000    -77.847000   -179.977700         1896.000000   \n",
       "25%        5.000000     28.317050    -76.220000         1986.000000   \n",
       "50%       18.300000     39.583500     -1.274400         2005.000000   \n",
       "75%       80.000000     46.470500     61.679450         2012.063866   \n",
       "max    22500.000000     71.292000    179.388700         2018.000000   \n",
       "\n",
       "       year_of_capacity_data  generation_gwh_2013  generation_gwh_2014  \\\n",
       "count           13743.000000          6995.000000          7430.000000   \n",
       "mean             2016.860001           689.323739           655.356204   \n",
       "std                 1.195205          2330.899731          2229.554684   \n",
       "min              2000.000000          -947.600000          -989.619000   \n",
       "25%              2017.000000             2.166000             2.152000   \n",
       "50%              2017.000000            27.029000            22.832500   \n",
       "75%              2017.000000           250.554500           223.171500   \n",
       "max              2018.000000         50834.000000         32320.917000   \n",
       "\n",
       "       generation_gwh_2015  generation_gwh_2016  generation_gwh_2017  \\\n",
       "count          8409.000000          9346.000000          9669.000000   \n",
       "mean            756.245838           688.213749           701.996888   \n",
       "std            2518.222075          2390.731668          2402.691580   \n",
       "min            -864.428000          -768.620000          -934.944000   \n",
       "25%               2.550000             2.591000             3.473000   \n",
       "50%              25.468000            21.604100            25.282000   \n",
       "75%             280.075000           245.285000           250.124000   \n",
       "max           37433.607000         32377.477000         36448.643000   \n",
       "\n",
       "       estimated_generation_gwh  \n",
       "count              25506.000000  \n",
       "mean                 724.035121  \n",
       "std                 3771.067583  \n",
       "min                    0.000000  \n",
       "25%                    7.993903  \n",
       "50%                   35.345934  \n",
       "75%                  222.130958  \n",
       "max               450562.692350  "
      ]
     },
     "execution_count": 4,
     "metadata": {},
     "output_type": "execute_result"
    }
   ],
   "source": [
    "power_plant_df.describe()"
   ]
  },
  {
   "cell_type": "code",
   "execution_count": 9,
   "metadata": {},
   "outputs": [
    {
     "name": "stdout",
     "output_type": "stream",
     "text": [
      "33643 power plants in DB\n",
      "Mean capacity 1.7e+02 MW\n",
      "Total capacity 5.7e+06 MW\n",
      "Mean 2017 generation 7e+02 GWh\n",
      "Total 2017 generation 6.8e+06 GWh\n"
     ]
    }
   ],
   "source": [
    "print(\"{0:d} power plants in DB\".format(power_plant_df.capacity_mw.size))\n",
    "print(\"Mean capacity {0:.2g} MW\".format(power_plant_df.capacity_mw.mean()))\n",
    "print(\"Total capacity {0:.2g} MW\".format(power_plant_df.capacity_mw.sum()))\n",
    "print(\"Mean 2017 generation {0:.2g} GWh\".format(power_plant_df.generation_gwh_2017.mean()))\n",
    "print(\"Total 2017 generation {0:.2g} GWh\".format(power_plant_df.generation_gwh_2017.sum()))"
   ]
  },
  {
   "cell_type": "code",
   "execution_count": 6,
   "metadata": {},
   "outputs": [
    {
     "data": {
      "image/png": "[encoded data removed]",
      "text/plain": [
       "<Figure size 504x360 with 1 Axes>"
      ]
     },
     "metadata": {
      "needs_background": "light"
     },
     "output_type": "display_data"
    }
   ],
   "source": [
    "# Plotting the CDF of power plant capacity\n",
    "plt.figure(figsize=(7,5))\n",
    "sns.ecdfplot(data=power_plant_df, x='capacity_mw')\n",
    "plt.axvline(power_plant_df.capacity_mw.mean(), color='k', ls='--')\n",
    "plt.xlim(0, 5000)\n",
    "plt.show()"
   ]
  },
  {
   "cell_type": "markdown",
   "metadata": {},
   "source": [
    "# Sanity check\n",
    "The WRI database reports on ≈34k power plants making up more than 80% of global installed capacity according to their technical note linked [here](https://pdfs.semanticscholar.org/3859/3d64639f710604add94b63d052456dee4b91.pdf). Since the mean capacity of these 34k plants is roughly 170 MW and the total capacity is ≈6e6 MW = 6 TW, we can multiple by 8760 hrs/yr to get ≈52,000 TWh. This is about 1/4 of global production according to [Our World In Data](https://ourworldindata.org/energy-mix#:~:text=We%20see%20that%20in%202019,and%204.3%25%20came%20from%20nuclear.) which is using BP sourced data. This difference might make sense since we are missing 20% of capacity and because this power plant data does not include enery production/consumption outside power plants, e.g. in cars, planes and trucks. \n",
    "\n",
    "If we take the total generation data from the WRI DB as of 2017, we get 7e6 GWh or 7e3 TWh. \n",
    "\n",
    "Not positive this all works out. Needs more thought."
   ]
  },
  {
   "cell_type": "code",
   "execution_count": 20,
   "metadata": {},
   "outputs": [],
   "source": [
    "# Not all the power plants are emissive! Let's see what fraction of the DB is. \n",
    "\n",
    "power_plant_df.primary_fuel.unique()\n",
    "emissive_sources = ['Gas', 'Oil', 'Coal', \n",
    "       'Waste', 'Biomass', 'Petcoke',]\n",
    "mask = power_plant_df.primary_fuel.isin(emissive_sources)\n",
    "sub_df = power_plant_df[mask]"
   ]
  },
  {
   "cell_type": "code",
   "execution_count": 21,
   "metadata": {},
   "outputs": [
    {
     "name": "stdout",
     "output_type": "stream",
     "text": [
      "11098 emissive power plants in DB\n",
      "Mean emissive capacity 3.4e+02 MW\n",
      "Total emissive capacity 3.8e+06 MW\n"
     ]
    }
   ],
   "source": [
    "print(\"{0:d} emissive power plants in DB\".format(sub_df.capacity_mw.size))\n",
    "print(\"Mean emissive capacity {0:.2g} MW\".format(sub_df.capacity_mw.mean()))\n",
    "print(\"Total emissive capacity {0:.2g} MW\".format(sub_df.capacity_mw.sum()))"
   ]
  },
  {
   "cell_type": "code",
   "execution_count": 23,
   "metadata": {},
   "outputs": [
    {
     "name": "stdout",
     "output_type": "stream",
     "text": [
      "3e+13\n"
     ]
    }
   ],
   "source": [
    "print(\"{0:.2g}\".format(1e5*1e5*1e-4*3e7))"
   ]
  },
  {
   "cell_type": "code",
   "execution_count": null,
   "metadata": {},
   "outputs": [],
   "source": []
  }
 ],
 "metadata": {
  "kernelspec": {
   "display_name": "Python 3",
   "language": "python",
   "name": "python3"
  },
  "language_info": {
   "codemirror_mode": {
    "name": "ipython",
    "version": 3
   },
   "file_extension": ".py",
   "mimetype": "text/x-python",
   "name": "python",
   "nbconvert_exporter": "python",
   "pygments_lexer": "ipython3",
   "version": "3.8.2"
  }
 },
 "nbformat": 4,
 "nbformat_minor": 4
}
