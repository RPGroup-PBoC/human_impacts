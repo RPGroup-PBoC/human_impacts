{
 "metadata": {
  "language_info": {
   "codemirror_mode": {
    "name": "ipython",
    "version": 3
   },
   "file_extension": ".py",
   "mimetype": "text/x-python",
   "name": "python",
   "nbconvert_exporter": "python",
   "pygments_lexer": "ipython3",
   "version": 3
  },
  "orig_nbformat": 2,
  "kernelspec": {
   "name": "python_defaultSpec_1595614510212",
   "display_name": "Python 3.7.5 64-bit ('base': conda)"
  }
 },
 "nbformat": 4,
 "nbformat_minor": 2,
 "cells": [
  {
   "cell_type": "markdown",
   "metadata": {},
   "source": [
    "# Data Analysis for 'The Physical Footprint of Agriculture'"
   ]
  },
  {
   "cell_type": "code",
   "execution_count": 3,
   "metadata": {},
   "outputs": [],
   "source": [
    "import numpy as np\n",
    "import pandas as pd\n",
    "import matplotlib.pyplot as plt \n",
    "import anthro.viz\n",
    "import anthro.stats\n",
    "colors = anthro.viz.plotting_style()"
   ]
  },
  {
   "cell_type": "markdown",
   "metadata": {},
   "source": [
    "In this notebook, we explore the data associated with the vignette \"The Physical Footprint of Agriculture\". This notebook relis on a body of data from the FAOSTAT database on global agricultural yields and from the Alltech Global Feed Survey (GFS) which quantifies the mass of livestock feed produced annually. This notebook will change as more data is added and/or removed."
   ]
  },
  {
   "cell_type": "markdown",
   "metadata": {},
   "source": [
    "## Exploring the Species Breakdown of Livestock and Livestock Products"
   ]
  },
  {
   "cell_type": "code",
   "execution_count": 9,
   "metadata": {},
   "outputs": [],
   "source": [
    "# Load the FAOSTAT data \n",
    "livestock_pop = pd.read_csv('../../data/agriculture/FAOSTAT_livestock_population/processed/FAOSTAT_livestock_population.csv')\n",
    "livestock_prod = pd.read_csv('../../data/agriculture/FAOSTAT_livestock_product_produced/processed/FAOSTAT_livestock_and_product.csv')\n",
    "feed_prod = pd.read_csv('../../data/agriculture/alltech_global_feed_survey/processed/alltech_feed_species_breakdown.csv')"
   ]
  },
  {
   "cell_type": "code",
   "execution_count": 10,
   "metadata": {},
   "outputs": [
    {
     "output_type": "execute_result",
     "data": {
      "text/plain": "      animal  year  population_Mhd\n0        ass  1961       36.958302\n1        ass  1962       35.599457\n2        ass  1963       35.371329\n3        ass  1964       36.118309\n4        ass  1965       36.766287\n...      ...   ...             ...\n1039  turkey  2014      448.581000\n1040  turkey  2015      445.796000\n1041  turkey  2016      465.359000\n1042  turkey  2017      464.073000\n1043  turkey  2018      466.787000\n\n[1044 rows x 3 columns]",
      "text/html": "<div>\n<style scoped>\n    .dataframe tbody tr th:only-of-type {\n        vertical-align: middle;\n    }\n\n    .dataframe tbody tr th {\n        vertical-align: top;\n    }\n\n    .dataframe thead th {\n        text-align: right;\n    }\n</style>\n<table border=\"1\" class=\"dataframe\">\n  <thead>\n    <tr style=\"text-align: right;\">\n      <th></th>\n      <th>animal</th>\n      <th>year</th>\n      <th>population_Mhd</th>\n    </tr>\n  </thead>\n  <tbody>\n    <tr>\n      <td>0</td>\n      <td>ass</td>\n      <td>1961</td>\n      <td>36.958302</td>\n    </tr>\n    <tr>\n      <td>1</td>\n      <td>ass</td>\n      <td>1962</td>\n      <td>35.599457</td>\n    </tr>\n    <tr>\n      <td>2</td>\n      <td>ass</td>\n      <td>1963</td>\n      <td>35.371329</td>\n    </tr>\n    <tr>\n      <td>3</td>\n      <td>ass</td>\n      <td>1964</td>\n      <td>36.118309</td>\n    </tr>\n    <tr>\n      <td>4</td>\n      <td>ass</td>\n      <td>1965</td>\n      <td>36.766287</td>\n    </tr>\n    <tr>\n      <td>...</td>\n      <td>...</td>\n      <td>...</td>\n      <td>...</td>\n    </tr>\n    <tr>\n      <td>1039</td>\n      <td>turkey</td>\n      <td>2014</td>\n      <td>448.581000</td>\n    </tr>\n    <tr>\n      <td>1040</td>\n      <td>turkey</td>\n      <td>2015</td>\n      <td>445.796000</td>\n    </tr>\n    <tr>\n      <td>1041</td>\n      <td>turkey</td>\n      <td>2016</td>\n      <td>465.359000</td>\n    </tr>\n    <tr>\n      <td>1042</td>\n      <td>turkey</td>\n      <td>2017</td>\n      <td>464.073000</td>\n    </tr>\n    <tr>\n      <td>1043</td>\n      <td>turkey</td>\n      <td>2018</td>\n      <td>466.787000</td>\n    </tr>\n  </tbody>\n</table>\n<p>1044 rows × 3 columns</p>\n</div>"
     },
     "metadata": {},
     "execution_count": 10
    }
   ],
   "source": [
    "livestock_pop"
   ]
  },
  {
   "cell_type": "code",
   "execution_count": null,
   "metadata": {},
   "outputs": [],
   "source": []
  }
 ]
}