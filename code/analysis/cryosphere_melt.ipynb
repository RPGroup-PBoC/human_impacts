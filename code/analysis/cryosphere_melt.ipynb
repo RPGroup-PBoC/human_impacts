{
 "cells": [
  {
   "cell_type": "code",
   "execution_count": 14,
   "metadata": {},
   "outputs": [],
   "source": [
    "import numpy as np\n",
    "import pandas as pd\n",
    "from math import floor, log10"
   ]
  },
  {
   "cell_type": "code",
   "execution_count": 15,
   "metadata": {},
   "outputs": [],
   "source": [
    "# Set to the directory that your csv file is in\n",
    "# data_dir = curr_dir + file meant to be accessed\n",
    "data_dir = \"/Users/nicholassarai/git/human_impacts/data/water/\""
   ]
  },
  {
   "cell_type": "code",
   "execution_count": 16,
   "metadata": {},
   "outputs": [],
   "source": [
    "# function to truncate a number to a given number of sig figs\n",
    "def sig_fig(number, sig=3):\n",
    "    return round(number, sig - int(floor(log10(abs(number)))) - 1)"
   ]
  },
  {
   "cell_type": "markdown",
   "metadata": {},
   "source": [
    "#### Read in csv data, convert to df, and extract numbers of interest"
   ]
  },
  {
   "cell_type": "code",
   "execution_count": 17,
   "metadata": {},
   "outputs": [],
   "source": [
    "antarctica_is = pd.read_csv(\n",
    "    data_dir + \"NASA_IceSheet_Antarctica/processed/Antarctica_trend_042002-052020.csv\"\n",
    ")\n",
    "antarctica_is_df = pd.DataFrame(antarctica_is)\n",
    "\n",
    "greenland_is = pd.read_csv(\n",
    "    data_dir + \"NASA_IceSheet_Greenland/processed/Greenland_trend_042002-052020.csv\"\n",
    ")\n",
    "greenland_is_df = pd.DataFrame(greenland_is)\n",
    "\n",
    "global_glacier = pd.read_csv(\n",
    "    data_dir + \"IPCC_cryosphere/table2.A.1_summary_statistics.csv\"\n",
    ")\n",
    "global_glacier_df = pd.DataFrame(global_glacier)\n",
    "global_glacier_df = global_glacier_df.set_index(\"region\")"
   ]
  },
  {
   "cell_type": "code",
   "execution_count": 18,
   "metadata": {},
   "outputs": [],
   "source": [
    "antarctica_is_massloss = antarctica_is_df.loc[0][\"mass loss (Gt/yr)\"]\n",
    "greenland_is_massloss = greenland_is_df.loc[0][\"mass loss (Gt/yr)\"]\n",
    "global_glacier_massloss = global_glacier_df.loc[\"global\"][\"mass loss (Gt yr-1)\"]\n",
    "ice_sheet_massloss = antarctica_is_massloss + greenland_is_massloss\n",
    "global_massloss = (\n",
    "    antarctica_is_massloss + greenland_is_massloss + global_glacier_massloss\n",
    ")"
   ]
  },
  {
   "cell_type": "markdown",
   "metadata": {},
   "source": [
    "#### To convert ice mass to water volume: 1 Gt of ice = 1 Gt of water = 1 km^3 of water = 1e9 m^3"
   ]
  },
  {
   "cell_type": "code",
   "execution_count": 19,
   "metadata": {},
   "outputs": [],
   "source": [
    "Gt_to_m3 = 1e9\n",
    "glacier_volloss = \"{:.2e}\".format(sig_fig(global_glacier_massloss * Gt_to_m3))\n",
    "ice_sheet_volloss = \"{:.2e}\".format(sig_fig(ice_sheet_massloss * Gt_to_m3))\n",
    "global_volloss = \"{:.2e}\".format(sig_fig(global_massloss * Gt_to_m3))"
   ]
  },
  {
   "cell_type": "markdown",
   "metadata": {},
   "source": [
    "#### Estimates of volume lost per year"
   ]
  },
  {
   "cell_type": "code",
   "execution_count": 20,
   "metadata": {},
   "outputs": [
    {
     "name": "stdout",
     "output_type": "stream",
     "text": [
      "Ice sheets globally change mass by -427.0 Gt/yr, equivalent to -4.27e+11 m^3 of water/yr.\n"
     ]
    }
   ],
   "source": [
    "print(\"Ice sheets globally change mass by\", sig_fig(ice_sheet_massloss) , \"Gt/yr, equivalent to\", ice_sheet_volloss, \"m^3 of water/yr.\")"
   ]
  },
  {
   "cell_type": "code",
   "execution_count": 21,
   "metadata": {},
   "outputs": [
    {
     "name": "stdout",
     "output_type": "stream",
     "text": [
      "Glaciers globally change mass by -278 Gt/yr, equivalent to -2.78e+11 m^3 of water/yr.\n"
     ]
    }
   ],
   "source": [
    "print(\"Glaciers globally change mass by\", sig_fig(global_glacier_massloss) , \"Gt/yr, equivalent to\", glacier_volloss, \"m^3 of water/yr.\")"
   ]
  },
  {
   "cell_type": "code",
   "execution_count": 22,
   "metadata": {},
   "outputs": [
    {
     "name": "stdout",
     "output_type": "stream",
     "text": [
      "Ice sheets and glaciers globally change mass by -705.0 Gt/yr, equivalent to -7.05e+11 m^3 of water/yr.\n"
     ]
    }
   ],
   "source": [
    "print(\"Ice sheets and glaciers globally change mass by\", sig_fig(global_massloss) , \"Gt/yr, equivalent to\", global_volloss, \"m^3 of water/yr.\")"
   ]
  },
  {
   "cell_type": "markdown",
   "metadata": {},
   "source": [
    "#### Ice melt number "
   ]
  },
  {
   "cell_type": "code",
   "execution_count": 23,
   "metadata": {},
   "outputs": [
    {
     "name": "stdout",
     "output_type": "stream",
     "text": [
      "0.168\n"
     ]
    }
   ],
   "source": [
    "grand_canyon_vol = 4.2e12\n",
    "ice_melt_number = abs(float(global_volloss)) / grand_canyon_vol\n",
    "print(sig_fig(ice_melt_number))"
   ]
  },
  {
   "cell_type": "code",
   "execution_count": null,
   "metadata": {},
   "outputs": [],
   "source": []
  }
 ],
 "metadata": {
  "kernelspec": {
   "display_name": "Python 3",
   "language": "python",
   "name": "python3"
  },
  "language_info": {
   "codemirror_mode": {
    "name": "ipython",
    "version": 3
   },
   "file_extension": ".py",
   "mimetype": "text/x-python",
   "name": "python",
   "nbconvert_exporter": "python",
   "pygments_lexer": "ipython3",
   "version": "3.7.7"
  }
 },
 "nbformat": 4,
 "nbformat_minor": 4
}
