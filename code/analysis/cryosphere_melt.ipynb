{
 "cells": [
  {
   "cell_type": "code",
   "execution_count": 15,
   "metadata": {},
   "outputs": [
    {
     "name": "stdout",
     "output_type": "stream",
     "text": [
      "The blackcellmagic extension is already loaded. To reload it, use:\n",
      "  %reload_ext blackcellmagic\n"
     ]
    }
   ],
   "source": [
    "import numpy as np\n",
    "import pandas as pd\n",
    "from math import floor, log10\n",
    "\n",
    "%load_ext blackcellmagic"
   ]
  },
  {
   "cell_type": "code",
   "execution_count": 16,
   "metadata": {},
   "outputs": [],
   "source": [
    "# Set to the directory that your csv file is in\n",
    "# data_dir = curr_dir + file meant to be accessed\n",
    "data_dir = \"/Users/nicholassarai/git/human_impacts/data/water/\""
   ]
  },
  {
   "cell_type": "code",
   "execution_count": 17,
   "metadata": {},
   "outputs": [],
   "source": [
    "# function to truncate a number to a given number of sig figs\n",
    "def sig_fig(number, sig=3):\n",
    "    return round(number, sig - int(floor(log10(abs(number)))) - 1)"
   ]
  },
  {
   "cell_type": "markdown",
   "metadata": {},
   "source": [
    "#### read in csv data, convert to df"
   ]
  },
  {
   "cell_type": "code",
   "execution_count": 18,
   "metadata": {},
   "outputs": [],
   "source": [
    "# antarctic ice sheet\n",
    "antarctica_is = pd.DataFrame(\n",
    "    pd.read_csv(\n",
    "        data_dir\n",
    "        + \"NASA_IceSheet_Antarctica/processed/Antarctica_trend_042002-052020.csv\"\n",
    "    )\n",
    ")\n",
    "\n",
    "# greenland ice sheet\n",
    "greenland_is = pd.DataFrame(\n",
    "    pd.read_csv(\n",
    "        data_dir + \"NASA_IceSheet_Greenland/processed/Greenland_trend_042002-052020.csv\"\n",
    "    )\n",
    ")\n",
    "\n",
    "# arctic and mountain glaciers\n",
    "global_glacier = pd.DataFrame(\n",
    "    pd.read_csv(data_dir + \"IPCC_glaciers/processed/table2.A.1_summary_statistics.csv\")\n",
    ")\n",
    "global_glacier = global_glacier.set_index(\"region\")\n",
    "\n",
    "# arctic sea ice (does not contribute very much to sea level rise as it displaces most of its weight)\n",
    "arctic_sea_ice = pd.DataFrame(\n",
    "    pd.read_csv(\n",
    "        data_dir + \"PIOMAS_sea_ice_volume/processed/1979-2020_volume_anomaly_trend.csv\"\n",
    "    )\n",
    ")"
   ]
  },
  {
   "cell_type": "markdown",
   "metadata": {},
   "source": [
    "#### extract numbers of interest"
   ]
  },
  {
   "cell_type": "code",
   "execution_count": 19,
   "metadata": {},
   "outputs": [],
   "source": [
    "# mass loss from antarctic ice sheet\n",
    "antarctica_is_massloss = antarctica_is.loc[0][\"mass loss (Gt/yr)\"]\n",
    "\n",
    "# mass loss from greenland ice sheet\n",
    "greenland_is_massloss = greenland_is.loc[0][\"mass loss (Gt/yr)\"]\n",
    "\n",
    "# mass loss from glaciers\n",
    "global_glacier_massloss = global_glacier.loc[\"global\"][\"mass loss (Gt yr-1)\"]\n",
    "\n",
    "# mass loss from ice sheets in combination\n",
    "ice_sheet_massloss = antarctica_is_massloss + greenland_is_massloss\n",
    "\n",
    "# mass loss from ice sheets and glaciers (grounded ice, contributes to sea level rise)\n",
    "grounded_ice_massloss = (\n",
    "    antarctica_is_massloss + greenland_is_massloss + global_glacier_massloss\n",
    ")"
   ]
  },
  {
   "cell_type": "markdown",
   "metadata": {},
   "source": [
    "#### To convert ice mass to water volume: 1 Gt of ice = 1 Gt of water = 1 km^3 of water = 1e9 m^3"
   ]
  },
  {
   "cell_type": "code",
   "execution_count": 24,
   "metadata": {},
   "outputs": [
    {
     "data": {
      "text/plain": [
       "'-1.47e+11'"
      ]
     },
     "execution_count": 24,
     "metadata": {},
     "output_type": "execute_result"
    }
   ],
   "source": [
    " \"{:.2e}\".format(antarctica_is_massloss*Gt_to_m3)"
   ]
  },
  {
   "cell_type": "code",
   "execution_count": 21,
   "metadata": {},
   "outputs": [],
   "source": [
    "Gt_to_m3 = 1e9\n",
    "glacier_volloss = \"{:.2e}\".format(sig_fig(global_glacier_massloss * Gt_to_m3))\n",
    "ice_sheet_volloss = \"{:.2e}\".format(sig_fig(ice_sheet_massloss * Gt_to_m3))\n",
    "grounded_ice_volloss = \"{:.2e}\".format(sig_fig(grounded_ice_massloss * Gt_to_m3))"
   ]
  },
  {
   "cell_type": "code",
   "execution_count": 7,
   "metadata": {},
   "outputs": [],
   "source": [
    "# add arctic sea ice volume loss, antarctic loss not well measured and likely not substantial\n",
    "arctic_sea_ice_volloss = \"{:.2e}\".format(\n",
    "    sig_fig(arctic_sea_ice.loc[0][\"anomaly_trend (m^3 yr-1)\"])\n",
    ")\n",
    "global_volloss = float(grounded_ice_volloss) + float(arctic_sea_ice_volloss)"
   ]
  },
  {
   "cell_type": "markdown",
   "metadata": {},
   "source": [
    "#### Estimates of volume lost per year"
   ]
  },
  {
   "cell_type": "code",
   "execution_count": 8,
   "metadata": {},
   "outputs": [
    {
     "name": "stdout",
     "output_type": "stream",
     "text": [
      "Ice sheets globally changed mass (2002-2020 annual trend) by -427.0 Gt/yr, equivalent to -4.27e+11 m^3 of water/yr.\n"
     ]
    }
   ],
   "source": [
    "print(\n",
    "    \"Ice sheets globally changed mass (2002-2020 annual trend) by\",\n",
    "    sig_fig(ice_sheet_massloss),\n",
    "    \"Gt/yr, equivalent to\",\n",
    "    ice_sheet_volloss,\n",
    "    \"m^3 of water/yr.\",\n",
    ")"
   ]
  },
  {
   "cell_type": "code",
   "execution_count": 9,
   "metadata": {},
   "outputs": [
    {
     "name": "stdout",
     "output_type": "stream",
     "text": [
      "Glaciers globally changed mass (2006-2015 annual trend) by -278 Gt/yr, equivalent to -2.78e+11 m^3 of water/yr.\n"
     ]
    }
   ],
   "source": [
    "print(\n",
    "    \"Glaciers globally changed mass (2006-2015 annual trend) by\",\n",
    "    sig_fig(global_glacier_massloss),\n",
    "    \"Gt/yr, equivalent to\",\n",
    "    glacier_volloss,\n",
    "    \"m^3 of water/yr.\",\n",
    ")"
   ]
  },
  {
   "cell_type": "code",
   "execution_count": 11,
   "metadata": {},
   "outputs": [
    {
     "name": "stdout",
     "output_type": "stream",
     "text": [
      "Grounded ice (glaciers and ice sheets) changes mass by -705.0 Gt/yr, equivalent to -7.05e+11 m^3 of water/yr.\n"
     ]
    }
   ],
   "source": [
    "print(\n",
    "    \"Grounded ice (glaciers and ice sheets) changes mass by\",\n",
    "    sig_fig(grounded_ice_massloss),\n",
    "    \"Gt/yr, equivalent to\",\n",
    "    grounded_ice_volloss,\n",
    "    \"m^3 of water/yr.\",\n",
    ")"
   ]
  },
  {
   "cell_type": "code",
   "execution_count": 12,
   "metadata": {},
   "outputs": [
    {
     "name": "stdout",
     "output_type": "stream",
     "text": [
      "Arctic sea ice changed volume (1979-2020 annual trend) by -3.00e+11 m^3 of water/yr.\n"
     ]
    }
   ],
   "source": [
    "print(\n",
    "    \"Arctic sea ice changed volume (1979-2020 annual trend) by\",\n",
    "    arctic_sea_ice_volloss,\n",
    "    \"m^3 of water/yr.\",\n",
    ")"
   ]
  },
  {
   "cell_type": "code",
   "execution_count": 13,
   "metadata": {},
   "outputs": [
    {
     "name": "stdout",
     "output_type": "stream",
     "text": [
      "Ice sheets, glaciers, and sea ice globally change volume by -1.00e+12 m^3 of water/yr.\n"
     ]
    }
   ],
   "source": [
    "print(\n",
    "    \"Ice sheets, glaciers, and sea ice globally change volume by\",\n",
    "    \"{:.2e}\".format(sig_fig(global_volloss)),\n",
    "    \"m^3 of water/yr.\",\n",
    ")"
   ]
  },
  {
   "cell_type": "markdown",
   "metadata": {},
   "source": [
    "#### Ice melt number "
   ]
  },
  {
   "cell_type": "code",
   "execution_count": 14,
   "metadata": {},
   "outputs": [
    {
     "name": "stdout",
     "output_type": "stream",
     "text": [
      "0.239\n"
     ]
    }
   ],
   "source": [
    "grand_canyon_vol = 4.2e12\n",
    "ice_melt_number = (\n",
    "    abs(global_volloss) / grand_canyon_vol\n",
    ")\n",
    "print(sig_fig(ice_melt_number))"
   ]
  },
  {
   "cell_type": "code",
   "execution_count": null,
   "metadata": {},
   "outputs": [],
   "source": []
  }
 ],
 "metadata": {
  "kernelspec": {
   "display_name": "Python 3",
   "language": "python",
   "name": "python3"
  },
  "language_info": {
   "codemirror_mode": {
    "name": "ipython",
    "version": 3
   },
   "file_extension": ".py",
   "mimetype": "text/x-python",
   "name": "python",
   "nbconvert_exporter": "python",
   "pygments_lexer": "ipython3",
   "version": "3.7.7"
  }
 },
 "nbformat": 4,
 "nbformat_minor": 4
}
