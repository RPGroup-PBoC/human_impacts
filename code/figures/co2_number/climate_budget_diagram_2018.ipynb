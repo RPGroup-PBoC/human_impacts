{
 "cells": [
  {
   "cell_type": "code",
   "execution_count": 1,
   "metadata": {},
   "outputs": [
    {
     "name": "stdout",
     "output_type": "stream",
     "text": [
      "/Users/flamholz/Documents/workspace/human_impacts\n"
     ]
    }
   ],
   "source": [
    "cd ../../../"
   ]
  },
  {
   "cell_type": "code",
   "execution_count": 2,
   "metadata": {},
   "outputs": [
    {
     "data": {
      "text/plain": [
       "{'green': '#7AA974',\n",
       " 'light_green': '#BFD598',\n",
       " 'pale_green': '#DCECCB',\n",
       " 'yellow': '#EAC264',\n",
       " 'light_yellow': '#F3DAA9',\n",
       " 'pale_yellow': '#FFEDCE',\n",
       " 'blue': '#738FC1',\n",
       " 'light_blue': '#A9BFE3',\n",
       " 'pale_blue': '#C9D7EE',\n",
       " 'red': '#D56C55',\n",
       " 'light_red': '#E8B19D',\n",
       " 'pale_red': '#F1D4C9',\n",
       " 'purple': '#AB85AC',\n",
       " 'light_purple': '#D4C2D9',\n",
       " 'dark_green': '#7E9D90',\n",
       " 'dark_brown': '#905426'}"
      ]
     },
     "execution_count": 2,
     "metadata": {},
     "output_type": "execute_result"
    }
   ],
   "source": [
    "%matplotlib inline\n",
    "import numpy as np \n",
    "import pandas as pd \n",
    "import matplotlib.pyplot as plt \n",
    "import seaborn as sns\n",
    "\n",
    "from datetime import datetime\n",
    "\n",
    "import anthro.viz\n",
    "colors = anthro.viz.plotting_style()\n",
    "colors"
   ]
  },
  {
   "cell_type": "code",
   "execution_count": 3,
   "metadata": {},
   "outputs": [
    {
     "data": {
      "text/html": [
       "<div>\n",
       "<style scoped>\n",
       "    .dataframe tbody tr th:only-of-type {\n",
       "        vertical-align: middle;\n",
       "    }\n",
       "\n",
       "    .dataframe tbody tr th {\n",
       "        vertical-align: top;\n",
       "    }\n",
       "\n",
       "    .dataframe thead th {\n",
       "        text-align: right;\n",
       "    }\n",
       "</style>\n",
       "<table border=\"1\" class=\"dataframe\">\n",
       "  <thead>\n",
       "    <tr style=\"text-align: right;\">\n",
       "      <th></th>\n",
       "      <th>year</th>\n",
       "      <th>direction</th>\n",
       "      <th>desc</th>\n",
       "      <th>units</th>\n",
       "      <th>value</th>\n",
       "    </tr>\n",
       "  </thead>\n",
       "  <tbody>\n",
       "    <tr>\n",
       "      <th>59</th>\n",
       "      <td>2018</td>\n",
       "      <td>source</td>\n",
       "      <td>fossil fuel and industry</td>\n",
       "      <td>Pg C yr-1</td>\n",
       "      <td>9.98</td>\n",
       "    </tr>\n",
       "    <tr>\n",
       "      <th>119</th>\n",
       "      <td>2018</td>\n",
       "      <td>source</td>\n",
       "      <td>land-use change emissions</td>\n",
       "      <td>Pg C yr-1</td>\n",
       "      <td>1.51</td>\n",
       "    </tr>\n",
       "    <tr>\n",
       "      <th>179</th>\n",
       "      <td>2018</td>\n",
       "      <td>source</td>\n",
       "      <td>atmospheric growth</td>\n",
       "      <td>Pg C yr-1</td>\n",
       "      <td>5.16</td>\n",
       "    </tr>\n",
       "    <tr>\n",
       "      <th>239</th>\n",
       "      <td>2018</td>\n",
       "      <td>sink</td>\n",
       "      <td>ocean sink</td>\n",
       "      <td>Pg C yr-1</td>\n",
       "      <td>2.63</td>\n",
       "    </tr>\n",
       "    <tr>\n",
       "      <th>299</th>\n",
       "      <td>2018</td>\n",
       "      <td>sink</td>\n",
       "      <td>land sink</td>\n",
       "      <td>Pg C yr-1</td>\n",
       "      <td>3.47</td>\n",
       "    </tr>\n",
       "  </tbody>\n",
       "</table>\n",
       "</div>"
      ],
      "text/plain": [
       "     year direction                       desc      units  value\n",
       "59   2018    source   fossil fuel and industry  Pg C yr-1   9.98\n",
       "119  2018    source  land-use change emissions  Pg C yr-1   1.51\n",
       "179  2018    source         atmospheric growth  Pg C yr-1   5.16\n",
       "239  2018      sink                 ocean sink  Pg C yr-1   2.63\n",
       "299  2018      sink                  land sink  Pg C yr-1   3.47"
      ]
     },
     "execution_count": 3,
     "metadata": {},
     "output_type": "execute_result"
    }
   ],
   "source": [
    "co2_budget_df = pd.read_csv('data/atmosphere_biogeochemistry/global_carbon_project_CO2/processed/global_carbon_budget_processed.csv')\n",
    "\n",
    "mask = co2_budget_df.Year == 2018\n",
    "\n",
    "current_co2_budget_df = co2_budget_df[mask].copy()\n",
    "columns = ['year', 'direction', 'desc', 'units', 'value']\n",
    "current_co2_budget_df.columns = columns\n",
    "current_co2_budget_df.head()"
   ]
  },
  {
   "cell_type": "code",
   "execution_count": 6,
   "metadata": {},
   "outputs": [
    {
     "data": {
      "image/png": "[encoded data removed]",
      "text/plain": [
       "<Figure size 201.6x288 with 1 Axes>"
      ]
     },
     "metadata": {},
     "output_type": "display_data"
    }
   ],
   "source": [
    "!mkdir -p figures/co2_budget\n",
    "figure = plt.figure(figsize=(2.8, 4))\n",
    "\n",
    "sources = ['fossil fuel and industry', 'land-use change emissions']\n",
    "c_order = ['red', 'dark_brown']\n",
    "bottom = np.zeros(1)\n",
    "xs = [1]\n",
    "for s, c in zip(sources, c_order):\n",
    "    mask = current_co2_budget_df.desc == s\n",
    "    vals = [current_co2_budget_df[mask]['value'].to_list()[0]]\n",
    "    plt.bar(xs, vals, bottom=bottom, color=colors[c], width=0.8)\n",
    "    bottom += vals\n",
    "\n",
    "sinks = ['ocean sink', 'land sink']\n",
    "c_order = ['blue', 'dark_green']\n",
    "xs = [2]\n",
    "for s, c in zip(sinks, c_order):\n",
    "    mask = current_co2_budget_df.desc == s\n",
    "    vals = [current_co2_budget_df[mask]['value'].to_list()[0]]\n",
    "    bottom -= vals\n",
    "    plt.bar(xs, vals, bottom=bottom, color=colors[c], width=0.8)\n",
    "    \n",
    "# Using their reported growth. \n",
    "# There is an accounting error of 5.37-5.16 = 0.21 Pg C! \n",
    "# Will not highlight in this format though. \n",
    "net_growth = 5.16\n",
    "plt.bar([3], [net_growth], color=colors['purple'], width=0.8)\n",
    "    \n",
    "plt.xlim(0.5, 3.5)\n",
    "plt.ylim(0, 13)\n",
    "plt.ylabel('CO2 emissions ($10^{12}$ kg carbon)', fontsize=10)\n",
    "plt.xticks([1, 2, 3], ['sources', 'sinks', 'net growth'])\n",
    "plt.tight_layout()\n",
    "\n",
    "plt.savefig('figures/co2_budget/budget2018.png', dpi=300)\n",
    "plt.savefig('figures/co2_budget/budget2018.svg')\n",
    "plt.savefig('figures/co2_budget/budget2018.pdf')\n",
    "plt.show()"
   ]
  },
  {
   "cell_type": "code",
   "execution_count": null,
   "metadata": {},
   "outputs": [],
   "source": []
  }
 ],
 "metadata": {
  "kernelspec": {
   "display_name": "Python 3",
   "language": "python",
   "name": "python3"
  },
  "language_info": {
   "codemirror_mode": {
    "name": "ipython",
    "version": 3
   },
   "file_extension": ".py",
   "mimetype": "text/x-python",
   "name": "python",
   "nbconvert_exporter": "python",
   "pygments_lexer": "ipython3",
   "version": "3.8.2"
  }
 },
 "nbformat": 4,
 "nbformat_minor": 4
}
