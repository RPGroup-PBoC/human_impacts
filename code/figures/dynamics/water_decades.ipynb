{
 "cells": [
  {
   "cell_type": "code",
   "execution_count": 1,
   "id": "e15b8a3e-8ca3-41ab-a76f-cc48c27782f9",
   "metadata": {},
   "outputs": [],
   "source": [
    "import numpy as np\n",
    "import pandas as pd\n",
    "import matplotlib.pyplot as plt\n",
    "import anthro.viz\n",
    "colors = anthro.viz.plotting_style()\n",
    "plt.rcParams[\"font.family\"] = \"Lucida Sans Unicode\""
   ]
  },
  {
   "cell_type": "code",
   "execution_count": 2,
   "id": "d9c0322a-e31a-4c67-a91b-242c57c51a4a",
   "metadata": {},
   "outputs": [],
   "source": [
    "#%% Load the population data \n",
    "pop_data = pd.read_csv('../../../data/anthropocentric/FAOSTAT_world_population/processed/FAOSTAT_rural_urban_population.csv')\n",
    "pop_data['pop_bil'] = pop_data['population'] / 1E9\n",
    "total_pop = pop_data.groupby(['year'])['pop_bil'].sum().reset_index()\n",
    "min_pop, max_pop = total_pop['pop_bil'].min(), total_pop['pop_bil'].max()"
   ]
  },
  {
   "cell_type": "code",
   "execution_count": 3,
   "id": "23c35710-5398-4c9d-b8e8-6084d3dc15c4",
   "metadata": {},
   "outputs": [],
   "source": [
    "h20 = pd.read_csv('../../../data/water/Qin2019_water_use/processed/Qin2019_category_volume_1980-2016.csv')\n",
    "merged = h20.merge(total_pop, on='year')"
   ]
  },
  {
   "cell_type": "code",
   "execution_count": 4,
   "id": "9222010d-5378-4c50-8a00-641ed4858578",
   "metadata": {},
   "outputs": [
    {
     "data": {
      "text/html": [
       "<div>\n",
       "<style scoped>\n",
       "    .dataframe tbody tr th:only-of-type {\n",
       "        vertical-align: middle;\n",
       "    }\n",
       "\n",
       "    .dataframe tbody tr th {\n",
       "        vertical-align: top;\n",
       "    }\n",
       "\n",
       "    .dataframe thead th {\n",
       "        text-align: right;\n",
       "    }\n",
       "</style>\n",
       "<table border=\"1\" class=\"dataframe\">\n",
       "  <thead>\n",
       "    <tr style=\"text-align: right;\">\n",
       "      <th></th>\n",
       "      <th>category</th>\n",
       "      <th>year</th>\n",
       "      <th>volume_km3</th>\n",
       "      <th>pop_bil</th>\n",
       "    </tr>\n",
       "  </thead>\n",
       "  <tbody>\n",
       "    <tr>\n",
       "      <th>0</th>\n",
       "      <td>agriculture</td>\n",
       "      <td>1980</td>\n",
       "      <td>850.8</td>\n",
       "      <td>4.458412</td>\n",
       "    </tr>\n",
       "    <tr>\n",
       "      <th>1</th>\n",
       "      <td>domestic_municipal</td>\n",
       "      <td>1980</td>\n",
       "      <td>32.6</td>\n",
       "      <td>4.458412</td>\n",
       "    </tr>\n",
       "    <tr>\n",
       "      <th>2</th>\n",
       "      <td>reservoir</td>\n",
       "      <td>1980</td>\n",
       "      <td>321.0</td>\n",
       "      <td>4.458412</td>\n",
       "    </tr>\n",
       "    <tr>\n",
       "      <th>3</th>\n",
       "      <td>thermal_power</td>\n",
       "      <td>1980</td>\n",
       "      <td>6.5</td>\n",
       "      <td>4.458412</td>\n",
       "    </tr>\n",
       "    <tr>\n",
       "      <th>4</th>\n",
       "      <td>agriculture</td>\n",
       "      <td>1981</td>\n",
       "      <td>869.9</td>\n",
       "      <td>4.537846</td>\n",
       "    </tr>\n",
       "  </tbody>\n",
       "</table>\n",
       "</div>"
      ],
      "text/plain": [
       "             category  year  volume_km3   pop_bil\n",
       "0         agriculture  1980       850.8  4.458412\n",
       "1  domestic_municipal  1980        32.6  4.458412\n",
       "2           reservoir  1980       321.0  4.458412\n",
       "3       thermal_power  1980         6.5  4.458412\n",
       "4         agriculture  1981       869.9  4.537846"
      ]
     },
     "execution_count": 4,
     "metadata": {},
     "output_type": "execute_result"
    }
   ],
   "source": [
    "merged.head()"
   ]
  },
  {
   "cell_type": "code",
   "execution_count": 5,
   "id": "1d60e007-823d-48cd-aa9e-7d698006c9aa",
   "metadata": {},
   "outputs": [],
   "source": [
    "decades = [1980, 1990, 2000, 2010, 2020]\n",
    "ag_decades = np.zeros(4)\n",
    "dom_decades = np.zeros(4)\n",
    "res_decades = np.zeros(4)\n",
    "power_decades = np.zeros(4)\n",
    "\n",
    "\n",
    "for i in range(len(decades)-1):\n",
    "    \n",
    "    decade = decades[i]\n",
    "    \n",
    "    df_decade = merged[merged['year']>= decade]\n",
    "    df_decade = merged[merged['year']< decades[i+1]]\n",
    "    \n",
    "    pop_decade = df_decade['pop_bil'].mean()\n",
    "    ag_decade = df_decade[df_decade['category']=='agriculture']['volume_km3'].mean() / pop_decade\n",
    "    dom_decade = df_decade[df_decade['category']=='domestic_municipal']['volume_km3'].mean() / pop_decade\n",
    "    res_decade = df_decade[df_decade['category']=='reservoir']['volume_km3'].mean() / pop_decade\n",
    "    power_decade = df_decade[df_decade['category']=='thermal_power']['volume_km3'].mean() / pop_decade\n",
    "    \n",
    "    ag_decades[i] = ag_decade\n",
    "    dom_decades[i] = dom_decade\n",
    "    res_decades[i] = res_decade\n",
    "    power_decades[i] = power_decade"
   ]
  },
  {
   "cell_type": "code",
   "execution_count": 9,
   "id": "d2b00323-0c76-48d8-80ac-7cd292557229",
   "metadata": {},
   "outputs": [
    {
     "data": {
      "image/png": "[encoded data removed]",
      "text/plain": [
       "<Figure size 108x54 with 1 Axes>"
      ]
     },
     "metadata": {},
     "output_type": "display_data"
    }
   ],
   "source": [
    "fig, ax = plt.subplots(1, 1, figsize=(1.5,0.75))\n",
    "\n",
    "ax.xaxis.set_tick_params(labelsize=6)\n",
    "ax.yaxis.set_tick_params(labelsize=6)\n",
    "#ax.set_ylabel('per capita [m$^{3}$]', fontsize=6)\n",
    "ax.set_xticks((1980, 1990, 2000, 2010))\n",
    "#ax.set_yticks((0, 5, 10))\n",
    "ax.set_ylim((np.min(ag_decades)*0.9,np.max(ag_decades)*1.1))\n",
    "\n",
    "ax.plot(decades[0:-1], ag_decades, 'o', ms=3, color=colors['green'])\n",
    "ax.vlines(decades[0:-1], 0, ag_decades, lw=0.5, color=colors['green'])\n",
    "\n",
    "plt.savefig('../../../figures/database_paper/ag_water_decades.svg')"
   ]
  },
  {
   "cell_type": "code",
   "execution_count": 10,
   "id": "c5f42fbc-f216-42cc-ac01-0db86b5ed77b",
   "metadata": {},
   "outputs": [
    {
     "data": {
      "image/png": "[encoded data removed]",
      "text/plain": [
       "<Figure size 108x54 with 1 Axes>"
      ]
     },
     "metadata": {},
     "output_type": "display_data"
    }
   ],
   "source": [
    "fig, ax = plt.subplots(1, 1, figsize=(1.5,0.75))\n",
    "\n",
    "ax.xaxis.set_tick_params(labelsize=6)\n",
    "ax.yaxis.set_tick_params(labelsize=6)\n",
    "#ax.set_ylabel('per capita [m$^{3}$]', fontsize=6)\n",
    "ax.set_xticks((1980, 1990, 2000, 2010))\n",
    "#ax.set_yticks((0, 5, 10))\n",
    "ax.set_ylim((np.min(dom_decades)*0.9,np.max(dom_decades)*1.1))\n",
    "\n",
    "ax.plot(decades[0:-1], dom_decades, 'o', ms=3, color='grey')\n",
    "ax.vlines(decades[0:-1], 0, dom_decades, lw=0.5, color='grey')\n",
    "\n",
    "plt.savefig('../../../figures/database_paper/dom_water_decades.svg')"
   ]
  },
  {
   "cell_type": "code",
   "execution_count": 11,
   "id": "b56332ea-6ae7-491d-9d3c-67f62e1872ce",
   "metadata": {},
   "outputs": [
    {
     "data": {
      "image/png": "[encoded data removed]",
      "text/plain": [
       "<Figure size 108x54 with 1 Axes>"
      ]
     },
     "metadata": {},
     "output_type": "display_data"
    }
   ],
   "source": [
    "fig, ax = plt.subplots(1, 1, figsize=(1.5,0.75))\n",
    "\n",
    "ax.xaxis.set_tick_params(labelsize=6)\n",
    "ax.yaxis.set_tick_params(labelsize=6)\n",
    "#ax.set_ylabel('per capita [m$^{3}$]', fontsize=6)\n",
    "ax.set_xticks((1980, 1990, 2000, 2010))\n",
    "#ax.set_yticks((0, 5, 10))\n",
    "ax.set_ylim((np.min(res_decades)*0.9,np.max(res_decades)*1.1))\n",
    "\n",
    "ax.plot(decades[0:-1], res_decades, 'o', ms=3, color=colors['blue'])\n",
    "ax.vlines(decades[0:-1], 0, res_decades, lw=0.5, color=colors['blue'])\n",
    "\n",
    "plt.savefig('../../../figures/database_paper/res_water_decades.svg')"
   ]
  },
  {
   "cell_type": "code",
   "execution_count": 12,
   "id": "d87db9e5-8607-4a9f-ae73-9a52e512c350",
   "metadata": {},
   "outputs": [
    {
     "data": {
      "image/png": "[encoded data removed]",
      "text/plain": [
       "<Figure size 108x54 with 1 Axes>"
      ]
     },
     "metadata": {},
     "output_type": "display_data"
    }
   ],
   "source": [
    "fig, ax = plt.subplots(1, 1, figsize=(1.5,0.75))\n",
    "\n",
    "ax.xaxis.set_tick_params(labelsize=6)\n",
    "ax.yaxis.set_tick_params(labelsize=6)\n",
    "#ax.set_ylabel('per capita [m$^{3}$]', fontsize=6)\n",
    "ax.set_xticks((1980, 1990, 2000, 2010))\n",
    "#ax.set_yticks((0, 5, 10))\n",
    "ax.set_ylim((np.min(power_decades)*0.9,np.max(power_decades)*1.1))\n",
    "\n",
    "ax.plot(decades[0:-1], power_decades, 'o', ms=3, color=colors['light_red'])\n",
    "ax.vlines(decades[0:-1], 0, power_decades, lw=0.5, color=colors['light_red'])\n",
    "\n",
    "plt.savefig('../../../figures/database_paper/power_water_decades.svg')"
   ]
  },
  {
   "cell_type": "code",
   "execution_count": 8,
   "id": "dcc49408-6a70-49e2-982b-5be158fbd315",
   "metadata": {},
   "outputs": [],
   "source": [
    "plt.rcParams[\"font.family\"] = \"Lucida Sans Unicode\""
   ]
  },
  {
   "cell_type": "code",
   "execution_count": null,
   "id": "0402c563-57d5-4505-bcd2-acf591115d31",
   "metadata": {},
   "outputs": [],
   "source": []
  }
 ],
 "metadata": {
  "kernelspec": {
   "display_name": "Python 3",
   "language": "python",
   "name": "python3"
  },
  "language_info": {
   "codemirror_mode": {
    "name": "ipython",
    "version": 3
   },
   "file_extension": ".py",
   "mimetype": "text/x-python",
   "name": "python",
   "nbconvert_exporter": "python",
   "pygments_lexer": "ipython3",
   "version": "3.8.10"
  }
 },
 "nbformat": 4,
 "nbformat_minor": 5
}
