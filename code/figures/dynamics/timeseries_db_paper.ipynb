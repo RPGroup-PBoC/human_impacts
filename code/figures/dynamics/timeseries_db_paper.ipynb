{
 "cells": [
  {
   "cell_type": "code",
   "execution_count": 1,
   "metadata": {},
   "outputs": [],
   "source": [
    "import numpy as np\n",
    "import pandas as pd\n",
    "import matplotlib.pyplot as plt\n",
    "import anthro.viz\n",
    "colors = anthro.viz.plotting_style()\n",
    "plt.rcParams[\"font.family\"] = \"Lucida Sans Unicode\""
   ]
  },
  {
   "cell_type": "code",
   "execution_count": 3,
   "metadata": {},
   "outputs": [
    {
     "data": {
      "text/html": [
       "<div>\n",
       "<style scoped>\n",
       "    .dataframe tbody tr th:only-of-type {\n",
       "        vertical-align: middle;\n",
       "    }\n",
       "\n",
       "    .dataframe tbody tr th {\n",
       "        vertical-align: top;\n",
       "    }\n",
       "\n",
       "    .dataframe thead th {\n",
       "        text-align: right;\n",
       "    }\n",
       "</style>\n",
       "<table border=\"1\" class=\"dataframe\">\n",
       "  <thead>\n",
       "    <tr style=\"text-align: right;\">\n",
       "      <th></th>\n",
       "      <th>animal</th>\n",
       "      <th>year</th>\n",
       "      <th>population_Mhd</th>\n",
       "    </tr>\n",
       "  </thead>\n",
       "  <tbody>\n",
       "    <tr>\n",
       "      <th>0</th>\n",
       "      <td>ass</td>\n",
       "      <td>1961</td>\n",
       "      <td>36.958302</td>\n",
       "    </tr>\n",
       "    <tr>\n",
       "      <th>1</th>\n",
       "      <td>ass</td>\n",
       "      <td>1962</td>\n",
       "      <td>35.599457</td>\n",
       "    </tr>\n",
       "    <tr>\n",
       "      <th>2</th>\n",
       "      <td>ass</td>\n",
       "      <td>1963</td>\n",
       "      <td>35.371329</td>\n",
       "    </tr>\n",
       "    <tr>\n",
       "      <th>3</th>\n",
       "      <td>ass</td>\n",
       "      <td>1964</td>\n",
       "      <td>36.118309</td>\n",
       "    </tr>\n",
       "    <tr>\n",
       "      <th>4</th>\n",
       "      <td>ass</td>\n",
       "      <td>1965</td>\n",
       "      <td>36.766287</td>\n",
       "    </tr>\n",
       "  </tbody>\n",
       "</table>\n",
       "</div>"
      ],
      "text/plain": [
       "  animal  year  population_Mhd\n",
       "0    ass  1961       36.958302\n",
       "1    ass  1962       35.599457\n",
       "2    ass  1963       35.371329\n",
       "3    ass  1964       36.118309\n",
       "4    ass  1965       36.766287"
      ]
     },
     "execution_count": 3,
     "metadata": {},
     "output_type": "execute_result"
    }
   ],
   "source": [
    "animal_data = pd.read_csv('../../../data/agriculture/FAOSTAT_livestock_population/processed/FAOSTAT_livestock_population.csv')\n",
    "animal_data.head()"
   ]
  },
  {
   "cell_type": "code",
   "execution_count": 10,
   "metadata": {},
   "outputs": [],
   "source": [
    "chicken_data = animal_data[animal_data['animal']=='chicken']\n",
    "cattle_data = animal_data[animal_data['animal']=='cattle']"
   ]
  },
  {
   "cell_type": "code",
   "execution_count": 2,
   "metadata": {},
   "outputs": [
    {
     "data": {
      "text/html": [
       "<div>\n",
       "<style scoped>\n",
       "    .dataframe tbody tr th:only-of-type {\n",
       "        vertical-align: middle;\n",
       "    }\n",
       "\n",
       "    .dataframe tbody tr th {\n",
       "        vertical-align: top;\n",
       "    }\n",
       "\n",
       "    .dataframe thead th {\n",
       "        text-align: right;\n",
       "    }\n",
       "</style>\n",
       "<table border=\"1\" class=\"dataframe\">\n",
       "  <thead>\n",
       "    <tr style=\"text-align: right;\">\n",
       "      <th></th>\n",
       "      <th>Year</th>\n",
       "      <th>population</th>\n",
       "    </tr>\n",
       "  </thead>\n",
       "  <tbody>\n",
       "    <tr>\n",
       "      <th>64</th>\n",
       "      <td>2014</td>\n",
       "      <td>7295290765</td>\n",
       "    </tr>\n",
       "    <tr>\n",
       "      <th>65</th>\n",
       "      <td>2015</td>\n",
       "      <td>7379797139</td>\n",
       "    </tr>\n",
       "    <tr>\n",
       "      <th>66</th>\n",
       "      <td>2016</td>\n",
       "      <td>7464022049</td>\n",
       "    </tr>\n",
       "    <tr>\n",
       "      <th>67</th>\n",
       "      <td>2017</td>\n",
       "      <td>7547858925</td>\n",
       "    </tr>\n",
       "    <tr>\n",
       "      <th>68</th>\n",
       "      <td>2018</td>\n",
       "      <td>7631091040</td>\n",
       "    </tr>\n",
       "  </tbody>\n",
       "</table>\n",
       "</div>"
      ],
      "text/plain": [
       "    Year  population\n",
       "64  2014  7295290765\n",
       "65  2015  7379797139\n",
       "66  2016  7464022049\n",
       "67  2017  7547858925\n",
       "68  2018  7631091040"
      ]
     },
     "execution_count": 2,
     "metadata": {},
     "output_type": "execute_result"
    }
   ],
   "source": [
    "human_population_data = pd.read_csv('../../../data/anthropocentric/FAOSTAT_world_population/processed/FAOSTAT_total_population.csv')\n",
    "human_population_data.tail()"
   ]
  },
  {
   "cell_type": "code",
   "execution_count": 26,
   "metadata": {},
   "outputs": [
    {
     "data": {
      "image/png": "[encoded data removed]",
      "text/plain": [
       "<Figure size 288x288 with 1 Axes>"
      ]
     },
     "metadata": {},
     "output_type": "display_data"
    }
   ],
   "source": [
    "#plot chicken population vs human population\n",
    "plt.figure(figsize=(4,4))\n",
    "\n",
    "plt.xlabel('human population [billion]', fontsize=8)\n",
    "plt.ylabel('livestock population [billion]', fontsize=8)\n",
    "\n",
    "plt.xticks((3, 5, 7), fontsize=8)\n",
    "plt.yticks((5, 10, 15, 20), fontsize=8)\n",
    "plt.plot(human_population_data['population'].values[10:-1]/1e9, chicken_data['population_Mhd'].values/1e3, '-o', label='chicken', markersize=2)\n",
    "plt.plot(human_population_data['population'].values[10:-1]/1e9, cattle_data['population_Mhd'].values/(1e3), '-o', label='cattle', markersize=2)\n",
    "\n",
    "plt.legend()\n",
    "plt.savefig('../../../figures/database_paper/chicken_cattle_timeseries.svg')"
   ]
  },
  {
   "cell_type": "code",
   "execution_count": 31,
   "metadata": {},
   "outputs": [
    {
     "data": {
      "text/html": [
       "<div>\n",
       "<style scoped>\n",
       "    .dataframe tbody tr th:only-of-type {\n",
       "        vertical-align: middle;\n",
       "    }\n",
       "\n",
       "    .dataframe tbody tr th {\n",
       "        vertical-align: top;\n",
       "    }\n",
       "\n",
       "    .dataframe thead th {\n",
       "        text-align: right;\n",
       "    }\n",
       "</style>\n",
       "<table border=\"1\" class=\"dataframe\">\n",
       "  <thead>\n",
       "    <tr style=\"text-align: right;\">\n",
       "      <th></th>\n",
       "      <th>Unnamed: 0</th>\n",
       "      <th>Year</th>\n",
       "      <th>concrete_Tt</th>\n",
       "      <th>aggregates_Tt</th>\n",
       "      <th>bricks_Tt</th>\n",
       "      <th>asphalt_Tt</th>\n",
       "      <th>metals_Tt</th>\n",
       "      <th>other_Tt</th>\n",
       "      <th>waste_Tt</th>\n",
       "      <th>total_Tt</th>\n",
       "    </tr>\n",
       "  </thead>\n",
       "  <tbody>\n",
       "    <tr>\n",
       "      <th>111</th>\n",
       "      <td>111</td>\n",
       "      <td>2011</td>\n",
       "      <td>0.335820</td>\n",
       "      <td>0.314733</td>\n",
       "      <td>0.079071</td>\n",
       "      <td>0.055001</td>\n",
       "      <td>0.029322</td>\n",
       "      <td>0.019457</td>\n",
       "      <td>0.234627</td>\n",
       "      <td>1.068030</td>\n",
       "    </tr>\n",
       "    <tr>\n",
       "      <th>112</th>\n",
       "      <td>112</td>\n",
       "      <td>2012</td>\n",
       "      <td>0.355099</td>\n",
       "      <td>0.322283</td>\n",
       "      <td>0.080495</td>\n",
       "      <td>0.056080</td>\n",
       "      <td>0.030283</td>\n",
       "      <td>0.019834</td>\n",
       "      <td>0.243201</td>\n",
       "      <td>1.107277</td>\n",
       "    </tr>\n",
       "    <tr>\n",
       "      <th>113</th>\n",
       "      <td>113</td>\n",
       "      <td>2013</td>\n",
       "      <td>0.375763</td>\n",
       "      <td>0.329753</td>\n",
       "      <td>0.081841</td>\n",
       "      <td>0.057102</td>\n",
       "      <td>0.031322</td>\n",
       "      <td>0.020234</td>\n",
       "      <td>0.252147</td>\n",
       "      <td>1.148162</td>\n",
       "    </tr>\n",
       "    <tr>\n",
       "      <th>114</th>\n",
       "      <td>114</td>\n",
       "      <td>2014</td>\n",
       "      <td>0.396741</td>\n",
       "      <td>0.337347</td>\n",
       "      <td>0.083149</td>\n",
       "      <td>0.058075</td>\n",
       "      <td>0.032345</td>\n",
       "      <td>0.020682</td>\n",
       "      <td>0.261476</td>\n",
       "      <td>1.189815</td>\n",
       "    </tr>\n",
       "    <tr>\n",
       "      <th>115</th>\n",
       "      <td>115</td>\n",
       "      <td>2015</td>\n",
       "      <td>0.417198</td>\n",
       "      <td>0.344460</td>\n",
       "      <td>0.084432</td>\n",
       "      <td>0.059013</td>\n",
       "      <td>0.033346</td>\n",
       "      <td>0.021163</td>\n",
       "      <td>0.271154</td>\n",
       "      <td>1.230765</td>\n",
       "    </tr>\n",
       "  </tbody>\n",
       "</table>\n",
       "</div>"
      ],
      "text/plain": [
       "     Unnamed: 0  Year  concrete_Tt  aggregates_Tt  bricks_Tt  asphalt_Tt  \\\n",
       "111         111  2011     0.335820       0.314733   0.079071    0.055001   \n",
       "112         112  2012     0.355099       0.322283   0.080495    0.056080   \n",
       "113         113  2013     0.375763       0.329753   0.081841    0.057102   \n",
       "114         114  2014     0.396741       0.337347   0.083149    0.058075   \n",
       "115         115  2015     0.417198       0.344460   0.084432    0.059013   \n",
       "\n",
       "     metals_Tt  other_Tt  waste_Tt  total_Tt  \n",
       "111   0.029322  0.019457  0.234627  1.068030  \n",
       "112   0.030283  0.019834  0.243201  1.107277  \n",
       "113   0.031322  0.020234  0.252147  1.148162  \n",
       "114   0.032345  0.020682  0.261476  1.189815  \n",
       "115   0.033346  0.021163  0.271154  1.230765  "
      ]
     },
     "execution_count": 31,
     "metadata": {},
     "output_type": "execute_result"
    }
   ],
   "source": [
    "anthropomass_data = pd.read_csv('../../../data/anthropocentric/Elhacham2020_anthropomass/processed/anthopogenic_mass_2015_processed.csv')\n",
    "anthropomass_data.tail()"
   ]
  },
  {
   "cell_type": "code",
   "execution_count": 39,
   "metadata": {},
   "outputs": [],
   "source": [
    "plt.rcParams[\"font.family\"] = \"Lucida Sans Unicode\""
   ]
  },
  {
   "cell_type": "code",
   "execution_count": 40,
   "metadata": {},
   "outputs": [
    {
     "data": {
      "image/png": "[encoded data removed]",
      "text/plain": [
       "<Figure size 288x288 with 1 Axes>"
      ]
     },
     "metadata": {},
     "output_type": "display_data"
    }
   ],
   "source": [
    "#plot anthropomass vs human population\n",
    "plt.figure(figsize=(4,4))\n",
    "\n",
    "plt.xlabel('human population [billion]', fontsize=8)\n",
    "plt.ylabel('anthropomass [10$^{15}$ kg]')\n",
    "\n",
    "plt.xticks((3,5,7), fontsize=8)\n",
    "plt.yticks((0.4,0.8,1.2), fontsize=8)\n",
    "plt.plot(human_population_data['population'].values[0:-3]/1e9, anthropomass_data['total_Tt'].values[49:-1] ,'-o', markersize=2)\n",
    "\n",
    "plt.savefig('../../../figures/database_paper/anthropomass_timeseries.svg')"
   ]
  },
  {
   "cell_type": "code",
   "execution_count": 37,
   "metadata": {},
   "outputs": [],
   "source": [
    "#%% Load the population data \n",
    "pop_data = pd.read_csv('../../../data/anthropocentric/FAOSTAT_world_population/processed/FAOSTAT_rural_urban_population.csv')\n",
    "pop_data['pop_bil'] = pop_data['population'] / 1E9\n",
    "total_pop = pop_data.groupby(['year'])['pop_bil'].sum().reset_index()\n",
    "min_pop, max_pop = total_pop['pop_bil'].min(), total_pop['pop_bil'].max()"
   ]
  },
  {
   "cell_type": "code",
   "execution_count": 46,
   "metadata": {},
   "outputs": [],
   "source": [
    "anthropo = pd.read_csv('../../../data/anthropocentric/Elhacham2020_anthropomass/processed/anthopogenic_mass_2015_processed.csv')\n",
    "# Tidy\n",
    "anthropo.rename(columns={'Year':'year'}, inplace=True)\n",
    "merged = anthropo.merge(total_pop, on='year')\n",
    "merged.dropna(inplace=True)\n",
    "merged['bricks_asphalt'] = merged['bricks_Tt'].values + merged['asphalt_Tt'].values\n",
    "#merged['all_others'] = merged['metals_Tt'].values + merged['waste_Tt'].values + merged['other_Tt']\n",
    "\n",
    "merged['all_others'] = merged['metals_Tt'].values + merged['other_Tt']"
   ]
  },
  {
   "cell_type": "code",
   "execution_count": 49,
   "metadata": {},
   "outputs": [
    {
     "data": {
      "text/html": [
       "<div>\n",
       "<style scoped>\n",
       "    .dataframe tbody tr th:only-of-type {\n",
       "        vertical-align: middle;\n",
       "    }\n",
       "\n",
       "    .dataframe tbody tr th {\n",
       "        vertical-align: top;\n",
       "    }\n",
       "\n",
       "    .dataframe thead th {\n",
       "        text-align: right;\n",
       "    }\n",
       "</style>\n",
       "<table border=\"1\" class=\"dataframe\">\n",
       "  <thead>\n",
       "    <tr style=\"text-align: right;\">\n",
       "      <th></th>\n",
       "      <th>Unnamed: 0</th>\n",
       "      <th>year</th>\n",
       "      <th>concrete_Tt</th>\n",
       "      <th>aggregates_Tt</th>\n",
       "      <th>bricks_Tt</th>\n",
       "      <th>asphalt_Tt</th>\n",
       "      <th>metals_Tt</th>\n",
       "      <th>other_Tt</th>\n",
       "      <th>waste_Tt</th>\n",
       "      <th>total_Tt</th>\n",
       "      <th>pop_bil</th>\n",
       "      <th>bricks_asphalt</th>\n",
       "      <th>all_others</th>\n",
       "    </tr>\n",
       "  </thead>\n",
       "  <tbody>\n",
       "    <tr>\n",
       "      <th>0</th>\n",
       "      <td>50</td>\n",
       "      <td>1950</td>\n",
       "      <td>0.013634</td>\n",
       "      <td>0.038438</td>\n",
       "      <td>0.017360</td>\n",
       "      <td>0.001994</td>\n",
       "      <td>0.004221</td>\n",
       "      <td>0.006379</td>\n",
       "      <td>0.026745</td>\n",
       "      <td>0.108770</td>\n",
       "      <td>2.536275</td>\n",
       "      <td>0.019354</td>\n",
       "      <td>0.010600</td>\n",
       "    </tr>\n",
       "    <tr>\n",
       "      <th>1</th>\n",
       "      <td>51</td>\n",
       "      <td>1951</td>\n",
       "      <td>0.014360</td>\n",
       "      <td>0.039760</td>\n",
       "      <td>0.017477</td>\n",
       "      <td>0.002227</td>\n",
       "      <td>0.004347</td>\n",
       "      <td>0.006446</td>\n",
       "      <td>0.027656</td>\n",
       "      <td>0.112272</td>\n",
       "      <td>2.583817</td>\n",
       "      <td>0.019704</td>\n",
       "      <td>0.010793</td>\n",
       "    </tr>\n",
       "    <tr>\n",
       "      <th>2</th>\n",
       "      <td>52</td>\n",
       "      <td>1952</td>\n",
       "      <td>0.015154</td>\n",
       "      <td>0.041185</td>\n",
       "      <td>0.017600</td>\n",
       "      <td>0.002483</td>\n",
       "      <td>0.004477</td>\n",
       "      <td>0.006518</td>\n",
       "      <td>0.028598</td>\n",
       "      <td>0.116014</td>\n",
       "      <td>2.630584</td>\n",
       "      <td>0.020082</td>\n",
       "      <td>0.010995</td>\n",
       "    </tr>\n",
       "    <tr>\n",
       "      <th>3</th>\n",
       "      <td>53</td>\n",
       "      <td>1953</td>\n",
       "      <td>0.016047</td>\n",
       "      <td>0.042648</td>\n",
       "      <td>0.017721</td>\n",
       "      <td>0.002754</td>\n",
       "      <td>0.004629</td>\n",
       "      <td>0.006593</td>\n",
       "      <td>0.029570</td>\n",
       "      <td>0.119962</td>\n",
       "      <td>2.677230</td>\n",
       "      <td>0.020475</td>\n",
       "      <td>0.011222</td>\n",
       "    </tr>\n",
       "    <tr>\n",
       "      <th>4</th>\n",
       "      <td>54</td>\n",
       "      <td>1954</td>\n",
       "      <td>0.017036</td>\n",
       "      <td>0.044238</td>\n",
       "      <td>0.017843</td>\n",
       "      <td>0.003040</td>\n",
       "      <td>0.004812</td>\n",
       "      <td>0.006673</td>\n",
       "      <td>0.030584</td>\n",
       "      <td>0.124226</td>\n",
       "      <td>2.724302</td>\n",
       "      <td>0.020883</td>\n",
       "      <td>0.011485</td>\n",
       "    </tr>\n",
       "  </tbody>\n",
       "</table>\n",
       "</div>"
      ],
      "text/plain": [
       "   Unnamed: 0  year  concrete_Tt  aggregates_Tt  bricks_Tt  asphalt_Tt  \\\n",
       "0          50  1950     0.013634       0.038438   0.017360    0.001994   \n",
       "1          51  1951     0.014360       0.039760   0.017477    0.002227   \n",
       "2          52  1952     0.015154       0.041185   0.017600    0.002483   \n",
       "3          53  1953     0.016047       0.042648   0.017721    0.002754   \n",
       "4          54  1954     0.017036       0.044238   0.017843    0.003040   \n",
       "\n",
       "   metals_Tt  other_Tt  waste_Tt  total_Tt   pop_bil  bricks_asphalt  \\\n",
       "0   0.004221  0.006379  0.026745  0.108770  2.536275        0.019354   \n",
       "1   0.004347  0.006446  0.027656  0.112272  2.583817        0.019704   \n",
       "2   0.004477  0.006518  0.028598  0.116014  2.630584        0.020082   \n",
       "3   0.004629  0.006593  0.029570  0.119962  2.677230        0.020475   \n",
       "4   0.004812  0.006673  0.030584  0.124226  2.724302        0.020883   \n",
       "\n",
       "   all_others  \n",
       "0    0.010600  \n",
       "1    0.010793  \n",
       "2    0.010995  \n",
       "3    0.011222  \n",
       "4    0.011485  "
      ]
     },
     "execution_count": 49,
     "metadata": {},
     "output_type": "execute_result"
    }
   ],
   "source": [
    "merged.head()"
   ]
  },
  {
   "cell_type": "code",
   "execution_count": 54,
   "metadata": {},
   "outputs": [
    {
     "data": {
      "image/png": "[encoded data removed]",
      "text/plain": [
       "<Figure size 144x144 with 1 Axes>"
      ]
     },
     "metadata": {},
     "output_type": "display_data"
    }
   ],
   "source": [
    "fig, ax =  plt.subplots(1, 1, figsize=(2, 2))\n",
    "\n",
    "# Format the eaxes\n",
    "ax.xaxis.set_tick_params(labelsize=6)\n",
    "ax.yaxis.set_tick_params(labelsize=6)\n",
    "ax.set_xlim([1950, 2018])\n",
    "\n",
    "\n",
    "ax.set_xlabel('year', fontsize=6)\n",
    "ax.set_ylabel('anthropomass [10$^{15}$ kg]', fontsize=6)\n",
    "\n",
    "ax.stackplot(merged['year'].values,\n",
    "                merged['concrete_Tt'].values,\n",
    "                merged['aggregates_Tt'].values,\n",
    "                merged['bricks_asphalt'].values,\n",
    "                merged['waste_Tt'].values,\n",
    "                merged['all_others'].values,\n",
    "                                colors=['darkgrey', 'grey', colors['green'], colors['light_red'], \n",
    "                                        colors['blue']],\n",
    "                                linewidth=0.25)\n",
    "plt.savefig('../../../figures/database_paper/anthropomass_waste_stack.svg', bbox_inches='tight')\n",
    "\n"
   ]
  },
  {
   "cell_type": "code",
   "execution_count": 49,
   "metadata": {},
   "outputs": [],
   "source": [
    "brick_yearly = merged['bricks_asphalt'].values[1:-1] - merged['bricks_asphalt'].values[0:-2]\n",
    "concrete_yearly = merged['concrete_Tt'].values[1:-1] - merged['concrete_Tt'].values[0:-2]\n",
    "agg_yearly = merged['aggregates_Tt'].values[1:-1] - merged['aggregates_Tt'].values[0:-2]\n",
    "others_yearly = merged['all_others'].values[1:-1] - merged['all_others'].values[0:-2]\n",
    "\n",
    "materials_yearly_dict = {\n",
    "    'bricks_asphalt' : brick_yearly*100,\n",
    "    'concrete': concrete_yearly*100,\n",
    "    'aggregates' : agg_yearly*100,\n",
    "    'other': others_yearly*100,\n",
    "    'pop_bil': merged['pop_bil'].values[1:-1]\n",
    "}\n",
    "materials_yearly_df = pd.DataFrame(materials_yearly_dict)"
   ]
  },
  {
   "cell_type": "code",
   "execution_count": 50,
   "metadata": {},
   "outputs": [
    {
     "data": {
      "image/png": "[encoded data removed]",
      "text/plain": [
       "<Figure size 144x144 with 1 Axes>"
      ]
     },
     "metadata": {},
     "output_type": "display_data"
    }
   ],
   "source": [
    "fig, ax =  plt.subplots(1, 1, figsize=(2, 2))\n",
    "\n",
    "# Format the eaxes\n",
    "ax.xaxis.set_tick_params(labelsize=6)\n",
    "ax.yaxis.set_tick_params(labelsize=6)\n",
    "ax.set_xlim([min_pop, max_pop])\n",
    "\n",
    "\n",
    "ax.set_xlabel('population [billion]', fontsize=6)\n",
    "ax.set_ylabel('anthropomass [10$^{13}$ kg]', fontsize=6)\n",
    "\n",
    "ax.stackplot(materials_yearly_df['pop_bil'].values,\n",
    "                materials_yearly_df['concrete'].values,\n",
    "                materials_yearly_df['aggregates'].values,\n",
    "                materials_yearly_df['bricks_asphalt'].values,\n",
    "                materials_yearly_df['other'].values,\n",
    "                                colors=['darkgrey', 'grey', colors['green'], \n",
    "                                        colors['blue']],\n",
    "                                linewidth=0.25)\n",
    "plt.savefig('../../../figures/database_paper/anthropomass_yearly_stack.svg', bbox_inches='tight')\n"
   ]
  },
  {
   "cell_type": "code",
   "execution_count": 25,
   "metadata": {},
   "outputs": [
    {
     "data": {
      "text/html": [
       "<div>\n",
       "<style scoped>\n",
       "    .dataframe tbody tr th:only-of-type {\n",
       "        vertical-align: middle;\n",
       "    }\n",
       "\n",
       "    .dataframe tbody tr th {\n",
       "        vertical-align: top;\n",
       "    }\n",
       "\n",
       "    .dataframe thead th {\n",
       "        text-align: right;\n",
       "    }\n",
       "</style>\n",
       "<table border=\"1\" class=\"dataframe\">\n",
       "  <thead>\n",
       "    <tr style=\"text-align: right;\">\n",
       "      <th></th>\n",
       "      <th>Year</th>\n",
       "      <th>Flux into atmosphere</th>\n",
       "      <th>Sink/source type</th>\n",
       "      <th>Reported value</th>\n",
       "      <th>Units</th>\n",
       "      <th>Value</th>\n",
       "    </tr>\n",
       "  </thead>\n",
       "  <tbody>\n",
       "    <tr>\n",
       "      <th>1915</th>\n",
       "      <td>2014</td>\n",
       "      <td>sink</td>\n",
       "      <td>natural sink</td>\n",
       "      <td>standard deviation</td>\n",
       "      <td>Pg CO2 yr-1</td>\n",
       "      <td>3.78</td>\n",
       "    </tr>\n",
       "    <tr>\n",
       "      <th>1916</th>\n",
       "      <td>2015</td>\n",
       "      <td>sink</td>\n",
       "      <td>natural sink</td>\n",
       "      <td>standard deviation</td>\n",
       "      <td>Pg CO2 yr-1</td>\n",
       "      <td>3.78</td>\n",
       "    </tr>\n",
       "    <tr>\n",
       "      <th>1917</th>\n",
       "      <td>2016</td>\n",
       "      <td>sink</td>\n",
       "      <td>natural sink</td>\n",
       "      <td>standard deviation</td>\n",
       "      <td>Pg CO2 yr-1</td>\n",
       "      <td>3.78</td>\n",
       "    </tr>\n",
       "    <tr>\n",
       "      <th>1918</th>\n",
       "      <td>2017</td>\n",
       "      <td>sink</td>\n",
       "      <td>natural sink</td>\n",
       "      <td>standard deviation</td>\n",
       "      <td>Pg CO2 yr-1</td>\n",
       "      <td>3.78</td>\n",
       "    </tr>\n",
       "    <tr>\n",
       "      <th>1919</th>\n",
       "      <td>2018</td>\n",
       "      <td>sink</td>\n",
       "      <td>natural sink</td>\n",
       "      <td>standard deviation</td>\n",
       "      <td>Pg CO2 yr-1</td>\n",
       "      <td>3.78</td>\n",
       "    </tr>\n",
       "  </tbody>\n",
       "</table>\n",
       "</div>"
      ],
      "text/plain": [
       "      Year Flux into atmosphere Sink/source type      Reported value  \\\n",
       "1915  2014                 sink     natural sink  standard deviation   \n",
       "1916  2015                 sink     natural sink  standard deviation   \n",
       "1917  2016                 sink     natural sink  standard deviation   \n",
       "1918  2017                 sink     natural sink  standard deviation   \n",
       "1919  2018                 sink     natural sink  standard deviation   \n",
       "\n",
       "            Units  Value  \n",
       "1915  Pg CO2 yr-1   3.78  \n",
       "1916  Pg CO2 yr-1   3.78  \n",
       "1917  Pg CO2 yr-1   3.78  \n",
       "1918  Pg CO2 yr-1   3.78  \n",
       "1919  Pg CO2 yr-1   3.78  "
      ]
     },
     "execution_count": 25,
     "metadata": {},
     "output_type": "execute_result"
    }
   ],
   "source": [
    "co2_emissions_data = pd.read_csv('../../../data/atmosphere_biogeochemistry/global_carbon_project_CO2/processed/global_carbon_budget_processed.csv')\n",
    "co2_emissions_data.tail()"
   ]
  },
  {
   "cell_type": "code",
   "execution_count": 42,
   "metadata": {},
   "outputs": [
    {
     "data": {
      "text/plain": [
       "array(['fossil fuel and industry', 'land-use change emissions',\n",
       "       'atmospheric growth', 'ocean sink', 'land sink',\n",
       "       'budget imbalance', 'anthropogenic emissions', 'natural sink'],\n",
       "      dtype=object)"
      ]
     },
     "execution_count": 42,
     "metadata": {},
     "output_type": "execute_result"
    }
   ],
   "source": [
    "co2_emissions_data['Sink/source type'].unique()"
   ]
  },
  {
   "cell_type": "code",
   "execution_count": 47,
   "metadata": {},
   "outputs": [
    {
     "data": {
      "text/plain": [
       "array(['Pg C yr-1', 'Pg CO2 yr-1'], dtype=object)"
      ]
     },
     "execution_count": 47,
     "metadata": {},
     "output_type": "execute_result"
    }
   ],
   "source": [
    "co2_emissions_data['Units'].unique()"
   ]
  },
  {
   "cell_type": "code",
   "execution_count": 48,
   "metadata": {},
   "outputs": [],
   "source": [
    "co2_anthro = co2_emissions_data[co2_emissions_data['Sink/source type']=='anthropogenic emissions']\n",
    "co2_anthro_mean = co2_anthro[co2_anthro['Reported value']=='mean']\n",
    "co2_anthro_mean = co2_anthro_mean[co2_anthro_mean['Units']=='Pg CO2 yr-1']"
   ]
  },
  {
   "cell_type": "code",
   "execution_count": 37,
   "metadata": {},
   "outputs": [
    {
     "data": {
      "text/html": [
       "<div>\n",
       "<style scoped>\n",
       "    .dataframe tbody tr th:only-of-type {\n",
       "        vertical-align: middle;\n",
       "    }\n",
       "\n",
       "    .dataframe tbody tr th {\n",
       "        vertical-align: top;\n",
       "    }\n",
       "\n",
       "    .dataframe thead th {\n",
       "        text-align: right;\n",
       "    }\n",
       "</style>\n",
       "<table border=\"1\" class=\"dataframe\">\n",
       "  <thead>\n",
       "    <tr style=\"text-align: right;\">\n",
       "      <th></th>\n",
       "      <th>year</th>\n",
       "      <th>Flux into atmosphere</th>\n",
       "      <th>Sink/source type</th>\n",
       "      <th>Reported value</th>\n",
       "      <th>Units</th>\n",
       "      <th>Value</th>\n",
       "      <th>population</th>\n",
       "    </tr>\n",
       "  </thead>\n",
       "  <tbody>\n",
       "    <tr>\n",
       "      <th>0</th>\n",
       "      <td>1959</td>\n",
       "      <td>source</td>\n",
       "      <td>fossil fuel and industry</td>\n",
       "      <td>mean</td>\n",
       "      <td>Pg CO2 yr-1</td>\n",
       "      <td>8.86</td>\n",
       "      <td>2979576185</td>\n",
       "    </tr>\n",
       "    <tr>\n",
       "      <th>1</th>\n",
       "      <td>1959</td>\n",
       "      <td>source</td>\n",
       "      <td>land-use change emissions</td>\n",
       "      <td>mean</td>\n",
       "      <td>Pg CO2 yr-1</td>\n",
       "      <td>6.64</td>\n",
       "      <td>2979576185</td>\n",
       "    </tr>\n",
       "    <tr>\n",
       "      <th>2</th>\n",
       "      <td>1959</td>\n",
       "      <td>source</td>\n",
       "      <td>atmospheric growth</td>\n",
       "      <td>mean</td>\n",
       "      <td>Pg CO2 yr-1</td>\n",
       "      <td>7.50</td>\n",
       "      <td>2979576185</td>\n",
       "    </tr>\n",
       "    <tr>\n",
       "      <th>3</th>\n",
       "      <td>1959</td>\n",
       "      <td>sink</td>\n",
       "      <td>ocean sink</td>\n",
       "      <td>mean</td>\n",
       "      <td>Pg CO2 yr-1</td>\n",
       "      <td>2.78</td>\n",
       "      <td>2979576185</td>\n",
       "    </tr>\n",
       "    <tr>\n",
       "      <th>4</th>\n",
       "      <td>1959</td>\n",
       "      <td>sink</td>\n",
       "      <td>land sink</td>\n",
       "      <td>mean</td>\n",
       "      <td>Pg CO2 yr-1</td>\n",
       "      <td>2.07</td>\n",
       "      <td>2979576185</td>\n",
       "    </tr>\n",
       "  </tbody>\n",
       "</table>\n",
       "</div>"
      ],
      "text/plain": [
       "   year Flux into atmosphere           Sink/source type Reported value  \\\n",
       "0  1959               source   fossil fuel and industry           mean   \n",
       "1  1959               source  land-use change emissions           mean   \n",
       "2  1959               source         atmospheric growth           mean   \n",
       "3  1959                 sink                 ocean sink           mean   \n",
       "4  1959                 sink                  land sink           mean   \n",
       "\n",
       "         Units  Value  population  \n",
       "0  Pg CO2 yr-1   8.86  2979576185  \n",
       "1  Pg CO2 yr-1   6.64  2979576185  \n",
       "2  Pg CO2 yr-1   7.50  2979576185  \n",
       "3  Pg CO2 yr-1   2.78  2979576185  \n",
       "4  Pg CO2 yr-1   2.07  2979576185  "
      ]
     },
     "execution_count": 37,
     "metadata": {},
     "output_type": "execute_result"
    }
   ],
   "source": [
    "co2_mean = co2_emissions_data[co2_emissions_data['Reported value']=='mean']\n",
    "co2_mean = co2_mean[co2_mean['Units']=='Pg CO2 yr-1']\n",
    "co2_mean.rename(columns={'Year': 'year'}, inplace=True)\n",
    "co2_merged = co2_mean.merge(human_population_data, on='year')\n",
    "co2_merged.dropna(inplace=True)\n",
    "co2_merged.head()"
   ]
  },
  {
   "cell_type": "code",
   "execution_count": 42,
   "metadata": {},
   "outputs": [],
   "source": [
    "pop_min = co2_merged['population'].values[0]/1e9\n",
    "pop_max = co2_merged['population'].values[-1]/1e9"
   ]
  },
  {
   "cell_type": "code",
   "execution_count": 44,
   "metadata": {},
   "outputs": [
    {
     "data": {
      "image/png": "[encoded data removed]",
      "text/plain": [
       "<Figure size 144x144 with 1 Axes>"
      ]
     },
     "metadata": {},
     "output_type": "display_data"
    }
   ],
   "source": [
    "fig, ax =  plt.subplots(1, 1, figsize=(2, 2))\n",
    "\n",
    "# Format the eaxes\n",
    "ax.xaxis.set_tick_params(labelsize=6)\n",
    "ax.yaxis.set_tick_params(labelsize=6)\n",
    "ax.set_xlim([pop_min, pop_max])\n",
    "\n",
    "\n",
    "ax.set_xlabel('population [billion]', fontsize=6)\n",
    "ax.set_ylabel('CO$_{2}$ emissions [Pg CO$_{2}$ yr$^{-1}$]', fontsize=6)\n",
    "\n",
    "ax.stackplot(co2_merged[co2_merged['Sink/source type']=='fossil fuel and industry']['population'].values/1e9, \n",
    "                     co2_merged[co2_merged['Sink/source type']=='fossil fuel and industry']['Value'].values,\n",
    "                     co2_merged[co2_merged['Sink/source type']=='land-use change emissions']['Value'].values, \n",
    "                                  colors=['darkgrey', colors['green']],\n",
    "                                linewidth=0.25)\n",
    "plt.savefig('../../../figures/database_paper/co2_stack.svg', bbox_inches='tight')"
   ]
  },
  {
   "cell_type": "code",
   "execution_count": 60,
   "metadata": {},
   "outputs": [
    {
     "data": {
      "image/png": "[encoded data removed]",
      "text/plain": [
       "<Figure size 288x288 with 1 Axes>"
      ]
     },
     "metadata": {},
     "output_type": "display_data"
    }
   ],
   "source": [
    "plt.figure(figsize=(4,4))\n",
    "\n",
    "plt.xlabel('human population [billion]', fontsize=8)\n",
    "plt.ylabel('CO$_{2}$ emissions [10$^{12}$ kg CO$_{2}$ / yr]', fontsize=8)\n",
    "plt.ylim((12,43))\n",
    "plt.xticks((3,5,7), fontsize=8)\n",
    "plt.yticks((20, 30, 40), fontsize=8)\n",
    "\n",
    "plt.plot(human_population_data['population'].values[8:-1]/1e9, co2_anthro_mean['Value'].values, '-o', markersize=2)\n",
    "\n",
    "plt.savefig('../../../figures/database_paper/co2_emissions_timeseries.svg')"
   ]
  },
  {
   "cell_type": "code",
   "execution_count": 91,
   "metadata": {},
   "outputs": [],
   "source": [
    "params,cov = scipy.optimize.curve_fit(lin_fun, human_population_data['population'].values[8:-1], co2_anthro_mean['Value'].values)\n",
    "exes = human_population_data['population'].values[8:-1]\n",
    "ys = lin_fun(human_population_data['population'].values[8:-1], params[0], params[1])"
   ]
  },
  {
   "cell_type": "code",
   "execution_count": 93,
   "metadata": {},
   "outputs": [
    {
     "data": {
      "image/png": "[encoded data removed]",
      "text/plain": [
       "<Figure size 288x288 with 1 Axes>"
      ]
     },
     "metadata": {},
     "output_type": "display_data"
    }
   ],
   "source": [
    "plt.figure(figsize=(4,4))\n",
    "\n",
    "plt.xlabel('human population [billion]', fontsize=8)\n",
    "plt.ylabel('CO$_{2}$ emissions [10$^{12}$ kg CO$_{2}$ / yr]', fontsize=8)\n",
    "plt.ylim((12,43))\n",
    "plt.xticks((3,5,7), fontsize=8)\n",
    "plt.yticks((20, 30, 40), fontsize=8)\n",
    "\n",
    "plt.plot(human_population_data['population'].values[8:-1]/1e9, co2_anthro_mean['Value'].values, '-o', markersize=2)\n",
    "plt.plot(exes/1e9, ys, color='black')\n",
    "\n",
    "plt.savefig('../../../figures/database_paper/co2_emissions_timeseries_with_fit.svg')"
   ]
  },
  {
   "cell_type": "code",
   "execution_count": 5,
   "metadata": {},
   "outputs": [
    {
     "data": {
      "text/html": [
       "<div>\n",
       "<style scoped>\n",
       "    .dataframe tbody tr th:only-of-type {\n",
       "        vertical-align: middle;\n",
       "    }\n",
       "\n",
       "    .dataframe tbody tr th {\n",
       "        vertical-align: top;\n",
       "    }\n",
       "\n",
       "    .dataframe thead th {\n",
       "        text-align: right;\n",
       "    }\n",
       "</style>\n",
       "<table border=\"1\" class=\"dataframe\">\n",
       "  <thead>\n",
       "    <tr style=\"text-align: right;\">\n",
       "      <th></th>\n",
       "      <th>category</th>\n",
       "      <th>year</th>\n",
       "      <th>volume_km3</th>\n",
       "    </tr>\n",
       "  </thead>\n",
       "  <tbody>\n",
       "    <tr>\n",
       "      <th>0</th>\n",
       "      <td>agriculture</td>\n",
       "      <td>1980</td>\n",
       "      <td>850.8</td>\n",
       "    </tr>\n",
       "    <tr>\n",
       "      <th>1</th>\n",
       "      <td>agriculture</td>\n",
       "      <td>1981</td>\n",
       "      <td>869.9</td>\n",
       "    </tr>\n",
       "    <tr>\n",
       "      <th>2</th>\n",
       "      <td>agriculture</td>\n",
       "      <td>1982</td>\n",
       "      <td>884.0</td>\n",
       "    </tr>\n",
       "    <tr>\n",
       "      <th>3</th>\n",
       "      <td>agriculture</td>\n",
       "      <td>1983</td>\n",
       "      <td>896.1</td>\n",
       "    </tr>\n",
       "    <tr>\n",
       "      <th>4</th>\n",
       "      <td>agriculture</td>\n",
       "      <td>1984</td>\n",
       "      <td>908.1</td>\n",
       "    </tr>\n",
       "  </tbody>\n",
       "</table>\n",
       "</div>"
      ],
      "text/plain": [
       "      category  year  volume_km3\n",
       "0  agriculture  1980       850.8\n",
       "1  agriculture  1981       869.9\n",
       "2  agriculture  1982       884.0\n",
       "3  agriculture  1983       896.1\n",
       "4  agriculture  1984       908.1"
      ]
     },
     "execution_count": 5,
     "metadata": {},
     "output_type": "execute_result"
    }
   ],
   "source": [
    "h20_data = pd.read_csv('../../../data/water/Qin2019_water_use/processed/Qin2019_category_volume_1980-2016.csv')\n",
    "h20_data.head()"
   ]
  },
  {
   "cell_type": "code",
   "execution_count": 64,
   "metadata": {},
   "outputs": [],
   "source": [
    "h20_grouped = h20_data.groupby(by='year')\n",
    "h20_summed = h20_grouped.sum()"
   ]
  },
  {
   "cell_type": "code",
   "execution_count": 90,
   "metadata": {},
   "outputs": [
    {
     "data": {
      "image/png": "[encoded data removed]",
      "text/plain": [
       "<Figure size 288x288 with 1 Axes>"
      ]
     },
     "metadata": {},
     "output_type": "display_data"
    }
   ],
   "source": [
    "plt.figure(figsize=(4,4))\n",
    "\n",
    "plt.xlabel('human population [billion]', fontsize=8)\n",
    "plt.ylabel('water withdrawal [10$^{15}$ L / yr]', fontsize=8)\n",
    "\n",
    "plt.xticks((3, 5, 7), fontsize=8)\n",
    "plt.yticks((1.2, 1.4, 1.6, 1.8), fontsize=8)\n",
    "plt.plot(human_population_data['population'].values[29:-3]/1e9, h20_summed['volume_km3'].values/1e3, '-o', markersize=2)\n",
    "plt.plot(exes/1e9, ys/1e3, color='black')\n",
    "\n",
    "\n",
    "\n",
    "plt.savefig('../../../figures/database_paper/water_withdrawal_timeseries_with_fit.svg')"
   ]
  },
  {
   "cell_type": "code",
   "execution_count": 8,
   "metadata": {},
   "outputs": [
    {
     "data": {
      "text/html": [
       "<div>\n",
       "<style scoped>\n",
       "    .dataframe tbody tr th:only-of-type {\n",
       "        vertical-align: middle;\n",
       "    }\n",
       "\n",
       "    .dataframe tbody tr th {\n",
       "        vertical-align: top;\n",
       "    }\n",
       "\n",
       "    .dataframe thead th {\n",
       "        text-align: right;\n",
       "    }\n",
       "</style>\n",
       "<table border=\"1\" class=\"dataframe\">\n",
       "  <thead>\n",
       "    <tr style=\"text-align: right;\">\n",
       "      <th></th>\n",
       "      <th>category</th>\n",
       "      <th>year</th>\n",
       "      <th>volume_km3</th>\n",
       "      <th>population</th>\n",
       "    </tr>\n",
       "  </thead>\n",
       "  <tbody>\n",
       "    <tr>\n",
       "      <th>0</th>\n",
       "      <td>agriculture</td>\n",
       "      <td>1980</td>\n",
       "      <td>850.8</td>\n",
       "      <td>4458003514</td>\n",
       "    </tr>\n",
       "    <tr>\n",
       "      <th>1</th>\n",
       "      <td>domestic_municipal</td>\n",
       "      <td>1980</td>\n",
       "      <td>32.6</td>\n",
       "      <td>4458003514</td>\n",
       "    </tr>\n",
       "    <tr>\n",
       "      <th>2</th>\n",
       "      <td>reservoir</td>\n",
       "      <td>1980</td>\n",
       "      <td>321.0</td>\n",
       "      <td>4458003514</td>\n",
       "    </tr>\n",
       "    <tr>\n",
       "      <th>3</th>\n",
       "      <td>thermal_power</td>\n",
       "      <td>1980</td>\n",
       "      <td>6.5</td>\n",
       "      <td>4458003514</td>\n",
       "    </tr>\n",
       "    <tr>\n",
       "      <th>4</th>\n",
       "      <td>agriculture</td>\n",
       "      <td>1981</td>\n",
       "      <td>869.9</td>\n",
       "      <td>4536996762</td>\n",
       "    </tr>\n",
       "  </tbody>\n",
       "</table>\n",
       "</div>"
      ],
      "text/plain": [
       "             category  year  volume_km3  population\n",
       "0         agriculture  1980       850.8  4458003514\n",
       "1  domestic_municipal  1980        32.6  4458003514\n",
       "2           reservoir  1980       321.0  4458003514\n",
       "3       thermal_power  1980         6.5  4458003514\n",
       "4         agriculture  1981       869.9  4536996762"
      ]
     },
     "execution_count": 8,
     "metadata": {},
     "output_type": "execute_result"
    }
   ],
   "source": [
    "#stacked water withdrawals\n",
    "human_population_data.rename(columns={'Year': 'year'}, inplace=True)\n",
    "merged = h20_data.merge(human_population_data, on='year')\n",
    "merged.dropna(inplace=True)\n",
    "merged.head()"
   ]
  },
  {
   "cell_type": "code",
   "execution_count": 46,
   "metadata": {},
   "outputs": [],
   "source": [
    "pop_min = merged['population'].values[0]/1e9\n",
    "pop_max = merged['population'].values[-1]/1e9"
   ]
  },
  {
   "cell_type": "code",
   "execution_count": 48,
   "metadata": {},
   "outputs": [
    {
     "data": {
      "image/png": "[encoded data removed]",
      "text/plain": [
       "<Figure size 144x144 with 1 Axes>"
      ]
     },
     "metadata": {},
     "output_type": "display_data"
    }
   ],
   "source": [
    "fig, ax =  plt.subplots(1, 1, figsize=(2, 2))\n",
    "\n",
    "# Format the eaxes\n",
    "ax.xaxis.set_tick_params(labelsize=6)\n",
    "ax.yaxis.set_tick_params(labelsize=6)\n",
    "ax.set_xlim([pop_min, pop_max])\n",
    "\n",
    "\n",
    "ax.set_xlabel('population [billion]', fontsize=6)\n",
    "ax.set_ylabel('water withdrawal [km$^{3}$]', fontsize=6)\n",
    "\n",
    "ax.stackplot(merged[merged['category']=='agriculture']['population'].values/1e9, \n",
    "                     #merged[merged['category']=='thermal_power']['volume_km3'].values,\n",
    "                     merged[merged['category']=='domestic_municipal']['volume_km3'].values,\n",
    "                     merged[merged['category']=='reservoir']['volume_km3'].values,\n",
    "                     merged[merged['category']=='agriculture']['volume_km3'].values,  \n",
    "                                  colors=['grey', colors['blue'], \n",
    "                                        colors['green']],\n",
    "                                linewidth=0.25)\n",
    "plt.savefig('../../../figures/database_paper/water_stack.svg', bbox_inches='tight')"
   ]
  },
  {
   "cell_type": "code",
   "execution_count": 34,
   "metadata": {},
   "outputs": [
    {
     "data": {
      "text/plain": [
       "array(['monthly mean, filled'], dtype=object)"
      ]
     },
     "execution_count": 34,
     "metadata": {},
     "output_type": "execute_result"
    }
   ],
   "source": [
    "#co2 ppm\n",
    "co2_atm = pd.read_csv('../../../data/atmosphere_biogeochemistry/mauna_loa_co2_trend/processed/monthly_co2_data_processed.csv')\n",
    "co2_atm = co2_atm[co2_atm['Reported value']=='monthly mean, filled']\n",
    "co2_atm['Reported value'].unique()"
   ]
  },
  {
   "cell_type": "code",
   "execution_count": 35,
   "metadata": {},
   "outputs": [
    {
     "data": {
      "image/png": "[encoded data removed]",
      "text/plain": [
       "<Figure size 144x144 with 1 Axes>"
      ]
     },
     "metadata": {},
     "output_type": "display_data"
    }
   ],
   "source": [
    "fig, ax =  plt.subplots(1, 1, figsize=(2, 2))\n",
    "\n",
    "# Format the eaxes\n",
    "ax.xaxis.set_tick_params(labelsize=6)\n",
    "ax.yaxis.set_tick_params(labelsize=6)\n",
    "ax.set_xlim([1958, 2020])\n",
    "\n",
    "\n",
    "\n",
    "ax.set_xlabel('year', fontsize=6)\n",
    "ax.set_ylabel('atmospheric CO$_{2}$ [ppm]', fontsize=6)\n",
    "\n",
    "\n",
    "plt.plot(co2_atm['date (decimal)'].values, co2_atm['Concentration (ppm)'].values, '.', markersize=0.5)\n",
    "\n",
    "plt.savefig('../../../figures/database_paper/atmospheric_CO2.svg', bbox_inches='tight')"
   ]
  },
  {
   "cell_type": "code",
   "execution_count": 87,
   "metadata": {},
   "outputs": [
    {
     "data": {
      "text/plain": [
       "[<matplotlib.lines.Line2D at 0x7f9e03cf0d90>]"
      ]
     },
     "execution_count": 87,
     "metadata": {},
     "output_type": "execute_result"
    },
    {
     "data": {
      "image/png": "[encoded data removed]",
      "text/plain": [
       "<Figure size 432x288 with 1 Axes>"
      ]
     },
     "metadata": {},
     "output_type": "display_data"
    }
   ],
   "source": [
    "exes = human_population_data['population'].values[29:-3]\n",
    "ys = lin_fun(exes, params[0], params[1])\n",
    "\n",
    "plt.figure()\n",
    "plt.plot(exes/1e9, ys/1e3, color='black')\n",
    "plt.plot(human_population_data['population'].values[29:-3]/1e9, h20_summed['volume_km3'].values/1e3, '-o', markersize=2)\n",
    "\n"
   ]
  },
  {
   "cell_type": "markdown",
   "metadata": {},
   "source": [
    "do we have timeseries data for crops? it would be interesting to look at ag water versus crop yield over time"
   ]
  },
  {
   "cell_type": "code",
   "execution_count": 2,
   "metadata": {},
   "outputs": [],
   "source": [
    "pop_data = pd.read_csv('../../../data/anthropocentric/FAOSTAT_world_population/processed/FAOSTAT_rural_urban_population.csv')\n",
    "pop_data['pop_bil'] = pop_data['population'] / 1E9\n",
    "total_pop = pop_data.groupby(['year'])['pop_bil'].sum().reset_index()\n",
    "min_pop, max_pop = total_pop['pop_bil'].min(), total_pop['pop_bil'].max()"
   ]
  },
  {
   "cell_type": "code",
   "execution_count": 5,
   "metadata": {},
   "outputs": [
    {
     "data": {
      "image/png": "[encoded data removed]",
      "text/plain": [
       "<Figure size 144x144 with 1 Axes>"
      ]
     },
     "metadata": {},
     "output_type": "display_data"
    }
   ],
   "source": [
    "# Load livestock data \n",
    "livestock = pd.read_csv('../../../data/agriculture/FAOSTAT_livestock_population/processed/FAOSTAT_livestock_population.csv')\n",
    "livestock['category'] = 'other'\n",
    "livestock.loc[livestock['animal']=='cattle', 'category'] = 'cattle'\n",
    "livestock.loc[livestock['animal']=='chicken', 'category'] = 'chicken'\n",
    "livestock.loc[livestock['animal']=='swine', 'category'] = 'swine'\n",
    "\n",
    "livestock = livestock.groupby(['year', 'category'])['population_Mhd'].sum().reset_index()\n",
    "\n",
    "# Merge on population\n",
    "merged = livestock.merge(total_pop, on='year')\n",
    "merged.dropna(inplace=True)\n",
    "\n",
    "fig, ax =  plt.subplots(1, 1, figsize=(2, 2))\n",
    "\n",
    "# Format the eaxes\n",
    "ax.xaxis.set_tick_params(labelsize=6)\n",
    "ax.yaxis.set_tick_params(labelsize=6)\n",
    "ax.set_xlim([min_pop, max_pop])\n",
    "ax.set_xlim([3, max_pop])\n",
    "\n",
    "\n",
    "ax.set_xlabel('population [billion]', fontsize=6)\n",
    "ax.set_ylabel('livestock population [billion]', fontsize=6)\n",
    "\n",
    "ax.stackplot(merged['pop_bil'].unique(), \n",
    "                                       merged[merged['category']=='other']['population_Mhd']/1E3,\n",
    "                                       merged[merged['category']=='swine']['population_Mhd']/1E3, \n",
    "                                       merged[merged['category']=='cattle']['population_Mhd']/1E3,\n",
    "                                       merged[merged['category']=='chicken']['population_Mhd']/1E3, \n",
    "                                        colors=['grey', colors['light_red'], colors['blue'], \n",
    "                                        colors['green']],\n",
    "                                linewidth=0.25)\n",
    "plt.savefig('../../../figures/database_paper/livestock_stack.svg', bbox_inches='tight')\n",
    "\n"
   ]
  },
  {
   "cell_type": "code",
   "execution_count": 19,
   "metadata": {},
   "outputs": [],
   "source": [
    "plt.rcParams[\"font.family\"] = \"Lucida Sans Unicode\""
   ]
  },
  {
   "cell_type": "code",
   "execution_count": 7,
   "metadata": {},
   "outputs": [
    {
     "data": {
      "text/html": [
       "<div>\n",
       "<style scoped>\n",
       "    .dataframe tbody tr th:only-of-type {\n",
       "        vertical-align: middle;\n",
       "    }\n",
       "\n",
       "    .dataframe tbody tr th {\n",
       "        vertical-align: top;\n",
       "    }\n",
       "\n",
       "    .dataframe thead th {\n",
       "        text-align: right;\n",
       "    }\n",
       "</style>\n",
       "<table border=\"1\" class=\"dataframe\">\n",
       "  <thead>\n",
       "    <tr style=\"text-align: right;\">\n",
       "      <th></th>\n",
       "      <th>year</th>\n",
       "      <th>category</th>\n",
       "      <th>population_Mhd</th>\n",
       "    </tr>\n",
       "  </thead>\n",
       "  <tbody>\n",
       "    <tr>\n",
       "      <th>227</th>\n",
       "      <td>2017</td>\n",
       "      <td>swine</td>\n",
       "      <td>970.538517</td>\n",
       "    </tr>\n",
       "    <tr>\n",
       "      <th>228</th>\n",
       "      <td>2018</td>\n",
       "      <td>cattle</td>\n",
       "      <td>1489.744504</td>\n",
       "    </tr>\n",
       "    <tr>\n",
       "      <th>229</th>\n",
       "      <td>2018</td>\n",
       "      <td>chicken</td>\n",
       "      <td>23707.134000</td>\n",
       "    </tr>\n",
       "    <tr>\n",
       "      <th>230</th>\n",
       "      <td>2018</td>\n",
       "      <td>other</td>\n",
       "      <td>5028.775299</td>\n",
       "    </tr>\n",
       "    <tr>\n",
       "      <th>231</th>\n",
       "      <td>2018</td>\n",
       "      <td>swine</td>\n",
       "      <td>978.332119</td>\n",
       "    </tr>\n",
       "  </tbody>\n",
       "</table>\n",
       "</div>"
      ],
      "text/plain": [
       "     year category  population_Mhd\n",
       "227  2017    swine      970.538517\n",
       "228  2018   cattle     1489.744504\n",
       "229  2018  chicken    23707.134000\n",
       "230  2018    other     5028.775299\n",
       "231  2018    swine      978.332119"
      ]
     },
     "execution_count": 7,
     "metadata": {},
     "output_type": "execute_result"
    }
   ],
   "source": [
    "livestock.tail()"
   ]
  },
  {
   "cell_type": "code",
   "execution_count": 8,
   "metadata": {},
   "outputs": [
    {
     "data": {
      "text/html": [
       "<div>\n",
       "<style scoped>\n",
       "    .dataframe tbody tr th:only-of-type {\n",
       "        vertical-align: middle;\n",
       "    }\n",
       "\n",
       "    .dataframe tbody tr th {\n",
       "        vertical-align: top;\n",
       "    }\n",
       "\n",
       "    .dataframe thead th {\n",
       "        text-align: right;\n",
       "    }\n",
       "</style>\n",
       "<table border=\"1\" class=\"dataframe\">\n",
       "  <thead>\n",
       "    <tr style=\"text-align: right;\">\n",
       "      <th></th>\n",
       "      <th>Unnamed: 0</th>\n",
       "      <th>category</th>\n",
       "      <th>subcategory</th>\n",
       "      <th>year</th>\n",
       "      <th>mass_produced_Mt</th>\n",
       "      <th>producing_population_Mhd</th>\n",
       "      <th>yield_kg_per_head</th>\n",
       "    </tr>\n",
       "  </thead>\n",
       "  <tbody>\n",
       "    <tr>\n",
       "      <th>0</th>\n",
       "      <td>0</td>\n",
       "      <td>poultry</td>\n",
       "      <td>egg</td>\n",
       "      <td>1961</td>\n",
       "      <td>13.457025</td>\n",
       "      <td>1893.282</td>\n",
       "      <td>7.107777</td>\n",
       "    </tr>\n",
       "    <tr>\n",
       "      <th>1</th>\n",
       "      <td>1</td>\n",
       "      <td>poultry</td>\n",
       "      <td>egg</td>\n",
       "      <td>1962</td>\n",
       "      <td>13.789385</td>\n",
       "      <td>1947.569</td>\n",
       "      <td>7.080306</td>\n",
       "    </tr>\n",
       "    <tr>\n",
       "      <th>2</th>\n",
       "      <td>2</td>\n",
       "      <td>poultry</td>\n",
       "      <td>egg</td>\n",
       "      <td>1963</td>\n",
       "      <td>13.990711</td>\n",
       "      <td>1945.340</td>\n",
       "      <td>7.191910</td>\n",
       "    </tr>\n",
       "    <tr>\n",
       "      <th>3</th>\n",
       "      <td>3</td>\n",
       "      <td>poultry</td>\n",
       "      <td>egg</td>\n",
       "      <td>1964</td>\n",
       "      <td>14.603790</td>\n",
       "      <td>1991.798</td>\n",
       "      <td>7.331963</td>\n",
       "    </tr>\n",
       "    <tr>\n",
       "      <th>4</th>\n",
       "      <td>4</td>\n",
       "      <td>poultry</td>\n",
       "      <td>egg</td>\n",
       "      <td>1965</td>\n",
       "      <td>15.017012</td>\n",
       "      <td>2061.013</td>\n",
       "      <td>7.286229</td>\n",
       "    </tr>\n",
       "  </tbody>\n",
       "</table>\n",
       "</div>"
      ],
      "text/plain": [
       "   Unnamed: 0 category subcategory  year  mass_produced_Mt  \\\n",
       "0           0  poultry         egg  1961         13.457025   \n",
       "1           1  poultry         egg  1962         13.789385   \n",
       "2           2  poultry         egg  1963         13.990711   \n",
       "3           3  poultry         egg  1964         14.603790   \n",
       "4           4  poultry         egg  1965         15.017012   \n",
       "\n",
       "   producing_population_Mhd  yield_kg_per_head  \n",
       "0                  1893.282           7.107777  \n",
       "1                  1947.569           7.080306  \n",
       "2                  1945.340           7.191910  \n",
       "3                  1991.798           7.331963  \n",
       "4                  2061.013           7.286229  "
      ]
     },
     "execution_count": 8,
     "metadata": {},
     "output_type": "execute_result"
    }
   ],
   "source": [
    "animals_produced = pd.read_csv('../../../data/agriculture/FAOSTAT_livestock_product_produced/processed/FAOSTAT_livestock_and_product.csv')\n",
    "animals_produced.head()"
   ]
  },
  {
   "cell_type": "code",
   "execution_count": 9,
   "metadata": {},
   "outputs": [],
   "source": [
    "animals_produced_merged = animals_produced.merge(total_pop, on='year')\n",
    "#merged = livestock.merge(total_pop, on='year')"
   ]
  },
  {
   "cell_type": "code",
   "execution_count": 22,
   "metadata": {},
   "outputs": [
    {
     "data": {
      "image/png": "[encoded data removed]",
      "text/plain": [
       "<Figure size 144x144 with 1 Axes>"
      ]
     },
     "metadata": {},
     "output_type": "display_data"
    }
   ],
   "source": [
    "fig, ax =  plt.subplots(1, 1, figsize=(2, 2))\n",
    "\n",
    "# Format the eaxes\n",
    "ax.xaxis.set_tick_params(labelsize=6)\n",
    "ax.yaxis.set_tick_params(labelsize=6)\n",
    "ax.set_xlim([min_pop, max_pop])\n",
    "ax.set_xlim([3, max_pop])\n",
    "\n",
    "\n",
    "ax.set_xlabel('human population [billion]', fontsize=6)\n",
    "ax.set_ylabel('total producing population [billion yr$^{-1}$]', fontsize=6)\n",
    "\n",
    "ax.stackplot(animals_produced_merged['pop_bil'].unique(), \n",
    "                    animals_produced_merged[animals_produced_merged['category']=='swine']['producing_population_Mhd']/1E3, \n",
    "                    animals_produced_merged[animals_produced_merged['subcategory']=='beef']['producing_population_Mhd']/1E3,\n",
    "                    animals_produced_merged[animals_produced_merged['subcategory']=='dairy (milk)']['producing_population_Mhd']/1E3,\n",
    "                    animals_produced_merged[animals_produced_merged['subcategory']=='egg']['producing_population_Mhd']/1E3,\n",
    "                    animals_produced_merged[animals_produced_merged['subcategory']=='chicken']['producing_population_Mhd']/1E3,\n",
    "                                        colors=[colors['light_red'], colors['blue'], 'grey', colors['yellow'], colors['green']],\n",
    "                                linewidth=0.25)\n",
    "plt.savefig('../../../figures/database_paper/livestock_producing_stack.svg', bbox_inches='tight')\n",
    "\n"
   ]
  },
  {
   "cell_type": "code",
   "execution_count": 24,
   "metadata": {},
   "outputs": [
    {
     "data": {
      "text/html": [
       "<div>\n",
       "<style scoped>\n",
       "    .dataframe tbody tr th:only-of-type {\n",
       "        vertical-align: middle;\n",
       "    }\n",
       "\n",
       "    .dataframe tbody tr th {\n",
       "        vertical-align: top;\n",
       "    }\n",
       "\n",
       "    .dataframe thead th {\n",
       "        text-align: right;\n",
       "    }\n",
       "</style>\n",
       "<table border=\"1\" class=\"dataframe\">\n",
       "  <thead>\n",
       "    <tr style=\"text-align: right;\">\n",
       "      <th></th>\n",
       "      <th>Unnamed: 0</th>\n",
       "      <th>Solidwood</th>\n",
       "      <th>Paper</th>\n",
       "      <th>Plastics</th>\n",
       "      <th>Iron/steel</th>\n",
       "      <th>Aluminum</th>\n",
       "      <th>Copper</th>\n",
       "      <th>Other metals &amp; minerals</th>\n",
       "      <th>Concrete</th>\n",
       "      <th>Asphalt</th>\n",
       "      <th>Bricks</th>\n",
       "      <th>Sand and gravel</th>\n",
       "    </tr>\n",
       "  </thead>\n",
       "  <tbody>\n",
       "    <tr>\n",
       "      <th>0</th>\n",
       "      <td>1900</td>\n",
       "      <td>0.150028</td>\n",
       "      <td>0.040422</td>\n",
       "      <td>0.0</td>\n",
       "      <td>0.052523</td>\n",
       "      <td>0.000017</td>\n",
       "      <td>0.000497</td>\n",
       "      <td>0.001953</td>\n",
       "      <td>0.097900</td>\n",
       "      <td>0.0</td>\n",
       "      <td>0.383504</td>\n",
       "      <td>0.226524</td>\n",
       "    </tr>\n",
       "    <tr>\n",
       "      <th>1</th>\n",
       "      <td>1901</td>\n",
       "      <td>0.151280</td>\n",
       "      <td>0.040969</td>\n",
       "      <td>0.0</td>\n",
       "      <td>0.053361</td>\n",
       "      <td>0.000021</td>\n",
       "      <td>0.000527</td>\n",
       "      <td>0.001802</td>\n",
       "      <td>0.111810</td>\n",
       "      <td>0.0</td>\n",
       "      <td>0.389323</td>\n",
       "      <td>0.235914</td>\n",
       "    </tr>\n",
       "    <tr>\n",
       "      <th>2</th>\n",
       "      <td>1902</td>\n",
       "      <td>0.153307</td>\n",
       "      <td>0.041355</td>\n",
       "      <td>0.0</td>\n",
       "      <td>0.053692</td>\n",
       "      <td>0.000027</td>\n",
       "      <td>0.000555</td>\n",
       "      <td>0.001813</td>\n",
       "      <td>0.125802</td>\n",
       "      <td>0.0</td>\n",
       "      <td>0.393257</td>\n",
       "      <td>0.213895</td>\n",
       "    </tr>\n",
       "    <tr>\n",
       "      <th>3</th>\n",
       "      <td>1903</td>\n",
       "      <td>0.155260</td>\n",
       "      <td>0.041860</td>\n",
       "      <td>0.0</td>\n",
       "      <td>0.054289</td>\n",
       "      <td>0.000037</td>\n",
       "      <td>0.000596</td>\n",
       "      <td>0.001787</td>\n",
       "      <td>0.140511</td>\n",
       "      <td>0.0</td>\n",
       "      <td>0.398718</td>\n",
       "      <td>0.249080</td>\n",
       "    </tr>\n",
       "    <tr>\n",
       "      <th>4</th>\n",
       "      <td>1904</td>\n",
       "      <td>0.157006</td>\n",
       "      <td>0.042343</td>\n",
       "      <td>0.0</td>\n",
       "      <td>0.054901</td>\n",
       "      <td>0.000026</td>\n",
       "      <td>0.000659</td>\n",
       "      <td>0.001799</td>\n",
       "      <td>0.154135</td>\n",
       "      <td>0.0</td>\n",
       "      <td>0.402550</td>\n",
       "      <td>0.234941</td>\n",
       "    </tr>\n",
       "  </tbody>\n",
       "</table>\n",
       "</div>"
      ],
      "text/plain": [
       "   Unnamed: 0  Solidwood     Paper  Plastics  Iron/steel  Aluminum    Copper  \\\n",
       "0        1900   0.150028  0.040422       0.0    0.052523  0.000017  0.000497   \n",
       "1        1901   0.151280  0.040969       0.0    0.053361  0.000021  0.000527   \n",
       "2        1902   0.153307  0.041355       0.0    0.053692  0.000027  0.000555   \n",
       "3        1903   0.155260  0.041860       0.0    0.054289  0.000037  0.000596   \n",
       "4        1904   0.157006  0.042343       0.0    0.054901  0.000026  0.000659   \n",
       "\n",
       "   Other metals & minerals  Concrete  Asphalt    Bricks  Sand and gravel  \n",
       "0                 0.001953  0.097900      0.0  0.383504         0.226524  \n",
       "1                 0.001802  0.111810      0.0  0.389323         0.235914  \n",
       "2                 0.001813  0.125802      0.0  0.393257         0.213895  \n",
       "3                 0.001787  0.140511      0.0  0.398718         0.249080  \n",
       "4                 0.001799  0.154135      0.0  0.402550         0.234941  "
      ]
     },
     "execution_count": 24,
     "metadata": {},
     "output_type": "execute_result"
    }
   ],
   "source": [
    "#anthropomass material inputs\n",
    "materials = pd.read_excel('../../../data/anthropocentric/Krausmann2017_material_flows/source/Krausmann_2017.xlsx',\n",
    "                         sheet_name='Primary material inputs', header=5)\n",
    "materials.head()"
   ]
  },
  {
   "cell_type": "code",
   "execution_count": 29,
   "metadata": {},
   "outputs": [],
   "source": [
    "materials = materials.rename(columns={'Unnamed: 0': 'year'})"
   ]
  },
  {
   "cell_type": "code",
   "execution_count": 30,
   "metadata": {},
   "outputs": [
    {
     "data": {
      "text/html": [
       "<div>\n",
       "<style scoped>\n",
       "    .dataframe tbody tr th:only-of-type {\n",
       "        vertical-align: middle;\n",
       "    }\n",
       "\n",
       "    .dataframe tbody tr th {\n",
       "        vertical-align: top;\n",
       "    }\n",
       "\n",
       "    .dataframe thead th {\n",
       "        text-align: right;\n",
       "    }\n",
       "</style>\n",
       "<table border=\"1\" class=\"dataframe\">\n",
       "  <thead>\n",
       "    <tr style=\"text-align: right;\">\n",
       "      <th></th>\n",
       "      <th>year</th>\n",
       "      <th>Solidwood</th>\n",
       "      <th>Paper</th>\n",
       "      <th>Plastics</th>\n",
       "      <th>Iron/steel</th>\n",
       "      <th>Aluminum</th>\n",
       "      <th>Copper</th>\n",
       "      <th>Other metals &amp; minerals</th>\n",
       "      <th>Concrete</th>\n",
       "      <th>Asphalt</th>\n",
       "      <th>Bricks</th>\n",
       "      <th>Sand and gravel</th>\n",
       "    </tr>\n",
       "  </thead>\n",
       "  <tbody>\n",
       "    <tr>\n",
       "      <th>0</th>\n",
       "      <td>1900</td>\n",
       "      <td>0.150028</td>\n",
       "      <td>0.040422</td>\n",
       "      <td>0.0</td>\n",
       "      <td>0.052523</td>\n",
       "      <td>0.000017</td>\n",
       "      <td>0.000497</td>\n",
       "      <td>0.001953</td>\n",
       "      <td>0.097900</td>\n",
       "      <td>0.0</td>\n",
       "      <td>0.383504</td>\n",
       "      <td>0.226524</td>\n",
       "    </tr>\n",
       "    <tr>\n",
       "      <th>1</th>\n",
       "      <td>1901</td>\n",
       "      <td>0.151280</td>\n",
       "      <td>0.040969</td>\n",
       "      <td>0.0</td>\n",
       "      <td>0.053361</td>\n",
       "      <td>0.000021</td>\n",
       "      <td>0.000527</td>\n",
       "      <td>0.001802</td>\n",
       "      <td>0.111810</td>\n",
       "      <td>0.0</td>\n",
       "      <td>0.389323</td>\n",
       "      <td>0.235914</td>\n",
       "    </tr>\n",
       "    <tr>\n",
       "      <th>2</th>\n",
       "      <td>1902</td>\n",
       "      <td>0.153307</td>\n",
       "      <td>0.041355</td>\n",
       "      <td>0.0</td>\n",
       "      <td>0.053692</td>\n",
       "      <td>0.000027</td>\n",
       "      <td>0.000555</td>\n",
       "      <td>0.001813</td>\n",
       "      <td>0.125802</td>\n",
       "      <td>0.0</td>\n",
       "      <td>0.393257</td>\n",
       "      <td>0.213895</td>\n",
       "    </tr>\n",
       "    <tr>\n",
       "      <th>3</th>\n",
       "      <td>1903</td>\n",
       "      <td>0.155260</td>\n",
       "      <td>0.041860</td>\n",
       "      <td>0.0</td>\n",
       "      <td>0.054289</td>\n",
       "      <td>0.000037</td>\n",
       "      <td>0.000596</td>\n",
       "      <td>0.001787</td>\n",
       "      <td>0.140511</td>\n",
       "      <td>0.0</td>\n",
       "      <td>0.398718</td>\n",
       "      <td>0.249080</td>\n",
       "    </tr>\n",
       "    <tr>\n",
       "      <th>4</th>\n",
       "      <td>1904</td>\n",
       "      <td>0.157006</td>\n",
       "      <td>0.042343</td>\n",
       "      <td>0.0</td>\n",
       "      <td>0.054901</td>\n",
       "      <td>0.000026</td>\n",
       "      <td>0.000659</td>\n",
       "      <td>0.001799</td>\n",
       "      <td>0.154135</td>\n",
       "      <td>0.0</td>\n",
       "      <td>0.402550</td>\n",
       "      <td>0.234941</td>\n",
       "    </tr>\n",
       "  </tbody>\n",
       "</table>\n",
       "</div>"
      ],
      "text/plain": [
       "   year  Solidwood     Paper  Plastics  Iron/steel  Aluminum    Copper  \\\n",
       "0  1900   0.150028  0.040422       0.0    0.052523  0.000017  0.000497   \n",
       "1  1901   0.151280  0.040969       0.0    0.053361  0.000021  0.000527   \n",
       "2  1902   0.153307  0.041355       0.0    0.053692  0.000027  0.000555   \n",
       "3  1903   0.155260  0.041860       0.0    0.054289  0.000037  0.000596   \n",
       "4  1904   0.157006  0.042343       0.0    0.054901  0.000026  0.000659   \n",
       "\n",
       "   Other metals & minerals  Concrete  Asphalt    Bricks  Sand and gravel  \n",
       "0                 0.001953  0.097900      0.0  0.383504         0.226524  \n",
       "1                 0.001802  0.111810      0.0  0.389323         0.235914  \n",
       "2                 0.001813  0.125802      0.0  0.393257         0.213895  \n",
       "3                 0.001787  0.140511      0.0  0.398718         0.249080  \n",
       "4                 0.001799  0.154135      0.0  0.402550         0.234941  "
      ]
     },
     "execution_count": 30,
     "metadata": {},
     "output_type": "execute_result"
    }
   ],
   "source": [
    "materials.head()"
   ]
  },
  {
   "cell_type": "code",
   "execution_count": 31,
   "metadata": {},
   "outputs": [],
   "source": [
    "materials_merge = materials.merge(total_pop, on='year')"
   ]
  },
  {
   "cell_type": "code",
   "execution_count": 32,
   "metadata": {},
   "outputs": [],
   "source": [
    "materials_merge['bricks & asphalt'] = materials_merge['Bricks'].values + materials_merge['Asphalt'].values"
   ]
  },
  {
   "cell_type": "code",
   "execution_count": 43,
   "metadata": {},
   "outputs": [],
   "source": [
    "materials_merge['other'] = materials_merge['Solidwood'].values + materials_merge['Paper'].values + \\\n",
    "                            materials_merge['Plastics'].values + materials_merge['Iron/steel'].values + \\\n",
    "                            materials_merge['Aluminum'].values + materials_merge['Copper'] + \\\n",
    "                            materials_merge['Other metals & minerals'].values"
   ]
  },
  {
   "cell_type": "code",
   "execution_count": 45,
   "metadata": {},
   "outputs": [
    {
     "data": {
      "image/png": "[encoded data removed]",
      "text/plain": [
       "<Figure size 144x144 with 1 Axes>"
      ]
     },
     "metadata": {},
     "output_type": "display_data"
    }
   ],
   "source": [
    "fig, ax =  plt.subplots(1, 1, figsize=(2, 2))\n",
    "\n",
    "# Format the eaxes\n",
    "ax.xaxis.set_tick_params(labelsize=6)\n",
    "ax.yaxis.set_tick_params(labelsize=6)\n",
    "ax.set_xlim([min_pop, max_pop])\n",
    "ax.set_xlim([3, max_pop])\n",
    "\n",
    "\n",
    "ax.set_xlabel('human population [billion]', fontsize=6)\n",
    "ax.set_ylabel('input material mass [10$^{12}$ kg yr$^{-1}$]', fontsize=6)\n",
    "\n",
    "ax.stackplot(materials_merge['pop_bil'].unique(), \n",
    "                    materials_merge['Concrete'].values,\n",
    "                    materials_merge['Sand and gravel'].values,\n",
    "                    materials_merge['bricks & asphalt'].values,\n",
    "                    materials_merge['other'].values,\n",
    "                    colors=['darkgrey', 'grey', colors['green'], colors['blue']],\n",
    "                                linewidth=0.25)\n",
    "\n",
    "plt.savefig('../../../figures/database_paper/anthropomass_input_materials_stack.svg', bbox_inches='tight')"
   ]
  },
  {
   "cell_type": "code",
   "execution_count": null,
   "metadata": {},
   "outputs": [],
   "source": []
  }
 ],
 "metadata": {
  "kernelspec": {
   "display_name": "Python 3",
   "language": "python",
   "name": "python3"
  },
  "language_info": {
   "codemirror_mode": {
    "name": "ipython",
    "version": 3
   },
   "file_extension": ".py",
   "mimetype": "text/x-python",
   "name": "python",
   "nbconvert_exporter": "python",
   "pygments_lexer": "ipython3",
   "version": "3.8.10"
  }
 },
 "nbformat": 4,
 "nbformat_minor": 4
}
