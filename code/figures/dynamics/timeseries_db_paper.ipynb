{
 "cells": [
  {
   "cell_type": "code",
   "execution_count": 3,
   "metadata": {},
   "outputs": [],
   "source": [
    "import numpy as np\n",
    "import pandas as pd\n",
    "import matplotlib.pyplot as plt\n",
    "import anthro.viz\n",
    "colors = anthro.viz.plotting_style()\n",
    "plt.rcParams[\"font.family\"] = \"Lucida Sans Unicode\""
   ]
  },
  {
   "cell_type": "code",
   "execution_count": 3,
   "metadata": {},
   "outputs": [
    {
     "data": {
      "text/html": [
       "<div>\n",
       "<style scoped>\n",
       "    .dataframe tbody tr th:only-of-type {\n",
       "        vertical-align: middle;\n",
       "    }\n",
       "\n",
       "    .dataframe tbody tr th {\n",
       "        vertical-align: top;\n",
       "    }\n",
       "\n",
       "    .dataframe thead th {\n",
       "        text-align: right;\n",
       "    }\n",
       "</style>\n",
       "<table border=\"1\" class=\"dataframe\">\n",
       "  <thead>\n",
       "    <tr style=\"text-align: right;\">\n",
       "      <th></th>\n",
       "      <th>animal</th>\n",
       "      <th>year</th>\n",
       "      <th>population_Mhd</th>\n",
       "    </tr>\n",
       "  </thead>\n",
       "  <tbody>\n",
       "    <tr>\n",
       "      <th>0</th>\n",
       "      <td>ass</td>\n",
       "      <td>1961</td>\n",
       "      <td>36.958302</td>\n",
       "    </tr>\n",
       "    <tr>\n",
       "      <th>1</th>\n",
       "      <td>ass</td>\n",
       "      <td>1962</td>\n",
       "      <td>35.599457</td>\n",
       "    </tr>\n",
       "    <tr>\n",
       "      <th>2</th>\n",
       "      <td>ass</td>\n",
       "      <td>1963</td>\n",
       "      <td>35.371329</td>\n",
       "    </tr>\n",
       "    <tr>\n",
       "      <th>3</th>\n",
       "      <td>ass</td>\n",
       "      <td>1964</td>\n",
       "      <td>36.118309</td>\n",
       "    </tr>\n",
       "    <tr>\n",
       "      <th>4</th>\n",
       "      <td>ass</td>\n",
       "      <td>1965</td>\n",
       "      <td>36.766287</td>\n",
       "    </tr>\n",
       "  </tbody>\n",
       "</table>\n",
       "</div>"
      ],
      "text/plain": [
       "  animal  year  population_Mhd\n",
       "0    ass  1961       36.958302\n",
       "1    ass  1962       35.599457\n",
       "2    ass  1963       35.371329\n",
       "3    ass  1964       36.118309\n",
       "4    ass  1965       36.766287"
      ]
     },
     "execution_count": 3,
     "metadata": {},
     "output_type": "execute_result"
    }
   ],
   "source": [
    "animal_data = pd.read_csv('../../../data/agriculture/FAOSTAT_livestock_population/processed/FAOSTAT_livestock_population.csv')\n",
    "animal_data.head()"
   ]
  },
  {
   "cell_type": "code",
   "execution_count": 10,
   "metadata": {},
   "outputs": [],
   "source": [
    "chicken_data = animal_data[animal_data['animal']=='chicken']\n",
    "cattle_data = animal_data[animal_data['animal']=='cattle']"
   ]
  },
  {
   "cell_type": "code",
   "execution_count": 4,
   "metadata": {},
   "outputs": [
    {
     "data": {
      "text/html": [
       "<div>\n",
       "<style scoped>\n",
       "    .dataframe tbody tr th:only-of-type {\n",
       "        vertical-align: middle;\n",
       "    }\n",
       "\n",
       "    .dataframe tbody tr th {\n",
       "        vertical-align: top;\n",
       "    }\n",
       "\n",
       "    .dataframe thead th {\n",
       "        text-align: right;\n",
       "    }\n",
       "</style>\n",
       "<table border=\"1\" class=\"dataframe\">\n",
       "  <thead>\n",
       "    <tr style=\"text-align: right;\">\n",
       "      <th></th>\n",
       "      <th>Year</th>\n",
       "      <th>population</th>\n",
       "    </tr>\n",
       "  </thead>\n",
       "  <tbody>\n",
       "    <tr>\n",
       "      <th>64</th>\n",
       "      <td>2014</td>\n",
       "      <td>7295290765</td>\n",
       "    </tr>\n",
       "    <tr>\n",
       "      <th>65</th>\n",
       "      <td>2015</td>\n",
       "      <td>7379797139</td>\n",
       "    </tr>\n",
       "    <tr>\n",
       "      <th>66</th>\n",
       "      <td>2016</td>\n",
       "      <td>7464022049</td>\n",
       "    </tr>\n",
       "    <tr>\n",
       "      <th>67</th>\n",
       "      <td>2017</td>\n",
       "      <td>7547858925</td>\n",
       "    </tr>\n",
       "    <tr>\n",
       "      <th>68</th>\n",
       "      <td>2018</td>\n",
       "      <td>7631091040</td>\n",
       "    </tr>\n",
       "  </tbody>\n",
       "</table>\n",
       "</div>"
      ],
      "text/plain": [
       "    Year  population\n",
       "64  2014  7295290765\n",
       "65  2015  7379797139\n",
       "66  2016  7464022049\n",
       "67  2017  7547858925\n",
       "68  2018  7631091040"
      ]
     },
     "execution_count": 4,
     "metadata": {},
     "output_type": "execute_result"
    }
   ],
   "source": [
    "human_population_data = pd.read_csv('../../../data/anthropocentric/FAOSTAT_world_population/processed/FAOSTAT_total_population.csv')\n",
    "human_population_data.tail()"
   ]
  },
  {
   "cell_type": "code",
   "execution_count": 26,
   "metadata": {},
   "outputs": [
    {
     "data": {
      "image/png": "[encoded data removed]",
      "text/plain": [
       "<Figure size 288x288 with 1 Axes>"
      ]
     },
     "metadata": {},
     "output_type": "display_data"
    }
   ],
   "source": [
    "#plot chicken population vs human population\n",
    "plt.figure(figsize=(4,4))\n",
    "\n",
    "plt.xlabel('human population [billion]', fontsize=8)\n",
    "plt.ylabel('livestock population [billion]', fontsize=8)\n",
    "\n",
    "plt.xticks((3, 5, 7), fontsize=8)\n",
    "plt.yticks((5, 10, 15, 20), fontsize=8)\n",
    "plt.plot(human_population_data['population'].values[10:-1]/1e9, chicken_data['population_Mhd'].values/1e3, '-o', label='chicken', markersize=2)\n",
    "plt.plot(human_population_data['population'].values[10:-1]/1e9, cattle_data['population_Mhd'].values/(1e3), '-o', label='cattle', markersize=2)\n",
    "\n",
    "plt.legend()\n",
    "plt.savefig('../../../figures/database_paper/chicken_cattle_timeseries.svg')"
   ]
  },
  {
   "cell_type": "code",
   "execution_count": 31,
   "metadata": {},
   "outputs": [
    {
     "data": {
      "text/html": [
       "<div>\n",
       "<style scoped>\n",
       "    .dataframe tbody tr th:only-of-type {\n",
       "        vertical-align: middle;\n",
       "    }\n",
       "\n",
       "    .dataframe tbody tr th {\n",
       "        vertical-align: top;\n",
       "    }\n",
       "\n",
       "    .dataframe thead th {\n",
       "        text-align: right;\n",
       "    }\n",
       "</style>\n",
       "<table border=\"1\" class=\"dataframe\">\n",
       "  <thead>\n",
       "    <tr style=\"text-align: right;\">\n",
       "      <th></th>\n",
       "      <th>Unnamed: 0</th>\n",
       "      <th>Year</th>\n",
       "      <th>concrete_Tt</th>\n",
       "      <th>aggregates_Tt</th>\n",
       "      <th>bricks_Tt</th>\n",
       "      <th>asphalt_Tt</th>\n",
       "      <th>metals_Tt</th>\n",
       "      <th>other_Tt</th>\n",
       "      <th>waste_Tt</th>\n",
       "      <th>total_Tt</th>\n",
       "    </tr>\n",
       "  </thead>\n",
       "  <tbody>\n",
       "    <tr>\n",
       "      <th>111</th>\n",
       "      <td>111</td>\n",
       "      <td>2011</td>\n",
       "      <td>0.335820</td>\n",
       "      <td>0.314733</td>\n",
       "      <td>0.079071</td>\n",
       "      <td>0.055001</td>\n",
       "      <td>0.029322</td>\n",
       "      <td>0.019457</td>\n",
       "      <td>0.234627</td>\n",
       "      <td>1.068030</td>\n",
       "    </tr>\n",
       "    <tr>\n",
       "      <th>112</th>\n",
       "      <td>112</td>\n",
       "      <td>2012</td>\n",
       "      <td>0.355099</td>\n",
       "      <td>0.322283</td>\n",
       "      <td>0.080495</td>\n",
       "      <td>0.056080</td>\n",
       "      <td>0.030283</td>\n",
       "      <td>0.019834</td>\n",
       "      <td>0.243201</td>\n",
       "      <td>1.107277</td>\n",
       "    </tr>\n",
       "    <tr>\n",
       "      <th>113</th>\n",
       "      <td>113</td>\n",
       "      <td>2013</td>\n",
       "      <td>0.375763</td>\n",
       "      <td>0.329753</td>\n",
       "      <td>0.081841</td>\n",
       "      <td>0.057102</td>\n",
       "      <td>0.031322</td>\n",
       "      <td>0.020234</td>\n",
       "      <td>0.252147</td>\n",
       "      <td>1.148162</td>\n",
       "    </tr>\n",
       "    <tr>\n",
       "      <th>114</th>\n",
       "      <td>114</td>\n",
       "      <td>2014</td>\n",
       "      <td>0.396741</td>\n",
       "      <td>0.337347</td>\n",
       "      <td>0.083149</td>\n",
       "      <td>0.058075</td>\n",
       "      <td>0.032345</td>\n",
       "      <td>0.020682</td>\n",
       "      <td>0.261476</td>\n",
       "      <td>1.189815</td>\n",
       "    </tr>\n",
       "    <tr>\n",
       "      <th>115</th>\n",
       "      <td>115</td>\n",
       "      <td>2015</td>\n",
       "      <td>0.417198</td>\n",
       "      <td>0.344460</td>\n",
       "      <td>0.084432</td>\n",
       "      <td>0.059013</td>\n",
       "      <td>0.033346</td>\n",
       "      <td>0.021163</td>\n",
       "      <td>0.271154</td>\n",
       "      <td>1.230765</td>\n",
       "    </tr>\n",
       "  </tbody>\n",
       "</table>\n",
       "</div>"
      ],
      "text/plain": [
       "     Unnamed: 0  Year  concrete_Tt  aggregates_Tt  bricks_Tt  asphalt_Tt  \\\n",
       "111         111  2011     0.335820       0.314733   0.079071    0.055001   \n",
       "112         112  2012     0.355099       0.322283   0.080495    0.056080   \n",
       "113         113  2013     0.375763       0.329753   0.081841    0.057102   \n",
       "114         114  2014     0.396741       0.337347   0.083149    0.058075   \n",
       "115         115  2015     0.417198       0.344460   0.084432    0.059013   \n",
       "\n",
       "     metals_Tt  other_Tt  waste_Tt  total_Tt  \n",
       "111   0.029322  0.019457  0.234627  1.068030  \n",
       "112   0.030283  0.019834  0.243201  1.107277  \n",
       "113   0.031322  0.020234  0.252147  1.148162  \n",
       "114   0.032345  0.020682  0.261476  1.189815  \n",
       "115   0.033346  0.021163  0.271154  1.230765  "
      ]
     },
     "execution_count": 31,
     "metadata": {},
     "output_type": "execute_result"
    }
   ],
   "source": [
    "anthropomass_data = pd.read_csv('../../../data/anthropocentric/Elhacham2020_anthropomass/processed/anthopogenic_mass_2015_processed.csv')\n",
    "anthropomass_data.tail()"
   ]
  },
  {
   "cell_type": "code",
   "execution_count": 39,
   "metadata": {},
   "outputs": [],
   "source": [
    "plt.rcParams[\"font.family\"] = \"Lucida Sans Unicode\""
   ]
  },
  {
   "cell_type": "code",
   "execution_count": 40,
   "metadata": {},
   "outputs": [
    {
     "data": {
      "image/png": "[encoded data removed]",
      "text/plain": [
       "<Figure size 288x288 with 1 Axes>"
      ]
     },
     "metadata": {},
     "output_type": "display_data"
    }
   ],
   "source": [
    "#plot anthropomass vs human population\n",
    "plt.figure(figsize=(4,4))\n",
    "\n",
    "plt.xlabel('human population [billion]', fontsize=8)\n",
    "plt.ylabel('anthropomass [10$^{15}$ kg]')\n",
    "\n",
    "plt.xticks((3,5,7), fontsize=8)\n",
    "plt.yticks((0.4,0.8,1.2), fontsize=8)\n",
    "plt.plot(human_population_data['population'].values[0:-3]/1e9, anthropomass_data['total_Tt'].values[49:-1] ,'-o', markersize=2)\n",
    "\n",
    "plt.savefig('../../../figures/database_paper/anthropomass_timeseries.svg')"
   ]
  },
  {
   "cell_type": "code",
   "execution_count": 25,
   "metadata": {},
   "outputs": [
    {
     "data": {
      "text/html": [
       "<div>\n",
       "<style scoped>\n",
       "    .dataframe tbody tr th:only-of-type {\n",
       "        vertical-align: middle;\n",
       "    }\n",
       "\n",
       "    .dataframe tbody tr th {\n",
       "        vertical-align: top;\n",
       "    }\n",
       "\n",
       "    .dataframe thead th {\n",
       "        text-align: right;\n",
       "    }\n",
       "</style>\n",
       "<table border=\"1\" class=\"dataframe\">\n",
       "  <thead>\n",
       "    <tr style=\"text-align: right;\">\n",
       "      <th></th>\n",
       "      <th>Year</th>\n",
       "      <th>Flux into atmosphere</th>\n",
       "      <th>Sink/source type</th>\n",
       "      <th>Reported value</th>\n",
       "      <th>Units</th>\n",
       "      <th>Value</th>\n",
       "    </tr>\n",
       "  </thead>\n",
       "  <tbody>\n",
       "    <tr>\n",
       "      <th>1915</th>\n",
       "      <td>2014</td>\n",
       "      <td>sink</td>\n",
       "      <td>natural sink</td>\n",
       "      <td>standard deviation</td>\n",
       "      <td>Pg CO2 yr-1</td>\n",
       "      <td>3.78</td>\n",
       "    </tr>\n",
       "    <tr>\n",
       "      <th>1916</th>\n",
       "      <td>2015</td>\n",
       "      <td>sink</td>\n",
       "      <td>natural sink</td>\n",
       "      <td>standard deviation</td>\n",
       "      <td>Pg CO2 yr-1</td>\n",
       "      <td>3.78</td>\n",
       "    </tr>\n",
       "    <tr>\n",
       "      <th>1917</th>\n",
       "      <td>2016</td>\n",
       "      <td>sink</td>\n",
       "      <td>natural sink</td>\n",
       "      <td>standard deviation</td>\n",
       "      <td>Pg CO2 yr-1</td>\n",
       "      <td>3.78</td>\n",
       "    </tr>\n",
       "    <tr>\n",
       "      <th>1918</th>\n",
       "      <td>2017</td>\n",
       "      <td>sink</td>\n",
       "      <td>natural sink</td>\n",
       "      <td>standard deviation</td>\n",
       "      <td>Pg CO2 yr-1</td>\n",
       "      <td>3.78</td>\n",
       "    </tr>\n",
       "    <tr>\n",
       "      <th>1919</th>\n",
       "      <td>2018</td>\n",
       "      <td>sink</td>\n",
       "      <td>natural sink</td>\n",
       "      <td>standard deviation</td>\n",
       "      <td>Pg CO2 yr-1</td>\n",
       "      <td>3.78</td>\n",
       "    </tr>\n",
       "  </tbody>\n",
       "</table>\n",
       "</div>"
      ],
      "text/plain": [
       "      Year Flux into atmosphere Sink/source type      Reported value  \\\n",
       "1915  2014                 sink     natural sink  standard deviation   \n",
       "1916  2015                 sink     natural sink  standard deviation   \n",
       "1917  2016                 sink     natural sink  standard deviation   \n",
       "1918  2017                 sink     natural sink  standard deviation   \n",
       "1919  2018                 sink     natural sink  standard deviation   \n",
       "\n",
       "            Units  Value  \n",
       "1915  Pg CO2 yr-1   3.78  \n",
       "1916  Pg CO2 yr-1   3.78  \n",
       "1917  Pg CO2 yr-1   3.78  \n",
       "1918  Pg CO2 yr-1   3.78  \n",
       "1919  Pg CO2 yr-1   3.78  "
      ]
     },
     "execution_count": 25,
     "metadata": {},
     "output_type": "execute_result"
    }
   ],
   "source": [
    "co2_emissions_data = pd.read_csv('../../../data/atmosphere_biogeochemistry/global_carbon_project_CO2/processed/global_carbon_budget_processed.csv')\n",
    "co2_emissions_data.tail()"
   ]
  },
  {
   "cell_type": "code",
   "execution_count": 42,
   "metadata": {},
   "outputs": [
    {
     "data": {
      "text/plain": [
       "array(['fossil fuel and industry', 'land-use change emissions',\n",
       "       'atmospheric growth', 'ocean sink', 'land sink',\n",
       "       'budget imbalance', 'anthropogenic emissions', 'natural sink'],\n",
       "      dtype=object)"
      ]
     },
     "execution_count": 42,
     "metadata": {},
     "output_type": "execute_result"
    }
   ],
   "source": [
    "co2_emissions_data['Sink/source type'].unique()"
   ]
  },
  {
   "cell_type": "code",
   "execution_count": 47,
   "metadata": {},
   "outputs": [
    {
     "data": {
      "text/plain": [
       "array(['Pg C yr-1', 'Pg CO2 yr-1'], dtype=object)"
      ]
     },
     "execution_count": 47,
     "metadata": {},
     "output_type": "execute_result"
    }
   ],
   "source": [
    "co2_emissions_data['Units'].unique()"
   ]
  },
  {
   "cell_type": "code",
   "execution_count": 48,
   "metadata": {},
   "outputs": [],
   "source": [
    "co2_anthro = co2_emissions_data[co2_emissions_data['Sink/source type']=='anthropogenic emissions']\n",
    "co2_anthro_mean = co2_anthro[co2_anthro['Reported value']=='mean']\n",
    "co2_anthro_mean = co2_anthro_mean[co2_anthro_mean['Units']=='Pg CO2 yr-1']"
   ]
  },
  {
   "cell_type": "code",
   "execution_count": 37,
   "metadata": {},
   "outputs": [
    {
     "data": {
      "text/html": [
       "<div>\n",
       "<style scoped>\n",
       "    .dataframe tbody tr th:only-of-type {\n",
       "        vertical-align: middle;\n",
       "    }\n",
       "\n",
       "    .dataframe tbody tr th {\n",
       "        vertical-align: top;\n",
       "    }\n",
       "\n",
       "    .dataframe thead th {\n",
       "        text-align: right;\n",
       "    }\n",
       "</style>\n",
       "<table border=\"1\" class=\"dataframe\">\n",
       "  <thead>\n",
       "    <tr style=\"text-align: right;\">\n",
       "      <th></th>\n",
       "      <th>year</th>\n",
       "      <th>Flux into atmosphere</th>\n",
       "      <th>Sink/source type</th>\n",
       "      <th>Reported value</th>\n",
       "      <th>Units</th>\n",
       "      <th>Value</th>\n",
       "      <th>population</th>\n",
       "    </tr>\n",
       "  </thead>\n",
       "  <tbody>\n",
       "    <tr>\n",
       "      <th>0</th>\n",
       "      <td>1959</td>\n",
       "      <td>source</td>\n",
       "      <td>fossil fuel and industry</td>\n",
       "      <td>mean</td>\n",
       "      <td>Pg CO2 yr-1</td>\n",
       "      <td>8.86</td>\n",
       "      <td>2979576185</td>\n",
       "    </tr>\n",
       "    <tr>\n",
       "      <th>1</th>\n",
       "      <td>1959</td>\n",
       "      <td>source</td>\n",
       "      <td>land-use change emissions</td>\n",
       "      <td>mean</td>\n",
       "      <td>Pg CO2 yr-1</td>\n",
       "      <td>6.64</td>\n",
       "      <td>2979576185</td>\n",
       "    </tr>\n",
       "    <tr>\n",
       "      <th>2</th>\n",
       "      <td>1959</td>\n",
       "      <td>source</td>\n",
       "      <td>atmospheric growth</td>\n",
       "      <td>mean</td>\n",
       "      <td>Pg CO2 yr-1</td>\n",
       "      <td>7.50</td>\n",
       "      <td>2979576185</td>\n",
       "    </tr>\n",
       "    <tr>\n",
       "      <th>3</th>\n",
       "      <td>1959</td>\n",
       "      <td>sink</td>\n",
       "      <td>ocean sink</td>\n",
       "      <td>mean</td>\n",
       "      <td>Pg CO2 yr-1</td>\n",
       "      <td>2.78</td>\n",
       "      <td>2979576185</td>\n",
       "    </tr>\n",
       "    <tr>\n",
       "      <th>4</th>\n",
       "      <td>1959</td>\n",
       "      <td>sink</td>\n",
       "      <td>land sink</td>\n",
       "      <td>mean</td>\n",
       "      <td>Pg CO2 yr-1</td>\n",
       "      <td>2.07</td>\n",
       "      <td>2979576185</td>\n",
       "    </tr>\n",
       "  </tbody>\n",
       "</table>\n",
       "</div>"
      ],
      "text/plain": [
       "   year Flux into atmosphere           Sink/source type Reported value  \\\n",
       "0  1959               source   fossil fuel and industry           mean   \n",
       "1  1959               source  land-use change emissions           mean   \n",
       "2  1959               source         atmospheric growth           mean   \n",
       "3  1959                 sink                 ocean sink           mean   \n",
       "4  1959                 sink                  land sink           mean   \n",
       "\n",
       "         Units  Value  population  \n",
       "0  Pg CO2 yr-1   8.86  2979576185  \n",
       "1  Pg CO2 yr-1   6.64  2979576185  \n",
       "2  Pg CO2 yr-1   7.50  2979576185  \n",
       "3  Pg CO2 yr-1   2.78  2979576185  \n",
       "4  Pg CO2 yr-1   2.07  2979576185  "
      ]
     },
     "execution_count": 37,
     "metadata": {},
     "output_type": "execute_result"
    }
   ],
   "source": [
    "co2_mean = co2_emissions_data[co2_emissions_data['Reported value']=='mean']\n",
    "co2_mean = co2_mean[co2_mean['Units']=='Pg CO2 yr-1']\n",
    "co2_mean.rename(columns={'Year': 'year'}, inplace=True)\n",
    "co2_merged = co2_mean.merge(human_population_data, on='year')\n",
    "co2_merged.dropna(inplace=True)\n",
    "co2_merged.head()"
   ]
  },
  {
   "cell_type": "code",
   "execution_count": 42,
   "metadata": {},
   "outputs": [],
   "source": [
    "pop_min = co2_merged['population'].values[0]/1e9\n",
    "pop_max = co2_merged['population'].values[-1]/1e9"
   ]
  },
  {
   "cell_type": "code",
   "execution_count": 44,
   "metadata": {},
   "outputs": [
    {
     "data": {
      "image/png": "[encoded data removed]",
      "text/plain": [
       "<Figure size 144x144 with 1 Axes>"
      ]
     },
     "metadata": {},
     "output_type": "display_data"
    }
   ],
   "source": [
    "fig, ax =  plt.subplots(1, 1, figsize=(2, 2))\n",
    "\n",
    "# Format the eaxes\n",
    "ax.xaxis.set_tick_params(labelsize=6)\n",
    "ax.yaxis.set_tick_params(labelsize=6)\n",
    "ax.set_xlim([pop_min, pop_max])\n",
    "\n",
    "\n",
    "ax.set_xlabel('population [billion]', fontsize=6)\n",
    "ax.set_ylabel('CO$_{2}$ emissions [Pg CO$_{2}$ yr$^{-1}$]', fontsize=6)\n",
    "\n",
    "ax.stackplot(co2_merged[co2_merged['Sink/source type']=='fossil fuel and industry']['population'].values/1e9, \n",
    "                     co2_merged[co2_merged['Sink/source type']=='fossil fuel and industry']['Value'].values,\n",
    "                     co2_merged[co2_merged['Sink/source type']=='land-use change emissions']['Value'].values, \n",
    "                                  colors=['darkgrey', colors['green']],\n",
    "                                linewidth=0.25)\n",
    "plt.savefig('../../../figures/database_paper/co2_stack.svg', bbox_inches='tight')"
   ]
  },
  {
   "cell_type": "code",
   "execution_count": 60,
   "metadata": {},
   "outputs": [
    {
     "data": {
      "image/png": "[encoded data removed]",
      "text/plain": [
       "<Figure size 288x288 with 1 Axes>"
      ]
     },
     "metadata": {},
     "output_type": "display_data"
    }
   ],
   "source": [
    "plt.figure(figsize=(4,4))\n",
    "\n",
    "plt.xlabel('human population [billion]', fontsize=8)\n",
    "plt.ylabel('CO$_{2}$ emissions [10$^{12}$ kg CO$_{2}$ / yr]', fontsize=8)\n",
    "plt.ylim((12,43))\n",
    "plt.xticks((3,5,7), fontsize=8)\n",
    "plt.yticks((20, 30, 40), fontsize=8)\n",
    "\n",
    "plt.plot(human_population_data['population'].values[8:-1]/1e9, co2_anthro_mean['Value'].values, '-o', markersize=2)\n",
    "\n",
    "plt.savefig('../../../figures/database_paper/co2_emissions_timeseries.svg')"
   ]
  },
  {
   "cell_type": "code",
   "execution_count": 91,
   "metadata": {},
   "outputs": [],
   "source": [
    "params,cov = scipy.optimize.curve_fit(lin_fun, human_population_data['population'].values[8:-1], co2_anthro_mean['Value'].values)\n",
    "exes = human_population_data['population'].values[8:-1]\n",
    "ys = lin_fun(human_population_data['population'].values[8:-1], params[0], params[1])"
   ]
  },
  {
   "cell_type": "code",
   "execution_count": 93,
   "metadata": {},
   "outputs": [
    {
     "data": {
      "image/png": "[encoded data removed]",
      "text/plain": [
       "<Figure size 288x288 with 1 Axes>"
      ]
     },
     "metadata": {},
     "output_type": "display_data"
    }
   ],
   "source": [
    "plt.figure(figsize=(4,4))\n",
    "\n",
    "plt.xlabel('human population [billion]', fontsize=8)\n",
    "plt.ylabel('CO$_{2}$ emissions [10$^{12}$ kg CO$_{2}$ / yr]', fontsize=8)\n",
    "plt.ylim((12,43))\n",
    "plt.xticks((3,5,7), fontsize=8)\n",
    "plt.yticks((20, 30, 40), fontsize=8)\n",
    "\n",
    "plt.plot(human_population_data['population'].values[8:-1]/1e9, co2_anthro_mean['Value'].values, '-o', markersize=2)\n",
    "plt.plot(exes/1e9, ys, color='black')\n",
    "\n",
    "plt.savefig('../../../figures/database_paper/co2_emissions_timeseries_with_fit.svg')"
   ]
  },
  {
   "cell_type": "code",
   "execution_count": 5,
   "metadata": {},
   "outputs": [
    {
     "data": {
      "text/html": [
       "<div>\n",
       "<style scoped>\n",
       "    .dataframe tbody tr th:only-of-type {\n",
       "        vertical-align: middle;\n",
       "    }\n",
       "\n",
       "    .dataframe tbody tr th {\n",
       "        vertical-align: top;\n",
       "    }\n",
       "\n",
       "    .dataframe thead th {\n",
       "        text-align: right;\n",
       "    }\n",
       "</style>\n",
       "<table border=\"1\" class=\"dataframe\">\n",
       "  <thead>\n",
       "    <tr style=\"text-align: right;\">\n",
       "      <th></th>\n",
       "      <th>category</th>\n",
       "      <th>year</th>\n",
       "      <th>volume_km3</th>\n",
       "    </tr>\n",
       "  </thead>\n",
       "  <tbody>\n",
       "    <tr>\n",
       "      <th>0</th>\n",
       "      <td>agriculture</td>\n",
       "      <td>1980</td>\n",
       "      <td>850.8</td>\n",
       "    </tr>\n",
       "    <tr>\n",
       "      <th>1</th>\n",
       "      <td>agriculture</td>\n",
       "      <td>1981</td>\n",
       "      <td>869.9</td>\n",
       "    </tr>\n",
       "    <tr>\n",
       "      <th>2</th>\n",
       "      <td>agriculture</td>\n",
       "      <td>1982</td>\n",
       "      <td>884.0</td>\n",
       "    </tr>\n",
       "    <tr>\n",
       "      <th>3</th>\n",
       "      <td>agriculture</td>\n",
       "      <td>1983</td>\n",
       "      <td>896.1</td>\n",
       "    </tr>\n",
       "    <tr>\n",
       "      <th>4</th>\n",
       "      <td>agriculture</td>\n",
       "      <td>1984</td>\n",
       "      <td>908.1</td>\n",
       "    </tr>\n",
       "  </tbody>\n",
       "</table>\n",
       "</div>"
      ],
      "text/plain": [
       "      category  year  volume_km3\n",
       "0  agriculture  1980       850.8\n",
       "1  agriculture  1981       869.9\n",
       "2  agriculture  1982       884.0\n",
       "3  agriculture  1983       896.1\n",
       "4  agriculture  1984       908.1"
      ]
     },
     "execution_count": 5,
     "metadata": {},
     "output_type": "execute_result"
    }
   ],
   "source": [
    "h20_data = pd.read_csv('../../../data/water/Qin2019_water_use/processed/Qin2019_category_volume_1980-2016.csv')\n",
    "h20_data.head()"
   ]
  },
  {
   "cell_type": "code",
   "execution_count": 64,
   "metadata": {},
   "outputs": [],
   "source": [
    "h20_grouped = h20_data.groupby(by='year')\n",
    "h20_summed = h20_grouped.sum()"
   ]
  },
  {
   "cell_type": "code",
   "execution_count": 90,
   "metadata": {},
   "outputs": [
    {
     "data": {
      "image/png": "[encoded data removed]",
      "text/plain": [
       "<Figure size 288x288 with 1 Axes>"
      ]
     },
     "metadata": {},
     "output_type": "display_data"
    }
   ],
   "source": [
    "plt.figure(figsize=(4,4))\n",
    "\n",
    "plt.xlabel('human population [billion]', fontsize=8)\n",
    "plt.ylabel('water withdrawal [10$^{15}$ L / yr]', fontsize=8)\n",
    "\n",
    "plt.xticks((3, 5, 7), fontsize=8)\n",
    "plt.yticks((1.2, 1.4, 1.6, 1.8), fontsize=8)\n",
    "plt.plot(human_population_data['population'].values[29:-3]/1e9, h20_summed['volume_km3'].values/1e3, '-o', markersize=2)\n",
    "plt.plot(exes/1e9, ys/1e3, color='black')\n",
    "\n",
    "\n",
    "\n",
    "plt.savefig('../../../figures/database_paper/water_withdrawal_timeseries_with_fit.svg')"
   ]
  },
  {
   "cell_type": "code",
   "execution_count": 8,
   "metadata": {},
   "outputs": [
    {
     "data": {
      "text/html": [
       "<div>\n",
       "<style scoped>\n",
       "    .dataframe tbody tr th:only-of-type {\n",
       "        vertical-align: middle;\n",
       "    }\n",
       "\n",
       "    .dataframe tbody tr th {\n",
       "        vertical-align: top;\n",
       "    }\n",
       "\n",
       "    .dataframe thead th {\n",
       "        text-align: right;\n",
       "    }\n",
       "</style>\n",
       "<table border=\"1\" class=\"dataframe\">\n",
       "  <thead>\n",
       "    <tr style=\"text-align: right;\">\n",
       "      <th></th>\n",
       "      <th>category</th>\n",
       "      <th>year</th>\n",
       "      <th>volume_km3</th>\n",
       "      <th>population</th>\n",
       "    </tr>\n",
       "  </thead>\n",
       "  <tbody>\n",
       "    <tr>\n",
       "      <th>0</th>\n",
       "      <td>agriculture</td>\n",
       "      <td>1980</td>\n",
       "      <td>850.8</td>\n",
       "      <td>4458003514</td>\n",
       "    </tr>\n",
       "    <tr>\n",
       "      <th>1</th>\n",
       "      <td>domestic_municipal</td>\n",
       "      <td>1980</td>\n",
       "      <td>32.6</td>\n",
       "      <td>4458003514</td>\n",
       "    </tr>\n",
       "    <tr>\n",
       "      <th>2</th>\n",
       "      <td>reservoir</td>\n",
       "      <td>1980</td>\n",
       "      <td>321.0</td>\n",
       "      <td>4458003514</td>\n",
       "    </tr>\n",
       "    <tr>\n",
       "      <th>3</th>\n",
       "      <td>thermal_power</td>\n",
       "      <td>1980</td>\n",
       "      <td>6.5</td>\n",
       "      <td>4458003514</td>\n",
       "    </tr>\n",
       "    <tr>\n",
       "      <th>4</th>\n",
       "      <td>agriculture</td>\n",
       "      <td>1981</td>\n",
       "      <td>869.9</td>\n",
       "      <td>4536996762</td>\n",
       "    </tr>\n",
       "  </tbody>\n",
       "</table>\n",
       "</div>"
      ],
      "text/plain": [
       "             category  year  volume_km3  population\n",
       "0         agriculture  1980       850.8  4458003514\n",
       "1  domestic_municipal  1980        32.6  4458003514\n",
       "2           reservoir  1980       321.0  4458003514\n",
       "3       thermal_power  1980         6.5  4458003514\n",
       "4         agriculture  1981       869.9  4536996762"
      ]
     },
     "execution_count": 8,
     "metadata": {},
     "output_type": "execute_result"
    }
   ],
   "source": [
    "#stacked water withdrawals\n",
    "human_population_data.rename(columns={'Year': 'year'}, inplace=True)\n",
    "merged = h20_data.merge(human_population_data, on='year')\n",
    "merged.dropna(inplace=True)\n",
    "merged.head()"
   ]
  },
  {
   "cell_type": "code",
   "execution_count": 46,
   "metadata": {},
   "outputs": [],
   "source": [
    "pop_min = merged['population'].values[0]/1e9\n",
    "pop_max = merged['population'].values[-1]/1e9"
   ]
  },
  {
   "cell_type": "code",
   "execution_count": 48,
   "metadata": {},
   "outputs": [
    {
     "data": {
      "image/png": "[encoded data removed]",
      "text/plain": [
       "<Figure size 144x144 with 1 Axes>"
      ]
     },
     "metadata": {},
     "output_type": "display_data"
    }
   ],
   "source": [
    "fig, ax =  plt.subplots(1, 1, figsize=(2, 2))\n",
    "\n",
    "# Format the eaxes\n",
    "ax.xaxis.set_tick_params(labelsize=6)\n",
    "ax.yaxis.set_tick_params(labelsize=6)\n",
    "ax.set_xlim([pop_min, pop_max])\n",
    "\n",
    "\n",
    "ax.set_xlabel('population [billion]', fontsize=6)\n",
    "ax.set_ylabel('water withdrawal [km$^{3}$]', fontsize=6)\n",
    "\n",
    "ax.stackplot(merged[merged['category']=='agriculture']['population'].values/1e9, \n",
    "                     #merged[merged['category']=='thermal_power']['volume_km3'].values,\n",
    "                     merged[merged['category']=='domestic_municipal']['volume_km3'].values,\n",
    "                     merged[merged['category']=='reservoir']['volume_km3'].values,\n",
    "                     merged[merged['category']=='agriculture']['volume_km3'].values,  \n",
    "                                  colors=['grey', colors['blue'], \n",
    "                                        colors['green']],\n",
    "                                linewidth=0.25)\n",
    "plt.savefig('../../../figures/database_paper/water_stack.svg', bbox_inches='tight')"
   ]
  },
  {
   "cell_type": "code",
   "execution_count": 87,
   "metadata": {},
   "outputs": [
    {
     "data": {
      "text/plain": [
       "[<matplotlib.lines.Line2D at 0x7f9e03cf0d90>]"
      ]
     },
     "execution_count": 87,
     "metadata": {},
     "output_type": "execute_result"
    },
    {
     "data": {
      "image/png": "[encoded data removed]",
      "text/plain": [
       "<Figure size 432x288 with 1 Axes>"
      ]
     },
     "metadata": {},
     "output_type": "display_data"
    }
   ],
   "source": [
    "exes = human_population_data['population'].values[29:-3]\n",
    "ys = lin_fun(exes, params[0], params[1])\n",
    "\n",
    "plt.figure()\n",
    "plt.plot(exes/1e9, ys/1e3, color='black')\n",
    "plt.plot(human_population_data['population'].values[29:-3]/1e9, h20_summed['volume_km3'].values/1e3, '-o', markersize=2)\n",
    "\n"
   ]
  },
  {
   "cell_type": "code",
   "execution_count": 22,
   "metadata": {},
   "outputs": [],
   "source": [
    "plt.rcParams[\"font.family\"] = \"Lucida Sans Unicode\""
   ]
  },
  {
   "cell_type": "code",
   "execution_count": null,
   "metadata": {},
   "outputs": [],
   "source": []
  }
 ],
 "metadata": {
  "kernelspec": {
   "display_name": "Python 3",
   "language": "python",
   "name": "python3"
  },
  "language_info": {
   "codemirror_mode": {
    "name": "ipython",
    "version": 3
   },
   "file_extension": ".py",
   "mimetype": "text/x-python",
   "name": "python",
   "nbconvert_exporter": "python",
   "pygments_lexer": "ipython3",
   "version": "3.8.10"
  }
 },
 "nbformat": 4,
 "nbformat_minor": 4
}
