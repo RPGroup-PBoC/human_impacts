{
 "cells": [
  {
   "cell_type": "code",
   "execution_count": 1,
   "id": "e89d1bf1-490e-4e30-8f97-aa0ee063443c",
   "metadata": {},
   "outputs": [],
   "source": [
    "import numpy as np\n",
    "import pandas as pd\n",
    "import matplotlib.pyplot as plt\n",
    "import anthro.viz\n",
    "colors = anthro.viz.plotting_style()\n",
    "plt.rcParams[\"font.family\"] = \"Lucida Sans Unicode\""
   ]
  },
  {
   "cell_type": "code",
   "execution_count": 2,
   "id": "5ac31437-a25f-4d10-bb23-751d6b062ff4",
   "metadata": {},
   "outputs": [],
   "source": [
    "#%% Load the population data \n",
    "pop_data = pd.read_csv('../../../data/anthropocentric/FAOSTAT_world_population/processed/FAOSTAT_rural_urban_population.csv')\n",
    "pop_data['pop_bil'] = pop_data['population'] / 1E9\n",
    "total_pop = pop_data.groupby(['year'])['pop_bil'].sum().reset_index()\n",
    "min_pop, max_pop = total_pop['pop_bil'].min(), total_pop['pop_bil'].max()"
   ]
  },
  {
   "cell_type": "code",
   "execution_count": 3,
   "id": "b7abfe3b-d6dc-4ff7-a603-09f533c92c08",
   "metadata": {},
   "outputs": [],
   "source": [
    "anthropo = pd.read_csv('../../../data/anthropocentric/Elhacham2020_anthropomass/processed/anthopogenic_mass_2015_processed.csv')\n",
    "# Tidy\n",
    "anthropo.rename(columns={'Year':'year'}, inplace=True)\n",
    "merged = anthropo.merge(total_pop, on='year')\n",
    "merged.dropna(inplace=True)\n",
    "merged['bricks_asphalt'] = merged['bricks_Tt'].values + merged['asphalt_Tt'].values\n",
    "#merged['all_others'] = merged['metals_Tt'].values + merged['waste_Tt'].values + merged['other_Tt']\n",
    "\n",
    "merged['all_others'] = merged['metals_Tt'].values + merged['other_Tt']"
   ]
  },
  {
   "cell_type": "code",
   "execution_count": 4,
   "id": "ab4c06e4-4d8c-49d3-a876-3bb52e4457c8",
   "metadata": {},
   "outputs": [
    {
     "data": {
      "text/html": [
       "<div>\n",
       "<style scoped>\n",
       "    .dataframe tbody tr th:only-of-type {\n",
       "        vertical-align: middle;\n",
       "    }\n",
       "\n",
       "    .dataframe tbody tr th {\n",
       "        vertical-align: top;\n",
       "    }\n",
       "\n",
       "    .dataframe thead th {\n",
       "        text-align: right;\n",
       "    }\n",
       "</style>\n",
       "<table border=\"1\" class=\"dataframe\">\n",
       "  <thead>\n",
       "    <tr style=\"text-align: right;\">\n",
       "      <th></th>\n",
       "      <th>Unnamed: 0</th>\n",
       "      <th>year</th>\n",
       "      <th>concrete_Tt</th>\n",
       "      <th>aggregates_Tt</th>\n",
       "      <th>bricks_Tt</th>\n",
       "      <th>asphalt_Tt</th>\n",
       "      <th>metals_Tt</th>\n",
       "      <th>other_Tt</th>\n",
       "      <th>waste_Tt</th>\n",
       "      <th>total_Tt</th>\n",
       "      <th>pop_bil</th>\n",
       "      <th>bricks_asphalt</th>\n",
       "      <th>all_others</th>\n",
       "    </tr>\n",
       "  </thead>\n",
       "  <tbody>\n",
       "    <tr>\n",
       "      <th>0</th>\n",
       "      <td>50</td>\n",
       "      <td>1950</td>\n",
       "      <td>0.013634</td>\n",
       "      <td>0.038438</td>\n",
       "      <td>0.017360</td>\n",
       "      <td>0.001994</td>\n",
       "      <td>0.004221</td>\n",
       "      <td>0.006379</td>\n",
       "      <td>0.026745</td>\n",
       "      <td>0.108770</td>\n",
       "      <td>2.536275</td>\n",
       "      <td>0.019354</td>\n",
       "      <td>0.010600</td>\n",
       "    </tr>\n",
       "    <tr>\n",
       "      <th>1</th>\n",
       "      <td>51</td>\n",
       "      <td>1951</td>\n",
       "      <td>0.014360</td>\n",
       "      <td>0.039760</td>\n",
       "      <td>0.017477</td>\n",
       "      <td>0.002227</td>\n",
       "      <td>0.004347</td>\n",
       "      <td>0.006446</td>\n",
       "      <td>0.027656</td>\n",
       "      <td>0.112272</td>\n",
       "      <td>2.583817</td>\n",
       "      <td>0.019704</td>\n",
       "      <td>0.010793</td>\n",
       "    </tr>\n",
       "    <tr>\n",
       "      <th>2</th>\n",
       "      <td>52</td>\n",
       "      <td>1952</td>\n",
       "      <td>0.015154</td>\n",
       "      <td>0.041185</td>\n",
       "      <td>0.017600</td>\n",
       "      <td>0.002483</td>\n",
       "      <td>0.004477</td>\n",
       "      <td>0.006518</td>\n",
       "      <td>0.028598</td>\n",
       "      <td>0.116014</td>\n",
       "      <td>2.630584</td>\n",
       "      <td>0.020082</td>\n",
       "      <td>0.010995</td>\n",
       "    </tr>\n",
       "    <tr>\n",
       "      <th>3</th>\n",
       "      <td>53</td>\n",
       "      <td>1953</td>\n",
       "      <td>0.016047</td>\n",
       "      <td>0.042648</td>\n",
       "      <td>0.017721</td>\n",
       "      <td>0.002754</td>\n",
       "      <td>0.004629</td>\n",
       "      <td>0.006593</td>\n",
       "      <td>0.029570</td>\n",
       "      <td>0.119962</td>\n",
       "      <td>2.677230</td>\n",
       "      <td>0.020475</td>\n",
       "      <td>0.011222</td>\n",
       "    </tr>\n",
       "    <tr>\n",
       "      <th>4</th>\n",
       "      <td>54</td>\n",
       "      <td>1954</td>\n",
       "      <td>0.017036</td>\n",
       "      <td>0.044238</td>\n",
       "      <td>0.017843</td>\n",
       "      <td>0.003040</td>\n",
       "      <td>0.004812</td>\n",
       "      <td>0.006673</td>\n",
       "      <td>0.030584</td>\n",
       "      <td>0.124226</td>\n",
       "      <td>2.724302</td>\n",
       "      <td>0.020883</td>\n",
       "      <td>0.011485</td>\n",
       "    </tr>\n",
       "  </tbody>\n",
       "</table>\n",
       "</div>"
      ],
      "text/plain": [
       "   Unnamed: 0  year  concrete_Tt  aggregates_Tt  bricks_Tt  asphalt_Tt  \\\n",
       "0          50  1950     0.013634       0.038438   0.017360    0.001994   \n",
       "1          51  1951     0.014360       0.039760   0.017477    0.002227   \n",
       "2          52  1952     0.015154       0.041185   0.017600    0.002483   \n",
       "3          53  1953     0.016047       0.042648   0.017721    0.002754   \n",
       "4          54  1954     0.017036       0.044238   0.017843    0.003040   \n",
       "\n",
       "   metals_Tt  other_Tt  waste_Tt  total_Tt   pop_bil  bricks_asphalt  \\\n",
       "0   0.004221  0.006379  0.026745  0.108770  2.536275        0.019354   \n",
       "1   0.004347  0.006446  0.027656  0.112272  2.583817        0.019704   \n",
       "2   0.004477  0.006518  0.028598  0.116014  2.630584        0.020082   \n",
       "3   0.004629  0.006593  0.029570  0.119962  2.677230        0.020475   \n",
       "4   0.004812  0.006673  0.030584  0.124226  2.724302        0.020883   \n",
       "\n",
       "   all_others  \n",
       "0    0.010600  \n",
       "1    0.010793  \n",
       "2    0.010995  \n",
       "3    0.011222  \n",
       "4    0.011485  "
      ]
     },
     "execution_count": 4,
     "metadata": {},
     "output_type": "execute_result"
    }
   ],
   "source": [
    "merged.head()"
   ]
  },
  {
   "cell_type": "code",
   "execution_count": 5,
   "id": "332b5ca2-e294-46f0-a1db-5591940d3ab1",
   "metadata": {},
   "outputs": [],
   "source": [
    "decades = [1950, 1960, 1970, 1980, 1990, 2000, 2010, 2020]\n",
    "bricks_decades = np.zeros(7)\n",
    "concrete_decades = np.zeros(7)\n",
    "others_decades = np.zeros(7)\n",
    "aggregates_decades = np.zeros(7)\n",
    "waste_decades = np.zeros(7)\n",
    "\n",
    "for i in range(len(decades)-1):\n",
    "    \n",
    "    decade = decades[i]\n",
    "    \n",
    "    df_decade = merged[merged['year']>= decade]\n",
    "    df_decade = merged[merged['year']< decades[i+1]]\n",
    "    \n",
    "    pop_decade = df_decade['pop_bil'].mean()\n",
    "    bricks_decade = df_decade['bricks_asphalt'].mean() / pop_decade\n",
    "    concrete_decade = df_decade['concrete_Tt'].mean() / pop_decade\n",
    "    others_decade = df_decade['all_others'].mean() / pop_decade\n",
    "    aggregates_decade = df_decade['aggregates_Tt'].mean() / pop_decade\n",
    "    waste_decade = df_decade['waste_Tt'].mean() / pop_decade\n",
    "    \n",
    "    bricks_decades[i] = bricks_decade\n",
    "    concrete_decades[i] = concrete_decade\n",
    "    others_decades[i] = others_decade\n",
    "    aggregates_decades[i] = aggregates_decade\n",
    "    waste_decades[i] = waste_decade"
   ]
  },
  {
   "cell_type": "code",
   "execution_count": 12,
   "id": "e3077bc3-4e5e-4336-a195-e91ca4463d80",
   "metadata": {},
   "outputs": [
    {
     "data": {
      "image/png": "[encoded data removed]",
      "text/plain": [
       "<Figure size 108x54 with 1 Axes>"
      ]
     },
     "metadata": {},
     "output_type": "display_data"
    }
   ],
   "source": [
    "fig, ax = plt.subplots(1, 1, figsize=(1.5,0.75))\n",
    "\n",
    "ax.xaxis.set_tick_params(labelsize=6)\n",
    "ax.yaxis.set_tick_params(labelsize=6)\n",
    "#ax.set_ylabel('bricks & asphalt per capita [10$^{3}$kg]', fontsize=6)\n",
    "ax.set_xticks((1950, 1970, 1990, 2010))\n",
    "#ax.set_yticks((0, 5, 10, 15))\n",
    "ax.set_ylim((np.min(bricks_decades)*0.9*1e3, np.max(bricks_decades)*1.1*1e3))\n",
    "\n",
    "ax.plot(decades[0:-1], bricks_decades*1e3, 'o', ms=3, color=colors['green'])\n",
    "ax.vlines(decades[0:-1], 0, bricks_decades*1e3, lw=0.5, color=colors['green'])\n",
    "\n",
    "plt.savefig('../../../figures/database_paper/bricks_asphalt_decades.svg')"
   ]
  },
  {
   "cell_type": "code",
   "execution_count": 15,
   "id": "04ef8d93-46a1-4b0f-9d5f-9d1168c4c57b",
   "metadata": {},
   "outputs": [
    {
     "data": {
      "image/png": "[encoded data removed]",
      "text/plain": [
       "<Figure size 108x54 with 1 Axes>"
      ]
     },
     "metadata": {},
     "output_type": "display_data"
    }
   ],
   "source": [
    "fig, ax = plt.subplots(1, 1, figsize=(1.5,0.75))\n",
    "\n",
    "ax.xaxis.set_tick_params(labelsize=6)\n",
    "ax.yaxis.set_tick_params(labelsize=6)\n",
    "#ax.set_ylabel('per capita [10$^{3}$kg]', fontsize=6)\n",
    "ax.set_xticks((1950, 1970, 1990, 2010))\n",
    "#ax.set_yticks((0, 10, 20, 30))\n",
    "ax.set_ylim((np.min(concrete_decades)*0.9*1e3, np.max(concrete_decades)*1.1*1e3))\n",
    "\n",
    "ax.plot(decades[0:-1], concrete_decades*1e3, 'o', ms=3, color='darkgrey')\n",
    "ax.vlines(decades[0:-1], 0, concrete_decades*1e3, lw=0.5, color='darkgrey')\n",
    "\n",
    "plt.savefig('../../../figures/database_paper/concrete_decades.svg')"
   ]
  },
  {
   "cell_type": "code",
   "execution_count": 17,
   "id": "3048d93a-3d85-44c6-b991-eca0c92a2c35",
   "metadata": {},
   "outputs": [
    {
     "data": {
      "image/png": "[encoded data removed]",
      "text/plain": [
       "<Figure size 108x54 with 1 Axes>"
      ]
     },
     "metadata": {},
     "output_type": "display_data"
    }
   ],
   "source": [
    "fig, ax = plt.subplots(1, 1, figsize=(1.5,0.75))\n",
    "\n",
    "ax.xaxis.set_tick_params(labelsize=6)\n",
    "ax.yaxis.set_tick_params(labelsize=6)\n",
    "#ax.set_ylabel('per capita [10$^{3}$kg]', fontsize=6)\n",
    "ax.set_xticks((1950, 1970, 1990, 2010))\n",
    "#ax.set_yticks((0, 10, 20, 30))\n",
    "\n",
    "ax.set_ylim((np.min(waste_decades)*0.9*1e3, np.max(waste_decades)*1.1*1e3))\n",
    "\n",
    "ax.plot(decades[0:-1], waste_decades*1e3, 'o', ms=3, color=colors['light_red'])\n",
    "ax.vlines(decades[0:-1], 0, waste_decades*1e3, lw=0.5, color=colors['light_red'])\n",
    "\n",
    "plt.savefig('../../../figures/database_paper/waste_decades.svg')"
   ]
  },
  {
   "cell_type": "code",
   "execution_count": 19,
   "id": "213d0091-51fe-4b9c-a43c-c68d5acaf542",
   "metadata": {},
   "outputs": [
    {
     "data": {
      "image/png": "[encoded data removed]",
      "text/plain": [
       "<Figure size 108x54 with 1 Axes>"
      ]
     },
     "metadata": {},
     "output_type": "display_data"
    }
   ],
   "source": [
    "fig, ax = plt.subplots(1, 1, figsize=(1.5,0.75))\n",
    "\n",
    "ax.xaxis.set_tick_params(labelsize=6)\n",
    "ax.yaxis.set_tick_params(labelsize=6)\n",
    "#ax.set_ylabel('per capita [10$^{3}$kg]', fontsize=6)\n",
    "ax.set_xticks((1950, 1970, 1990, 2010))\n",
    "ax.set_yticks((0, 10, 20, 30, 40))\n",
    "ax.set_ylim((np.min(aggregates_decades)*0.9*1e3, np.max(aggregates_decades)*1.1*1e3))\n",
    "\n",
    "ax.plot(decades[0:-1], aggregates_decades*1e3, 'o', ms=3, color='grey')\n",
    "ax.vlines(decades[0:-1], 0, aggregates_decades*1e3, lw=0.5, color='grey')\n",
    "\n",
    "plt.savefig('../../../figures/database_paper/aggregates_decades.svg')"
   ]
  },
  {
   "cell_type": "code",
   "execution_count": 44,
   "id": "b6f7daa9-b176-488e-8231-62308645ae91",
   "metadata": {},
   "outputs": [
    {
     "data": {
      "text/plain": [
       "{'green': '#7AA974',\n",
       " 'light_green': '#BFD598',\n",
       " 'pale_green': '#DCECCB',\n",
       " 'yellow': '#EAC264',\n",
       " 'light_yellow': '#F3DAA9',\n",
       " 'pale_yellow': '#FFEDCE',\n",
       " 'blue': '#738FC1',\n",
       " 'light_blue': '#A9BFE3',\n",
       " 'pale_blue': '#C9D7EE',\n",
       " 'red': '#D56C55',\n",
       " 'light_red': '#E8B19D',\n",
       " 'pale_red': '#F1D4C9',\n",
       " 'purple': '#AB85AC',\n",
       " 'light_purple': '#D4C2D9',\n",
       " 'dark_green': '#7E9D90',\n",
       " 'dark_brown': '#905426'}"
      ]
     },
     "execution_count": 44,
     "metadata": {},
     "output_type": "execute_result"
    }
   ],
   "source": [
    "colors"
   ]
  },
  {
   "cell_type": "code",
   "execution_count": 8,
   "id": "1b30e0f6-43e1-40c4-a326-dc2a3311f625",
   "metadata": {},
   "outputs": [],
   "source": [
    "plt.rcParams[\"font.family\"] = \"Lucida Sans Unicode\""
   ]
  },
  {
   "cell_type": "code",
   "execution_count": 74,
   "id": "925bf991-b67c-4452-96ab-a80fe0647a33",
   "metadata": {},
   "outputs": [
    {
     "data": {
      "text/plain": [
       "array([1949, 1959, 1969, 1979, 1989, 1999, 2009])"
      ]
     },
     "execution_count": 74,
     "metadata": {},
     "output_type": "execute_result"
    }
   ],
   "source": [
    "np.asarray(decades[0:-1]) -1 "
   ]
  },
  {
   "cell_type": "code",
   "execution_count": null,
   "id": "e37efb62-db20-4e5b-a52e-63de0cfec9a7",
   "metadata": {},
   "outputs": [],
   "source": []
  }
 ],
 "metadata": {
  "kernelspec": {
   "display_name": "Python 3",
   "language": "python",
   "name": "python3"
  },
  "language_info": {
   "codemirror_mode": {
    "name": "ipython",
    "version": 3
   },
   "file_extension": ".py",
   "mimetype": "text/x-python",
   "name": "python",
   "nbconvert_exporter": "python",
   "pygments_lexer": "ipython3",
   "version": "3.8.10"
  }
 },
 "nbformat": 4,
 "nbformat_minor": 5
}
