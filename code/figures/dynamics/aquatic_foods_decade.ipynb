{
 "cells": [
  {
   "cell_type": "code",
   "execution_count": 1,
   "id": "a289256c-c6ca-4b18-8d8d-6b93e9e1f26f",
   "metadata": {},
   "outputs": [],
   "source": [
    "import numpy as np\n",
    "import pandas as pd\n",
    "import matplotlib.pyplot as plt\n",
    "import anthro.viz\n",
    "colors = anthro.viz.plotting_style()\n",
    "plt.rcParams[\"font.family\"] = \"Lucida Sans Unicode\""
   ]
  },
  {
   "cell_type": "code",
   "execution_count": 2,
   "id": "d1a9539b-a817-4e7f-81e1-81930cb64859",
   "metadata": {},
   "outputs": [],
   "source": [
    "#%% Load the population data \n",
    "pop_data = pd.read_csv('../../../data/anthropocentric/FAOSTAT_world_population/processed/FAOSTAT_rural_urban_population.csv')\n",
    "pop_data['pop_bil'] = pop_data['population'] / 1E9\n",
    "total_pop = pop_data.groupby(['year'])['pop_bil'].sum().reset_index()\n",
    "min_pop, max_pop = total_pop['pop_bil'].min(), total_pop['pop_bil'].max()"
   ]
  },
  {
   "cell_type": "code",
   "execution_count": 3,
   "id": "01f74171-86e7-4312-b461-ccdfe27e08e9",
   "metadata": {},
   "outputs": [
    {
     "data": {
      "text/html": [
       "<div>\n",
       "<style scoped>\n",
       "    .dataframe tbody tr th:only-of-type {\n",
       "        vertical-align: middle;\n",
       "    }\n",
       "\n",
       "    .dataframe tbody tr th {\n",
       "        vertical-align: top;\n",
       "    }\n",
       "\n",
       "    .dataframe thead th {\n",
       "        text-align: right;\n",
       "    }\n",
       "</style>\n",
       "<table border=\"1\" class=\"dataframe\">\n",
       "  <thead>\n",
       "    <tr style=\"text-align: right;\">\n",
       "      <th></th>\n",
       "      <th>source</th>\n",
       "      <th>year</th>\n",
       "      <th>produced mass (Mt)</th>\n",
       "      <th>pop_bil</th>\n",
       "    </tr>\n",
       "  </thead>\n",
       "  <tbody>\n",
       "    <tr>\n",
       "      <th>202</th>\n",
       "      <td>cultured</td>\n",
       "      <td>2017</td>\n",
       "      <td>79.545</td>\n",
       "      <td>7.550262</td>\n",
       "    </tr>\n",
       "    <tr>\n",
       "      <th>203</th>\n",
       "      <td>total</td>\n",
       "      <td>2017</td>\n",
       "      <td>172.661</td>\n",
       "      <td>7.550262</td>\n",
       "    </tr>\n",
       "    <tr>\n",
       "      <th>204</th>\n",
       "      <td>captured</td>\n",
       "      <td>2018</td>\n",
       "      <td>96.434</td>\n",
       "      <td>7.632819</td>\n",
       "    </tr>\n",
       "    <tr>\n",
       "      <th>205</th>\n",
       "      <td>cultured</td>\n",
       "      <td>2018</td>\n",
       "      <td>82.095</td>\n",
       "      <td>7.632819</td>\n",
       "    </tr>\n",
       "    <tr>\n",
       "      <th>206</th>\n",
       "      <td>total</td>\n",
       "      <td>2018</td>\n",
       "      <td>178.529</td>\n",
       "      <td>7.632819</td>\n",
       "    </tr>\n",
       "  </tbody>\n",
       "</table>\n",
       "</div>"
      ],
      "text/plain": [
       "       source  year  produced mass (Mt)   pop_bil\n",
       "202  cultured  2017              79.545  7.550262\n",
       "203     total  2017             172.661  7.550262\n",
       "204  captured  2018              96.434  7.632819\n",
       "205  cultured  2018              82.095  7.632819\n",
       "206     total  2018             178.529  7.632819"
      ]
     },
     "execution_count": 3,
     "metadata": {},
     "output_type": "execute_result"
    }
   ],
   "source": [
    "# aquaculture data\n",
    "data = pd.read_csv('../../../data/agriculture/FAO_fish_production_quantities/processed/FAO_FishStatJ_total_mass_source.csv')\n",
    "merged = data.merge(total_pop, on='year')\n",
    "merged.tail()"
   ]
  },
  {
   "cell_type": "code",
   "execution_count": 4,
   "id": "7acad8dd-96fc-46f6-8e52-e40cdbf64f85",
   "metadata": {},
   "outputs": [],
   "source": [
    "decades = [1950, 1960, 1970, 1980, 1990, 2000, 2010, 2020]\n",
    "captured_decades = np.zeros(7)\n",
    "cultured_decades = np.zeros(7)\n",
    "\n",
    "\n",
    "for i in range(len(decades)-1):\n",
    "    \n",
    "    decade = decades[i]\n",
    "    \n",
    "    df_decade = merged[merged['year']>= decade]\n",
    "    df_decade = df_decade[df_decade['year']< decades[i+1]]\n",
    "    \n",
    "    pop_decade = df_decade['pop_bil'].mean()\n",
    "    captured_decade = df_decade[df_decade['source']=='captured']['produced mass (Mt)'].mean() / pop_decade\n",
    "    cultured_decade = df_decade[df_decade['source']=='cultured']['produced mass (Mt)'].mean() / pop_decade\n",
    "    \n",
    "    captured_decades[i] = captured_decade\n",
    "    cultured_decades[i] = cultured_decade"
   ]
  },
  {
   "cell_type": "code",
   "execution_count": 7,
   "id": "dbd7f988-4731-407d-a1ee-49c8f6c813d7",
   "metadata": {},
   "outputs": [
    {
     "data": {
      "image/png": "[encoded data removed]",
      "text/plain": [
       "<Figure size 108x54 with 1 Axes>"
      ]
     },
     "metadata": {},
     "output_type": "display_data"
    }
   ],
   "source": [
    "fig, ax = plt.subplots(1, 1, figsize=(1.5,0.75))\n",
    "\n",
    "ax.xaxis.set_tick_params(labelsize=6)\n",
    "ax.yaxis.set_tick_params(labelsize=6)\n",
    "#ax.set_ylabel('per capita [kg]', fontsize=6)\n",
    "ax.set_xticks((1960, 1980, 2000))\n",
    "#ax.set_yticks((0, 5, 10))\n",
    "ax.set_ylim((np.min(captured_decades)*0.9, np.max(captured_decades)*1.1))\n",
    "\n",
    "ax.plot(decades[0:-1], captured_decades, 'o', ms=3, color=colors['green'])\n",
    "ax.vlines(decades[0:-1], 0, captured_decades, lw=0.5, color=colors['green'])\n",
    "\n",
    "plt.savefig('../../../figures/database_paper/aqua_captured_decades.svg')"
   ]
  },
  {
   "cell_type": "code",
   "execution_count": 8,
   "id": "40a29a3a-ae61-4a00-919d-9380fb3299c8",
   "metadata": {},
   "outputs": [
    {
     "data": {
      "image/png": "[encoded data removed]",
      "text/plain": [
       "<Figure size 108x54 with 1 Axes>"
      ]
     },
     "metadata": {},
     "output_type": "display_data"
    }
   ],
   "source": [
    "fig, ax = plt.subplots(1, 1, figsize=(1.5,0.75))\n",
    "\n",
    "ax.xaxis.set_tick_params(labelsize=6)\n",
    "ax.yaxis.set_tick_params(labelsize=6)\n",
    "#ax.set_ylabel('per capita [kg]', fontsize=6)\n",
    "ax.set_xticks((1960, 1980, 2000))\n",
    "#ax.set_yticks((0, 5, 10))\n",
    "ax.set_ylim((0, np.max(cultured_decades)*1.1))\n",
    "\n",
    "ax.plot(decades[0:-1], cultured_decades, 'o', ms=3, color=colors['blue'])\n",
    "ax.vlines(decades[0:-1], 0, cultured_decades, lw=0.5, color=colors['blue'])\n",
    "\n",
    "plt.savefig('../../../figures/database_paper/aqua_cultured_decades.svg')"
   ]
  },
  {
   "cell_type": "code",
   "execution_count": 6,
   "id": "7d75b53b-f64f-4e7c-8dcd-e80075607d19",
   "metadata": {},
   "outputs": [],
   "source": [
    "plt.rcParams[\"font.family\"] = \"Lucida Sans Unicode\""
   ]
  },
  {
   "cell_type": "code",
   "execution_count": null,
   "id": "10c09319-6456-448f-8fcd-3109aba7f076",
   "metadata": {},
   "outputs": [],
   "source": []
  }
 ],
 "metadata": {
  "kernelspec": {
   "display_name": "Python 3",
   "language": "python",
   "name": "python3"
  },
  "language_info": {
   "codemirror_mode": {
    "name": "ipython",
    "version": 3
   },
   "file_extension": ".py",
   "mimetype": "text/x-python",
   "name": "python",
   "nbconvert_exporter": "python",
   "pygments_lexer": "ipython3",
   "version": "3.8.10"
  }
 },
 "nbformat": 4,
 "nbformat_minor": 5
}
