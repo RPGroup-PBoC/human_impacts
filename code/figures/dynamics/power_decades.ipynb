{
 "cells": [
  {
   "cell_type": "code",
   "execution_count": 1,
   "id": "00617df1-42fc-4626-9245-e86060cd4581",
   "metadata": {},
   "outputs": [],
   "source": [
    "import numpy as np\n",
    "import pandas as pd\n",
    "import matplotlib.pyplot as plt\n",
    "import anthro.viz\n",
    "colors = anthro.viz.plotting_style()\n",
    "plt.rcParams[\"font.family\"] = \"Lucida Sans Unicode\""
   ]
  },
  {
   "cell_type": "code",
   "execution_count": 2,
   "id": "dbf6eba8-ddcd-4aa4-8e22-2a4daac9f787",
   "metadata": {},
   "outputs": [],
   "source": [
    "#%% Load the population data \n",
    "pop_data = pd.read_csv('../../../data/anthropocentric/FAOSTAT_world_population/processed/FAOSTAT_rural_urban_population.csv')\n",
    "pop_data['pop_bil'] = pop_data['population'] / 1E9\n",
    "total_pop = pop_data.groupby(['year'])['pop_bil'].sum().reset_index()\n",
    "min_pop, max_pop = total_pop['pop_bil'].min(), total_pop['pop_bil'].max()"
   ]
  },
  {
   "cell_type": "code",
   "execution_count": 3,
   "id": "bba636dc-e37e-4c9c-9553-2b7fec3b62ca",
   "metadata": {},
   "outputs": [],
   "source": [
    "# %%\n",
    "energy = pd.read_csv('../../../data/energy/BP_statistical_report_global_energy_usage/processed/BP_global_energy_usage_by_type.csv')\n",
    "\n",
    "# Tidy and group\n",
    "energy.loc[energy['type'].isin(['Geothermal/Biomass/Other', 'Biodiesel/Biogasoline', 'Solar', 'Wind']), 'type'] = 'renew'\n",
    "energy.loc[energy['type'].isin(['Hydroelectric']), 'type'] = 'hydro'\n",
    "merged = energy.merge(total_pop, on='year')\n",
    "merged.fillna(value=0, inplace=True)\n",
    "merged = merged.groupby(['type', 'year', 'pop_bil'])['consumption_TW'].sum().reset_index()"
   ]
  },
  {
   "cell_type": "code",
   "execution_count": 4,
   "id": "dc09b757-9e83-437f-acbd-ef45bc1b749b",
   "metadata": {},
   "outputs": [],
   "source": [
    "decades = [1960, 1970, 1980, 1990, 2000, 2010, 2020]\n",
    "coal_decades = np.zeros(6)\n",
    "ff_decades = np.zeros(6)\n",
    "gas_decades = np.zeros(6)\n",
    "oil_decades = np.zeros(6)\n",
    "nuclear_decades = np.zeros(6)\n",
    "hydro_decades = np.zeros(6)\n",
    "renew_decades = np.zeros(6)\n",
    "\n",
    "for i in range(len(decades)-1):\n",
    "    \n",
    "    decade = decades[i]\n",
    "    \n",
    "    df_decade = merged[merged['year']>= decade]\n",
    "    df_decade = df_decade[df_decade['year']< decades[i+1]]\n",
    "    \n",
    "    pop_decade = df_decade['pop_bil'].mean()\n",
    "    coal_decade = df_decade[df_decade['type']=='Coal']['consumption_TW'].mean() / pop_decade\n",
    "    ff_decade = df_decade[df_decade['type']=='Fossil Fuels']['consumption_TW'].mean() / pop_decade\n",
    "    gas_decade = df_decade[df_decade['type']=='Natural Gas']['consumption_TW'].mean() / pop_decade\n",
    "    oil_decade = df_decade[df_decade['type']=='Oil']['consumption_TW'].mean() / pop_decade\n",
    "    nuclear_decade = df_decade[df_decade['type']=='Nuclear']['consumption_TW'].mean() / pop_decade\n",
    "    hydro_decade = df_decade[df_decade['type']=='hydro']['consumption_TW'].mean() / pop_decade\n",
    "    renew_decade = df_decade[df_decade['type']=='renew']['consumption_TW'].mean() / pop_decade\n",
    "    \n",
    "    \n",
    "    coal_decades[i] = coal_decade\n",
    "    ff_decades[i] = ff_decade\n",
    "    gas_decades[i] = gas_decade\n",
    "    oil_decades[i] = oil_decade\n",
    "    nuclear_decades[i] = nuclear_decade\n",
    "    hydro_decades[i] = hydro_decade\n",
    "    renew_decades[i] = renew_decade"
   ]
  },
  {
   "cell_type": "code",
   "execution_count": 8,
   "id": "9f0fd583-6dc7-433a-be8f-1528375d189e",
   "metadata": {},
   "outputs": [
    {
     "data": {
      "image/png": "[encoded data removed]",
      "text/plain": [
       "<Figure size 108x54 with 1 Axes>"
      ]
     },
     "metadata": {},
     "output_type": "display_data"
    }
   ],
   "source": [
    "fig, ax = plt.subplots(1, 1, figsize=(1.5,0.75))\n",
    "\n",
    "ax.xaxis.set_tick_params(labelsize=6)\n",
    "ax.yaxis.set_tick_params(labelsize=6)\n",
    "#ax.set_ylabel('per capita [W]', fontsize=6)\n",
    "ax.set_xticks((1960, 1980, 2000))\n",
    "#ax.set_yticks((0, 5, 10))\n",
    "ax.set_ylim((np.min(ff_decades)*0.9*1e3,np.max(ff_decades)*1.1*1e3))\n",
    "\n",
    "ax.plot(decades[0:-1], ff_decades*1e3, 'o', ms=3, color='grey')\n",
    "ax.vlines(decades[0:-1], 0, ff_decades*1e3, lw=0.5, color='grey')\n",
    "\n",
    "\n",
    "plt.savefig('../../../figures/database_paper/power_ff_decades.svg')"
   ]
  },
  {
   "cell_type": "code",
   "execution_count": 9,
   "id": "f5bb7231-e358-496a-85e0-03712fc342ec",
   "metadata": {},
   "outputs": [
    {
     "data": {
      "image/png": "[encoded data removed]",
      "text/plain": [
       "<Figure size 108x54 with 1 Axes>"
      ]
     },
     "metadata": {},
     "output_type": "display_data"
    }
   ],
   "source": [
    "fig, ax = plt.subplots(1, 1, figsize=(1.5,0.75))\n",
    "\n",
    "ax.xaxis.set_tick_params(labelsize=6)\n",
    "ax.yaxis.set_tick_params(labelsize=6)\n",
    "#ax.set_ylabel('per capita [W]', fontsize=6)\n",
    "ax.set_xticks((1960, 1980, 2000))\n",
    "#ax.set_yticks((0, 5, 10))\n",
    "ax.set_ylim((0, np.max(nuclear_decades)*1.1*1e3))\n",
    "\n",
    "ax.plot(decades[0:-1], nuclear_decades*1e3, 'o', ms=3, color=colors['red'])\n",
    "ax.vlines(decades[0:-1], 0, nuclear_decades*1e3, lw=0.5, color=colors['red'])\n",
    "\n",
    "plt.savefig('../../../figures/database_paper/power_nuclear_decades.svg')"
   ]
  },
  {
   "cell_type": "code",
   "execution_count": 10,
   "id": "26bd8e7b-1790-4683-81e2-7411cf6d8de2",
   "metadata": {},
   "outputs": [
    {
     "data": {
      "image/png": "[encoded data removed]",
      "text/plain": [
       "<Figure size 108x54 with 1 Axes>"
      ]
     },
     "metadata": {},
     "output_type": "display_data"
    }
   ],
   "source": [
    "fig, ax = plt.subplots(1, 1, figsize=(1.5,0.75))\n",
    "\n",
    "ax.xaxis.set_tick_params(labelsize=6)\n",
    "ax.yaxis.set_tick_params(labelsize=6)\n",
    "#ax.set_ylabel('power consumption per capita [W]', fontsize=6)\n",
    "ax.set_xticks((1960, 1980, 2000))\n",
    "#ax.set_yticks((0, 5, 10))\n",
    "ax.set_ylim((np.min(hydro_decades)*0.9*1e3, np.max(hydro_decades)*1.1*1e3))\n",
    "\n",
    "ax.plot(decades[0:-1], hydro_decades*1e3, 'o', ms=3, color=colors['blue'])\n",
    "ax.vlines(decades[0:-1], 0, hydro_decades*1e3, lw=0.5, color=colors['blue'])\n",
    "\n",
    "plt.savefig('../../../figures/database_paper/power_hydro_decades.svg')"
   ]
  },
  {
   "cell_type": "code",
   "execution_count": 11,
   "id": "c6934275-d1ed-4d86-b3f1-5b6838c6be23",
   "metadata": {},
   "outputs": [
    {
     "data": {
      "image/png": "[encoded data removed]",
      "text/plain": [
       "<Figure size 108x54 with 1 Axes>"
      ]
     },
     "metadata": {},
     "output_type": "display_data"
    }
   ],
   "source": [
    "fig, ax = plt.subplots(1, 1, figsize=(1.5,0.75))\n",
    "\n",
    "ax.xaxis.set_tick_params(labelsize=6)\n",
    "ax.yaxis.set_tick_params(labelsize=6)\n",
    "#ax.set_ylabel('per capita [W]', fontsize=6)\n",
    "ax.set_xticks((1960, 1980, 2000))\n",
    "#ax.set_yticks((0, 5, 10))\n",
    "ax.set_ylim(0, np.max(renew_decades)*1.1*1e3)\n",
    "\n",
    "ax.plot(decades[0:-1], renew_decades*1e3, 'o', ms=3, color=colors['green'])\n",
    "ax.vlines(decades[0:-1], 0, renew_decades*1e3, lw=0.5, color=colors['green'])\n",
    "\n",
    "plt.savefig('../../../figures/database_paper/power_renew_decades.svg')"
   ]
  },
  {
   "cell_type": "code",
   "execution_count": 69,
   "id": "f5197d1d-9a61-4962-96b2-b69b6e140c34",
   "metadata": {},
   "outputs": [
    {
     "data": {
      "text/html": [
       "<div>\n",
       "<style scoped>\n",
       "    .dataframe tbody tr th:only-of-type {\n",
       "        vertical-align: middle;\n",
       "    }\n",
       "\n",
       "    .dataframe tbody tr th {\n",
       "        vertical-align: top;\n",
       "    }\n",
       "\n",
       "    .dataframe thead th {\n",
       "        text-align: right;\n",
       "    }\n",
       "</style>\n",
       "<table border=\"1\" class=\"dataframe\">\n",
       "  <thead>\n",
       "    <tr style=\"text-align: right;\">\n",
       "      <th></th>\n",
       "      <th>Unnamed: 0</th>\n",
       "      <th>year</th>\n",
       "      <th>type</th>\n",
       "      <th>consumption_EJ_yr</th>\n",
       "      <th>consumption_TW</th>\n",
       "    </tr>\n",
       "  </thead>\n",
       "  <tbody>\n",
       "    <tr>\n",
       "      <th>0</th>\n",
       "      <td>0</td>\n",
       "      <td>1991</td>\n",
       "      <td>renew</td>\n",
       "      <td>0.01</td>\n",
       "      <td>0.000160</td>\n",
       "    </tr>\n",
       "    <tr>\n",
       "      <th>1</th>\n",
       "      <td>1</td>\n",
       "      <td>1993</td>\n",
       "      <td>renew</td>\n",
       "      <td>0.01</td>\n",
       "      <td>0.000177</td>\n",
       "    </tr>\n",
       "    <tr>\n",
       "      <th>2</th>\n",
       "      <td>2</td>\n",
       "      <td>1994</td>\n",
       "      <td>renew</td>\n",
       "      <td>0.01</td>\n",
       "      <td>0.000190</td>\n",
       "    </tr>\n",
       "    <tr>\n",
       "      <th>3</th>\n",
       "      <td>3</td>\n",
       "      <td>1995</td>\n",
       "      <td>renew</td>\n",
       "      <td>0.01</td>\n",
       "      <td>0.000203</td>\n",
       "    </tr>\n",
       "    <tr>\n",
       "      <th>4</th>\n",
       "      <td>4</td>\n",
       "      <td>1996</td>\n",
       "      <td>renew</td>\n",
       "      <td>0.01</td>\n",
       "      <td>0.000224</td>\n",
       "    </tr>\n",
       "  </tbody>\n",
       "</table>\n",
       "</div>"
      ],
      "text/plain": [
       "   Unnamed: 0  year   type  consumption_EJ_yr  consumption_TW\n",
       "0           0  1991  renew               0.01        0.000160\n",
       "1           1  1993  renew               0.01        0.000177\n",
       "2           2  1994  renew               0.01        0.000190\n",
       "3           3  1995  renew               0.01        0.000203\n",
       "4           4  1996  renew               0.01        0.000224"
      ]
     },
     "execution_count": 69,
     "metadata": {},
     "output_type": "execute_result"
    }
   ],
   "source": [
    "energy.head()"
   ]
  },
  {
   "cell_type": "code",
   "execution_count": 70,
   "id": "fa64a1a1-ccbb-40b2-b384-fc78c8685dd4",
   "metadata": {},
   "outputs": [
    {
     "data": {
      "text/plain": [
       "array(['renew', 'Coal', 'hydro', 'Oil', 'Natural Gas', 'Nuclear',\n",
       "       'Fossil Fuels'], dtype=object)"
      ]
     },
     "execution_count": 70,
     "metadata": {},
     "output_type": "execute_result"
    }
   ],
   "source": [
    "energy['type'].unique()"
   ]
  },
  {
   "cell_type": "code",
   "execution_count": 7,
   "id": "2a8ec3f0-f327-4272-bed3-bc26f00db478",
   "metadata": {},
   "outputs": [],
   "source": [
    "plt.rcParams[\"font.family\"] = \"Lucida Sans Unicode\""
   ]
  },
  {
   "cell_type": "code",
   "execution_count": null,
   "id": "de7f5e39-9741-4bc8-aa7e-a87e7861923d",
   "metadata": {},
   "outputs": [],
   "source": []
  }
 ],
 "metadata": {
  "kernelspec": {
   "display_name": "Python 3",
   "language": "python",
   "name": "python3"
  },
  "language_info": {
   "codemirror_mode": {
    "name": "ipython",
    "version": 3
   },
   "file_extension": ".py",
   "mimetype": "text/x-python",
   "name": "python",
   "nbconvert_exporter": "python",
   "pygments_lexer": "ipython3",
   "version": "3.8.10"
  }
 },
 "nbformat": 4,
 "nbformat_minor": 5
}
