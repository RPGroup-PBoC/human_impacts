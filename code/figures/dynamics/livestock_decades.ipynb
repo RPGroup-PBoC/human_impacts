{
 "cells": [
  {
   "cell_type": "code",
   "execution_count": 1,
   "id": "60c3f460-869f-403e-9a98-e0ca6c9c1399",
   "metadata": {},
   "outputs": [],
   "source": [
    "import numpy as np\n",
    "import pandas as pd\n",
    "import matplotlib.pyplot as plt\n",
    "import anthro.viz\n",
    "colors = anthro.viz.plotting_style()\n",
    "plt.rcParams[\"font.family\"] = \"Lucida Sans Unicode\""
   ]
  },
  {
   "cell_type": "code",
   "execution_count": 2,
   "id": "a846d62a-1be3-4e6f-868d-f1def90c6c03",
   "metadata": {},
   "outputs": [],
   "source": [
    "#%% Load the population data \n",
    "pop_data = pd.read_csv('../../../data/anthropocentric/FAOSTAT_world_population/processed/FAOSTAT_rural_urban_population.csv')\n",
    "pop_data['pop_bil'] = pop_data['population'] / 1E9\n",
    "total_pop = pop_data.groupby(['year'])['pop_bil'].sum().reset_index()\n",
    "min_pop, max_pop = total_pop['pop_bil'].min(), total_pop['pop_bil'].max()"
   ]
  },
  {
   "cell_type": "code",
   "execution_count": 2,
   "id": "e5fd52f3-a537-48d1-b31e-a742c9870622",
   "metadata": {},
   "outputs": [
    {
     "ename": "NameError",
     "evalue": "name 'total_pop' is not defined",
     "output_type": "error",
     "traceback": [
      "\u001b[0;31m---------------------------------------------------------------------------\u001b[0m",
      "\u001b[0;31mNameError\u001b[0m                                 Traceback (most recent call last)",
      "\u001b[0;32m/var/folders/sl/nj0m09b974n43bbv418vtmkr0000gp/T/ipykernel_11603/4272482579.py\u001b[0m in \u001b[0;36m<module>\u001b[0;34m\u001b[0m\n\u001b[1;32m      9\u001b[0m \u001b[0;34m\u001b[0m\u001b[0m\n\u001b[1;32m     10\u001b[0m \u001b[0;31m# Merge on population\u001b[0m\u001b[0;34m\u001b[0m\u001b[0;34m\u001b[0m\u001b[0;34m\u001b[0m\u001b[0m\n\u001b[0;32m---> 11\u001b[0;31m \u001b[0mmerged\u001b[0m \u001b[0;34m=\u001b[0m \u001b[0mlivestock\u001b[0m\u001b[0;34m.\u001b[0m\u001b[0mmerge\u001b[0m\u001b[0;34m(\u001b[0m\u001b[0mtotal_pop\u001b[0m\u001b[0;34m,\u001b[0m \u001b[0mon\u001b[0m\u001b[0;34m=\u001b[0m\u001b[0;34m'year'\u001b[0m\u001b[0;34m)\u001b[0m\u001b[0;34m\u001b[0m\u001b[0;34m\u001b[0m\u001b[0m\n\u001b[0m\u001b[1;32m     12\u001b[0m \u001b[0mmerged\u001b[0m\u001b[0;34m.\u001b[0m\u001b[0mdropna\u001b[0m\u001b[0;34m(\u001b[0m\u001b[0minplace\u001b[0m\u001b[0;34m=\u001b[0m\u001b[0;32mTrue\u001b[0m\u001b[0;34m)\u001b[0m\u001b[0;34m\u001b[0m\u001b[0;34m\u001b[0m\u001b[0m\n",
      "\u001b[0;31mNameError\u001b[0m: name 'total_pop' is not defined"
     ]
    }
   ],
   "source": [
    "# Load livestock data \n",
    "livestock = pd.read_csv('../../../data/agriculture/FAOSTAT_livestock_population/processed/FAOSTAT_livestock_population.csv')\n",
    "livestock['category'] = 'other'\n",
    "livestock.loc[livestock['animal']=='cattle', 'category'] = 'cattle'\n",
    "livestock.loc[livestock['animal']=='chickens', 'category'] = 'chicken'\n",
    "livestock.loc[livestock['animal']=='pigs', 'category'] = 'swine'\n",
    "\n",
    "livestock = livestock.groupby(['year', 'category'])['population_Mhd'].sum().reset_index()\n",
    "\n",
    "# Merge on population\n",
    "merged = livestock.merge(total_pop, on='year')\n",
    "merged.dropna(inplace=True)"
   ]
  },
  {
   "cell_type": "code",
   "execution_count": 4,
   "id": "61447f99-6202-428f-ba28-125d78cdb2d1",
   "metadata": {},
   "outputs": [
    {
     "data": {
      "text/html": [
       "<div>\n",
       "<style scoped>\n",
       "    .dataframe tbody tr th:only-of-type {\n",
       "        vertical-align: middle;\n",
       "    }\n",
       "\n",
       "    .dataframe tbody tr th {\n",
       "        vertical-align: top;\n",
       "    }\n",
       "\n",
       "    .dataframe thead th {\n",
       "        text-align: right;\n",
       "    }\n",
       "</style>\n",
       "<table border=\"1\" class=\"dataframe\">\n",
       "  <thead>\n",
       "    <tr style=\"text-align: right;\">\n",
       "      <th></th>\n",
       "      <th>year</th>\n",
       "      <th>category</th>\n",
       "      <th>population_Mhd</th>\n",
       "      <th>pop_bil</th>\n",
       "    </tr>\n",
       "  </thead>\n",
       "  <tbody>\n",
       "    <tr>\n",
       "      <th>0</th>\n",
       "      <td>1961</td>\n",
       "      <td>cattle</td>\n",
       "      <td>942.175069</td>\n",
       "      <td>3.090305</td>\n",
       "    </tr>\n",
       "    <tr>\n",
       "      <th>1</th>\n",
       "      <td>1961</td>\n",
       "      <td>chicken</td>\n",
       "      <td>3906.690000</td>\n",
       "      <td>3.090305</td>\n",
       "    </tr>\n",
       "    <tr>\n",
       "      <th>2</th>\n",
       "      <td>1961</td>\n",
       "      <td>other</td>\n",
       "      <td>2175.390693</td>\n",
       "      <td>3.090305</td>\n",
       "    </tr>\n",
       "    <tr>\n",
       "      <th>3</th>\n",
       "      <td>1961</td>\n",
       "      <td>swine</td>\n",
       "      <td>406.180364</td>\n",
       "      <td>3.090305</td>\n",
       "    </tr>\n",
       "    <tr>\n",
       "      <th>4</th>\n",
       "      <td>1962</td>\n",
       "      <td>cattle</td>\n",
       "      <td>957.172513</td>\n",
       "      <td>3.149244</td>\n",
       "    </tr>\n",
       "  </tbody>\n",
       "</table>\n",
       "</div>"
      ],
      "text/plain": [
       "   year category  population_Mhd   pop_bil\n",
       "0  1961   cattle      942.175069  3.090305\n",
       "1  1961  chicken     3906.690000  3.090305\n",
       "2  1961    other     2175.390693  3.090305\n",
       "3  1961    swine      406.180364  3.090305\n",
       "4  1962   cattle      957.172513  3.149244"
      ]
     },
     "execution_count": 4,
     "metadata": {},
     "output_type": "execute_result"
    }
   ],
   "source": [
    "merged.head()"
   ]
  },
  {
   "cell_type": "code",
   "execution_count": 4,
   "id": "d20b6488-3403-4d56-a1ec-00c1d2275353",
   "metadata": {},
   "outputs": [],
   "source": [
    "decades = [1960, 1970, 1980, 1990, 2000, 2010, 2020]\n",
    "cattle_decades = np.zeros(6)\n",
    "chicken_decades = np.zeros(6)\n",
    "swine_decades = np.zeros(6)\n",
    "others_decades = np.zeros(6)\n",
    "\n",
    "for i in range(len(decades)-1):\n",
    "    \n",
    "    decade = decades[i]\n",
    "    \n",
    "    df_decade = merged[merged['year']>= decade]\n",
    "    df_decade = merged[merged['year']< decades[i+1]]\n",
    "    \n",
    "    pop_decade = df_decade['pop_bil'].mean()\n",
    "    cattle_decade = df_decade[df_decade['category']=='cattle']['population_Mhd'].mean() / pop_decade\n",
    "    chicken_decade = df_decade[df_decade['category']=='chicken']['population_Mhd'].mean() / pop_decade\n",
    "    swine_decade = df_decade[df_decade['category']=='swine']['population_Mhd'].mean() / pop_decade\n",
    "    other_decade = df_decade[df_decade['category']=='other']['population_Mhd'].mean() / pop_decade\n",
    "    \n",
    "    cattle_decades[i] = cattle_decade\n",
    "    chicken_decades[i] = chicken_decade\n",
    "    swine_decades[i] = swine_decade\n",
    "    others_decades[i] = other_decade"
   ]
  },
  {
   "cell_type": "code",
   "execution_count": 5,
   "id": "9021c6a6-89b3-4588-87b8-06763d03d43a",
   "metadata": {},
   "outputs": [
    {
     "name": "stderr",
     "output_type": "stream",
     "text": [
      "findfont: Font family ['Lucida Sans Unicode'] not found. Falling back to DejaVu Sans.\n"
     ]
    },
    {
     "data": {
      "image/png": "[encoded data removed]",
      "text/plain": [
       "<Figure size 108x54 with 1 Axes>"
      ]
     },
     "metadata": {},
     "output_type": "display_data"
    }
   ],
   "source": [
    "fig, ax = plt.subplots(1, 1, figsize=(1.5,0.75))\n",
    "\n",
    "ax.xaxis.set_tick_params(labelsize=6)\n",
    "ax.yaxis.set_tick_params(labelsize=6)\n",
    "#ax.set_ylabel('per capita', fontsize=6)\n",
    "ax.set_xticks((1960, 1980, 2000))\n",
    "#ax.set_yticks((0, 5, 10))\n",
    "ax.set_ylim((np.min(cattle_decades)*0.9/1e3, np.max(cattle_decades)*1.1/1e3))\n",
    "\n",
    "ax.plot(decades[0:-1], cattle_decades/1e3, 'o', ms=3, color=colors['blue'])\n",
    "ax.vlines(decades[0:-1], 0, cattle_decades/1e3, lw=0.5, color=colors['blue'])\n",
    "\n",
    "plt.savefig('../../../figures/database_paper/cattle_decades.svg')"
   ]
  },
  {
   "cell_type": "code",
   "execution_count": 6,
   "id": "23aea441-ca3f-4088-88fc-ba5bd4c3edb6",
   "metadata": {},
   "outputs": [
    {
     "data": {
      "image/png": "[encoded data removed]",
      "text/plain": [
       "<Figure size 108x54 with 1 Axes>"
      ]
     },
     "metadata": {},
     "output_type": "display_data"
    }
   ],
   "source": [
    "fig, ax = plt.subplots(1, 1, figsize=(1.5,0.75))\n",
    "\n",
    "ax.xaxis.set_tick_params(labelsize=6)\n",
    "ax.yaxis.set_tick_params(labelsize=6)\n",
    "#ax.set_ylabel('per capita', fontsize=6)\n",
    "ax.set_xticks((1960, 1980, 2000))\n",
    "#ax.set_yticks((0, 5, 10))\n",
    "ax.set_ylim((np.min(chicken_decades)*0.9/1e3, np.max(chicken_decades)*1.1/1e3))\n",
    "\n",
    "ax.plot(decades[0:-1], chicken_decades/1e3, 'o',ms=3,  color=colors['green'])\n",
    "ax.vlines(decades[0:-1], 0, chicken_decades/1e3, lw=0.5, color=colors['green'])\n",
    "\n",
    "plt.savefig('../../../figures/database_paper/chicken_decades.svg')"
   ]
  },
  {
   "cell_type": "code",
   "execution_count": 7,
   "id": "6c93d417-c816-4cca-8a15-a50cbfcd490d",
   "metadata": {},
   "outputs": [
    {
     "data": {
      "image/png": "[encoded data removed]",
      "text/plain": [
       "<Figure size 108x64.8 with 1 Axes>"
      ]
     },
     "metadata": {},
     "output_type": "display_data"
    }
   ],
   "source": [
    "fig, ax = plt.subplots(1, 1, figsize=(1.5,0.9))\n",
    "\n",
    "ax.xaxis.set_tick_params(labelsize=6)\n",
    "ax.yaxis.set_tick_params(labelsize=6)\n",
    "#ax.set_ylabel('per capita', fontsize=6)\n",
    "ax.set_xticks((1960, 1980, 2000))\n",
    "#ax.set_yticks((0, 5, 10))\n",
    "ax.set_ylim((np.min(swine_decades)/1e3*0.9, np.max(swine_decades)/1e3*1.1))\n",
    "\n",
    "ax.plot(decades[0:-1], swine_decades/1e3, 'o', ms=3, color=colors['red'])\n",
    "ax.vlines(decades[0:-1], 0, swine_decades/1e3, lw=0.5, color=colors['red'])\n",
    "\n",
    "plt.savefig('../../../figures/database_paper/swine_decades.svg')"
   ]
  },
  {
   "cell_type": "code",
   "execution_count": 19,
   "id": "928d9e53-4942-4c2c-8001-fdba3e596b81",
   "metadata": {},
   "outputs": [
    {
     "data": {
      "text/plain": [
       "<matplotlib.collections.LineCollection at 0x7fb9800c32b0>"
      ]
     },
     "execution_count": 19,
     "metadata": {},
     "output_type": "execute_result"
    },
    {
     "data": {
      "image/png": "[encoded data removed]",
      "text/plain": [
       "<Figure size 198x126 with 1 Axes>"
      ]
     },
     "metadata": {},
     "output_type": "display_data"
    }
   ],
   "source": [
    "fig, ax = plt.subplots(1, 1, figsize=(2.75,1.75))\n",
    "\n",
    "ax.xaxis.set_tick_params(labelsize=6)\n",
    "ax.yaxis.set_tick_params(labelsize=6)\n",
    "ax.set_ylabel('chicken per capita', fontsize=6)\n",
    "ax.set_xticks((1960, 1980, 2000))\n",
    "#ax.set_yticks((0, 5, 10))\n",
    "\n",
    "ax.plot(decades[0:-1], chicken_decades/1e3, 'o', color=colors['green'])\n",
    "ax.vlines(decades[0:-1], 0, chicken_decades/1e3, color=colors['green'])\n",
    "\n",
    "ax.plot(np.asarray(decades[0:-1])-2, cattle_decades/1e3, 'o', color=colors['blue'])\n",
    "ax.vlines(np.asarray(decades[0:-1])-2, 0, cattle_decades/1e3, color=colors['blue'])\n",
    "\n",
    "#plt.savefig('../../../figures/database_paper/chicken_decades.svg')"
   ]
  },
  {
   "cell_type": "code",
   "execution_count": 7,
   "id": "1977688e-b1ee-4272-bc34-a2ad0264bc10",
   "metadata": {},
   "outputs": [],
   "source": [
    "plt.rcParams[\"font.family\"] = \"Lucida Sans Unicode\""
   ]
  },
  {
   "cell_type": "code",
   "execution_count": null,
   "id": "18b7c899-74a9-436f-a7a4-cb153e505dec",
   "metadata": {},
   "outputs": [],
   "source": []
  }
 ],
 "metadata": {
  "kernelspec": {
   "display_name": "Python 3.8.12 ('base')",
   "language": "python",
   "name": "python3"
  },
  "language_info": {
   "codemirror_mode": {
    "name": "ipython",
    "version": 3
   },
   "file_extension": ".py",
   "mimetype": "text/x-python",
   "name": "python",
   "nbconvert_exporter": "python",
   "pygments_lexer": "ipython3",
   "version": "3.8.12"
  },
  "vscode": {
   "interpreter": {
    "hash": "3c564ef7d7bc2191162644f217262f5516438042a09a12c52b9a7e4611a084e2"
   }
  }
 },
 "nbformat": 4,
 "nbformat_minor": 5
}
