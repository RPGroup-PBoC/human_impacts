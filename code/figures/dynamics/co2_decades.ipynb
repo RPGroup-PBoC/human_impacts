{
 "cells": [
  {
   "cell_type": "code",
   "execution_count": 1,
   "id": "1ee9239f-8aa2-46f4-af4e-445cfcbb6235",
   "metadata": {},
   "outputs": [],
   "source": [
    "import numpy as np\n",
    "import pandas as pd\n",
    "import matplotlib.pyplot as plt\n",
    "import anthro.viz\n",
    "colors = anthro.viz.plotting_style()\n",
    "plt.rcParams[\"font.family\"] = \"Lucida Sans Unicode\""
   ]
  },
  {
   "cell_type": "code",
   "execution_count": 2,
   "id": "2e1f44c5-99d4-4e16-a14a-a5d66d37b2fd",
   "metadata": {},
   "outputs": [],
   "source": [
    "#%% Load the population data \n",
    "pop_data = pd.read_csv('../../../data/anthropocentric/FAOSTAT_world_population/processed/FAOSTAT_rural_urban_population.csv')\n",
    "pop_data['pop_bil'] = pop_data['population'] / 1E9\n",
    "total_pop = pop_data.groupby(['year'])['pop_bil'].sum().reset_index()\n",
    "min_pop, max_pop = total_pop['pop_bil'].min(), total_pop['pop_bil'].max()"
   ]
  },
  {
   "cell_type": "code",
   "execution_count": 3,
   "id": "a63b2df0-5c12-47ab-930d-271de9c4f341",
   "metadata": {},
   "outputs": [],
   "source": [
    "co2_emissions_data = pd.read_csv('../../../data/atmosphere_biogeochemistry/global_carbon_project_CO2/processed/global_carbon_budget_processed.csv')\n",
    "co2_mean = co2_emissions_data[co2_emissions_data['Reported value']=='mean']\n",
    "co2_mean = co2_mean[co2_mean['Units']=='Pg CO2 yr-1']\n",
    "co2_mean.rename(columns={'Year': 'year'}, inplace=True)\n",
    "merged = co2_mean.merge(total_pop, on='year')\n",
    "merged.dropna(inplace=True)"
   ]
  },
  {
   "cell_type": "code",
   "execution_count": 4,
   "id": "44ce6e8e-400a-4ee0-bf10-950a5c8ed241",
   "metadata": {},
   "outputs": [],
   "source": [
    "decades = [1960, 1970, 1980, 1990, 2000, 2010, 2020]\n",
    "ff_decades = np.zeros(6)\n",
    "land_decades = np.zeros(6)\n",
    "tot_decades = np.zeros(6)\n",
    "\n",
    "\n",
    "for i in range(len(decades)-1):\n",
    "    \n",
    "    decade = decades[i]\n",
    "    \n",
    "    df_decade = merged[merged['year']>= decade]\n",
    "    df_decade = df_decade[df_decade['year']< decades[i+1]]\n",
    "    \n",
    "    pop_decade = df_decade['pop_bil'].mean()\n",
    "    ff_decade = df_decade[df_decade['Sink/source type']=='fossil fuel and industry']['Value'].mean() / pop_decade\n",
    "    land_decade = df_decade[df_decade['Sink/source type']=='land-use change emissions']['Value'].mean() / pop_decade\n",
    "    tot_decade = df_decade[df_decade['Sink/source type']=='anthropogenic emissions']['Value'].mean() / pop_decade\n",
    "    \n",
    "    ff_decades[i] = ff_decade\n",
    "    land_decades[i] = land_decade\n",
    "    tot_decades[i] = tot_decade"
   ]
  },
  {
   "cell_type": "code",
   "execution_count": 7,
   "id": "6dc112fd-85ef-497e-b1a7-e8f830b4ffa6",
   "metadata": {},
   "outputs": [
    {
     "data": {
      "image/png": "[encoded data removed]",
      "text/plain": [
       "<Figure size 108x54 with 1 Axes>"
      ]
     },
     "metadata": {},
     "output_type": "display_data"
    }
   ],
   "source": [
    "fig, ax = plt.subplots(1, 1, figsize=(1.5,0.75))\n",
    "\n",
    "ax.xaxis.set_tick_params(labelsize=6)\n",
    "ax.yaxis.set_tick_params(labelsize=6)\n",
    "#ax.set_ylabel('per capita [10$^{3}$ kg]', fontsize=6)\n",
    "ax.set_xticks((1960, 1980, 2000))\n",
    "#ax.set_yticks((0, 5, 10))\n",
    "ax.set_ylim((np.min(ff_decades)*0.9,np.max(ff_decades)*1.1))\n",
    "\n",
    "ax.plot(decades[0:-1], ff_decades, 'o', ms=3, color='darkgrey')\n",
    "ax.vlines(decades[0:-1], 0, ff_decades, lw=0.5, color='darkgrey')\n",
    "\n",
    "plt.savefig('../../../figures/database_paper/ff_emissions_decades.svg')"
   ]
  },
  {
   "cell_type": "code",
   "execution_count": 8,
   "id": "18036e69-656c-4c61-9cd9-71560bc95d66",
   "metadata": {},
   "outputs": [
    {
     "data": {
      "image/png": "[encoded data removed]",
      "text/plain": [
       "<Figure size 108x54 with 1 Axes>"
      ]
     },
     "metadata": {},
     "output_type": "display_data"
    }
   ],
   "source": [
    "fig, ax = plt.subplots(1, 1, figsize=(1.5,0.75))\n",
    "\n",
    "ax.xaxis.set_tick_params(labelsize=6)\n",
    "ax.yaxis.set_tick_params(labelsize=6)\n",
    "#ax.set_ylabel('per capita [10$^{3}$ kg]', fontsize=6)\n",
    "ax.set_xticks((1960, 1980, 2000))\n",
    "#ax.set_yticks((0, 5, 10))\n",
    "ax.set_ylim((np.min(land_decades)*0.9,np.max(land_decades)*1.1))\n",
    "\n",
    "ax.plot(decades[0:-1], land_decades, 'o', ms=3, color=colors['green'])\n",
    "ax.vlines(decades[0:-1], 0, land_decades, lw=0.5, color=colors['green'])\n",
    "\n",
    "plt.savefig('../../../figures/database_paper/land_emissions_decades.svg')"
   ]
  },
  {
   "cell_type": "code",
   "execution_count": 9,
   "id": "431a32fc-73a0-40b9-b514-52043dc25604",
   "metadata": {},
   "outputs": [
    {
     "data": {
      "image/png": "[encoded data removed]",
      "text/plain": [
       "<Figure size 108x54 with 1 Axes>"
      ]
     },
     "metadata": {},
     "output_type": "display_data"
    }
   ],
   "source": [
    "fig, ax = plt.subplots(1, 1, figsize=(1.5,0.75))\n",
    "\n",
    "ax.xaxis.set_tick_params(labelsize=6)\n",
    "ax.yaxis.set_tick_params(labelsize=6)\n",
    "#ax.set_ylabel('per capita [10$^{3}$ kg]', fontsize=6)\n",
    "ax.set_xticks((1960, 1980, 2000))\n",
    "#ax.set_yticks((0, 5, 10))\n",
    "ax.set_ylim((0,6))\n",
    "\n",
    "ax.plot(decades[0:-1], tot_decades, 'o', ms=3, color=colors['green'])\n",
    "ax.vlines(decades[0:-1], 0, tot_decades, lw=0.5, color=colors['green'])\n",
    "\n",
    "plt.savefig('../../../figures/database_paper/total_emissions_decades.svg')"
   ]
  },
  {
   "cell_type": "code",
   "execution_count": 31,
   "id": "d1101ff2-2c67-4bbc-89ea-4f4292b1d2ed",
   "metadata": {},
   "outputs": [
    {
     "data": {
      "text/html": [
       "<div>\n",
       "<style scoped>\n",
       "    .dataframe tbody tr th:only-of-type {\n",
       "        vertical-align: middle;\n",
       "    }\n",
       "\n",
       "    .dataframe tbody tr th {\n",
       "        vertical-align: top;\n",
       "    }\n",
       "\n",
       "    .dataframe thead th {\n",
       "        text-align: right;\n",
       "    }\n",
       "</style>\n",
       "<table border=\"1\" class=\"dataframe\">\n",
       "  <thead>\n",
       "    <tr style=\"text-align: right;\">\n",
       "      <th></th>\n",
       "      <th>year</th>\n",
       "      <th>Flux into atmosphere</th>\n",
       "      <th>Sink/source type</th>\n",
       "      <th>Reported value</th>\n",
       "      <th>Units</th>\n",
       "      <th>Value</th>\n",
       "      <th>pop_bil</th>\n",
       "    </tr>\n",
       "  </thead>\n",
       "  <tbody>\n",
       "    <tr>\n",
       "      <th>475</th>\n",
       "      <td>2018</td>\n",
       "      <td>sink</td>\n",
       "      <td>ocean sink</td>\n",
       "      <td>mean</td>\n",
       "      <td>Pg CO2 yr-1</td>\n",
       "      <td>9.64</td>\n",
       "      <td>7.632819</td>\n",
       "    </tr>\n",
       "    <tr>\n",
       "      <th>476</th>\n",
       "      <td>2018</td>\n",
       "      <td>sink</td>\n",
       "      <td>land sink</td>\n",
       "      <td>mean</td>\n",
       "      <td>Pg CO2 yr-1</td>\n",
       "      <td>12.72</td>\n",
       "      <td>7.632819</td>\n",
       "    </tr>\n",
       "    <tr>\n",
       "      <th>477</th>\n",
       "      <td>2018</td>\n",
       "      <td>source</td>\n",
       "      <td>budget imbalance</td>\n",
       "      <td>mean</td>\n",
       "      <td>Pg CO2 yr-1</td>\n",
       "      <td>0.88</td>\n",
       "      <td>7.632819</td>\n",
       "    </tr>\n",
       "    <tr>\n",
       "      <th>478</th>\n",
       "      <td>2018</td>\n",
       "      <td>source</td>\n",
       "      <td>anthropogenic emissions</td>\n",
       "      <td>mean</td>\n",
       "      <td>Pg CO2 yr-1</td>\n",
       "      <td>42.13</td>\n",
       "      <td>7.632819</td>\n",
       "    </tr>\n",
       "    <tr>\n",
       "      <th>479</th>\n",
       "      <td>2018</td>\n",
       "      <td>sink</td>\n",
       "      <td>natural sink</td>\n",
       "      <td>mean</td>\n",
       "      <td>Pg CO2 yr-1</td>\n",
       "      <td>22.36</td>\n",
       "      <td>7.632819</td>\n",
       "    </tr>\n",
       "  </tbody>\n",
       "</table>\n",
       "</div>"
      ],
      "text/plain": [
       "     year Flux into atmosphere         Sink/source type Reported value  \\\n",
       "475  2018                 sink               ocean sink           mean   \n",
       "476  2018                 sink                land sink           mean   \n",
       "477  2018               source         budget imbalance           mean   \n",
       "478  2018               source  anthropogenic emissions           mean   \n",
       "479  2018                 sink             natural sink           mean   \n",
       "\n",
       "           Units  Value   pop_bil  \n",
       "475  Pg CO2 yr-1   9.64  7.632819  \n",
       "476  Pg CO2 yr-1  12.72  7.632819  \n",
       "477  Pg CO2 yr-1   0.88  7.632819  \n",
       "478  Pg CO2 yr-1  42.13  7.632819  \n",
       "479  Pg CO2 yr-1  22.36  7.632819  "
      ]
     },
     "execution_count": 31,
     "metadata": {},
     "output_type": "execute_result"
    }
   ],
   "source": [
    "co2_merged.tail()"
   ]
  },
  {
   "cell_type": "code",
   "execution_count": 6,
   "id": "1fc417f1-4ba9-48c2-a0ca-c4760eb292ac",
   "metadata": {},
   "outputs": [],
   "source": [
    "plt.rcParams[\"font.family\"] = \"Lucida Sans Unicode\""
   ]
  },
  {
   "cell_type": "code",
   "execution_count": null,
   "id": "d309cb1d-c102-4104-91d7-11b7d4e8fd09",
   "metadata": {},
   "outputs": [],
   "source": []
  }
 ],
 "metadata": {
  "kernelspec": {
   "display_name": "Python 3",
   "language": "python",
   "name": "python3"
  },
  "language_info": {
   "codemirror_mode": {
    "name": "ipython",
    "version": 3
   },
   "file_extension": ".py",
   "mimetype": "text/x-python",
   "name": "python",
   "nbconvert_exporter": "python",
   "pygments_lexer": "ipython3",
   "version": "3.8.10"
  }
 },
 "nbformat": 4,
 "nbformat_minor": 5
}
