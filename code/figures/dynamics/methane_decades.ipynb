{
 "cells": [
  {
   "cell_type": "code",
   "execution_count": 1,
   "id": "8db1bd84-bafc-4866-bd45-8eabcbddbd41",
   "metadata": {},
   "outputs": [],
   "source": [
    "import numpy as np\n",
    "import pandas as pd\n",
    "import matplotlib.pyplot as plt\n",
    "import anthro.viz\n",
    "colors = anthro.viz.plotting_style()\n",
    "plt.rcParams[\"font.family\"] = \"Lucida Sans Unicode\""
   ]
  },
  {
   "cell_type": "code",
   "execution_count": 2,
   "id": "0370f37a-5932-4f8c-a622-dc94e7255125",
   "metadata": {},
   "outputs": [],
   "source": [
    "#%% Load the population data \n",
    "pop_data = pd.read_csv('../../../data/anthropocentric/FAOSTAT_world_population/processed/FAOSTAT_rural_urban_population.csv')\n",
    "pop_data['pop_bil'] = pop_data['population'] / 1E9\n",
    "total_pop = pop_data.groupby(['year'])['pop_bil'].sum().reset_index()\n",
    "min_pop, max_pop = total_pop['pop_bil'].min(), total_pop['pop_bil'].max()"
   ]
  },
  {
   "cell_type": "code",
   "execution_count": 3,
   "id": "db10c1a4-8b89-4961-94b4-03f17931b681",
   "metadata": {},
   "outputs": [],
   "source": [
    "# Generate plots for greenhouse gas emissions from EDGARv6.0 data\n",
    "sources = ['CH4']\n",
    "# Read uncertainties from Janssens-Maenhout et al (2019)\n",
    "unc_data = pd.read_csv('../../../data/atmosphere_biogeochemistry/EDGAR_GHG_emissions/processed/uncertainty_emissions_Janssens_Maenhout.csv')\n",
    "\n",
    "for source_ in sources:\n",
    "    data = pd.read_csv('../../../data/atmosphere_biogeochemistry/EDGAR_GHG_emissions/processed/'+str(source_)+'_emissions_processed.csv')\n",
    "    data['year'] = pd.to_datetime(data['Year'].astype(str), format='%Y', errors='coerce')\n",
    "    agg_data = pd.DataFrame()\n",
    "    agg_data['year'] = (data[data['C_group_IM24_sh']=='World'])['year']\n",
    "    agg_data['emissions'] = np.round( (data[data['C_group_IM24_sh']=='World'])['Emissions (Gg)']/1000.0, 1)\n",
    "    # Construct uncertainty from relative uncertainty based on Janssens-Maenhout et al (2019), EDGARv4.3.2\n",
    "    # Rthe uncertainty bands are given by [base*(1-2_sigma), base*(1+2_sigma)].\n",
    "    agg_data['relative std'] = ((unc_data[unc_data['Greenhouse Gas'].str.contains(source_)])['Relative uncertainty, 2 std']\n",
    "            ).to_numpy()\n",
    "    agg_data['lower bound'] = np.multiply( agg_data['emissions'], 1 - agg_data['relative std'] )\n",
    "    agg_data['upper bound'] = np.multiply( agg_data['emissions'], 1 + agg_data['relative std'] )\n",
    "years = np.arange(1970, 2019)\n",
    "agg_data['year'] = years\n",
    "merged = agg_data.merge(total_pop, on='year')"
   ]
  },
  {
   "cell_type": "code",
   "execution_count": 4,
   "id": "bf4d82dc-60f2-4781-a694-2d4dab8a8c84",
   "metadata": {},
   "outputs": [],
   "source": [
    "decades = [1970, 1980, 1990, 2000, 2010, 2020]\n",
    "ch4_decades = np.zeros(5)\n",
    "\n",
    "\n",
    "for i in range(len(decades)-1):\n",
    "    \n",
    "    decade = decades[i]\n",
    "    \n",
    "    df_decade = merged[merged['year']>= decade]\n",
    "    df_decade = merged[merged['year']< decades[i+1]]\n",
    "    \n",
    "    pop_decade = df_decade['pop_bil'].mean()\n",
    "    ch4_decade = df_decade['emissions'].mean() / pop_decade\n",
    "    \n",
    "    ch4_decades[i] = ch4_decade"
   ]
  },
  {
   "cell_type": "code",
   "execution_count": 10,
   "id": "202f59d9-8f3b-4a35-9560-01eea9252100",
   "metadata": {},
   "outputs": [
    {
     "data": {
      "image/png": "[encoded data removed]",
      "text/plain": [
       "<Figure size 108x54 with 1 Axes>"
      ]
     },
     "metadata": {},
     "output_type": "display_data"
    }
   ],
   "source": [
    "fig, ax = plt.subplots(1, 1, figsize=(1.5,0.75))\n",
    "\n",
    "ax.xaxis.set_tick_params(labelsize=6)\n",
    "ax.yaxis.set_tick_params(labelsize=6)\n",
    "#ax.set_ylabel('per capita [m$^{3}$]', fontsize=6)\n",
    "ax.set_xticks((1970, 1980, 1990, 2000, 2010))\n",
    "#ax.set_yticks((0, 5, 10))\n",
    "ax.set_ylim((np.min(ch4_decades)*0.9,np.max(ch4_decades)*1.1))\n",
    "\n",
    "ax.plot(decades[0:-1], ch4_decades, 'o', ms=3, color=colors['green'])\n",
    "ax.vlines(decades[0:-1], 0, ch4_decades, lw=0.5, color=colors['green'])\n",
    "\n",
    "plt.savefig('../../../figures/database_paper/ch4_emissions_decades.svg')"
   ]
  },
  {
   "cell_type": "code",
   "execution_count": 7,
   "id": "a3754a90-b4f8-4e1f-a675-ec0aa9ad9d1f",
   "metadata": {},
   "outputs": [],
   "source": [
    "plt.rcParams[\"font.family\"] = \"Lucida Sans Unicode\""
   ]
  },
  {
   "cell_type": "code",
   "execution_count": null,
   "id": "82a71626-6f7a-47cb-9b0e-6e58260a3177",
   "metadata": {},
   "outputs": [],
   "source": []
  }
 ],
 "metadata": {
  "kernelspec": {
   "display_name": "Python 3",
   "language": "python",
   "name": "python3"
  },
  "language_info": {
   "codemirror_mode": {
    "name": "ipython",
    "version": 3
   },
   "file_extension": ".py",
   "mimetype": "text/x-python",
   "name": "python",
   "nbconvert_exporter": "python",
   "pygments_lexer": "ipython3",
   "version": "3.8.10"
  }
 },
 "nbformat": 4,
 "nbformat_minor": 5
}
