{
 "cells": [
  {
   "cell_type": "code",
   "execution_count": 1,
   "metadata": {},
   "outputs": [],
   "source": [
    "import pandas as pd\n",
    "import numpy as np\n",
    "import altair as alt\n",
    "import anthro.io"
   ]
  },
  {
   "cell_type": "code",
   "execution_count": 2,
   "metadata": {},
   "outputs": [],
   "source": [
    "data = pd.read_csv('../processed/FAOSTAT_calorie_supply.csv')\n",
    "data['year'] = pd.to_datetime(data['year'], format='%Y')"
   ]
  },
  {
   "cell_type": "code",
   "execution_count": 3,
   "metadata": {},
   "outputs": [],
   "source": [
    "for g, d in data.groupby(['type']):\n",
    "  chart = alt.Chart(d).encode(\n",
    "              x=alt.X(field='year', type='temporal', timeUnit='year', title='year'),\n",
    "              y=alt.Y(field='kcal_capita_day', type='quantitative', title=f'{g} [kcal/capita/day]'),\n",
    "              tooltip=[alt.Tooltip(field='year', type='temporal', title='year', format='%Y'),\n",
    "                       alt.Tooltip(field='kcal_capita_day', type='nominal', title='kcal/capita/day')]\n",
    "  ).properties(width=\"container\", height=300)\n",
    "  l = chart.mark_line(color='dodgerblue')\n",
    "  p = chart.mark_point(color='dodgerblue', filled=True)\n",
    "\n",
    "  layer = alt.layer(l, p)\n",
    "  layer.save(f'{g}.json')"
   ]
  },
  {
   "cell_type": "code",
   "execution_count": null,
   "metadata": {},
   "outputs": [],
   "source": []
  }
 ],
 "metadata": {
  "kernelspec": {
   "display_name": "Python 3",
   "language": "python",
   "name": "python3"
  },
  "language_info": {
   "codemirror_mode": {
    "name": "ipython",
    "version": 3
   },
   "file_extension": ".py",
   "mimetype": "text/x-python",
   "name": "python",
   "nbconvert_exporter": "python",
   "pygments_lexer": "ipython3",
   "version": "3.7.7"
  }
 },
 "nbformat": 4,
 "nbformat_minor": 4
}
