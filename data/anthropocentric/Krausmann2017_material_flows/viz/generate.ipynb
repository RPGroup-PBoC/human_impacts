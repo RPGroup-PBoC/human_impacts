{
 "cells": [
  {
   "cell_type": "code",
   "execution_count": 1,
   "metadata": {},
   "outputs": [],
   "source": [
    "import numpy as np \n",
    "import pandas as pd \n",
    "import altair as alt \n",
    "import anthro.io"
   ]
  },
  {
   "cell_type": "code",
   "execution_count": 5,
   "metadata": {},
   "outputs": [],
   "source": [
    "data = pd.read_csv('../processed/concrete_total_production.csv')\n",
    "data['years'] = pd.to_datetime(data['years'], format='%Y')\n",
    "data['total_pg/yr'] = round(data['total_pg/yr'], 3)\n",
    "data['total_lower'] = data['total_pg/yr'] - data['uncertainty_pg/yr']\n",
    "data['total_upper'] = data['total_pg/yr'] + data['uncertainty_pg/yr']"
   ]
  },
  {
   "cell_type": "code",
   "execution_count": 6,
   "metadata": {},
   "outputs": [
    {
     "ename": "TypeError",
     "evalue": "unsupported operand type(s) for -: 'str' and 'str'",
     "output_type": "error",
     "traceback": [
      "\u001b[0;31m---------------------------------------------------------------------------\u001b[0m",
      "\u001b[0;31mTypeError\u001b[0m                                 Traceback (most recent call last)",
      "\u001b[0;32m<ipython-input-6-4315ec382ffb>\u001b[0m in \u001b[0;36m<module>\u001b[0;34m\u001b[0m\n\u001b[1;32m     10\u001b[0m bands = alt.Chart(data).mark_area(color='dodgerblue', fillOpacity=0.4).encode(\n\u001b[1;32m     11\u001b[0m             \u001b[0mx\u001b[0m\u001b[0;34m=\u001b[0m\u001b[0malt\u001b[0m\u001b[0;34m.\u001b[0m\u001b[0mX\u001b[0m\u001b[0;34m(\u001b[0m\u001b[0mfield\u001b[0m\u001b[0;34m=\u001b[0m\u001b[0;34m'year'\u001b[0m\u001b[0;34m,\u001b[0m \u001b[0mtype\u001b[0m\u001b[0;34m=\u001b[0m\u001b[0;34m'temporal'\u001b[0m\u001b[0;34m,\u001b[0m \u001b[0mtimeUnit\u001b[0m\u001b[0;34m=\u001b[0m\u001b[0;34m'year'\u001b[0m\u001b[0;34m,\u001b[0m \u001b[0mtitle\u001b[0m\u001b[0;34m=\u001b[0m\u001b[0;34m'year'\u001b[0m\u001b[0;34m)\u001b[0m\u001b[0;34m,\u001b[0m\u001b[0;34m\u001b[0m\u001b[0;34m\u001b[0m\u001b[0m\n\u001b[0;32m---> 12\u001b[0;31m             \u001b[0my\u001b[0m\u001b[0;34m=\u001b[0m\u001b[0;34m'total_pg/yr'\u001b[0m \u001b[0;34m-\u001b[0m \u001b[0;34m'uncertainty_pg/yr'\u001b[0m\u001b[0;34m,\u001b[0m\u001b[0;34m\u001b[0m\u001b[0;34m\u001b[0m\u001b[0m\n\u001b[0m\u001b[1;32m     13\u001b[0m             \u001b[0my2\u001b[0m\u001b[0;34m=\u001b[0m \u001b[0;34m'total_pg/yr'\u001b[0m \u001b[0;34m+\u001b[0m \u001b[0;34m'uncertainty_pg/yr'\u001b[0m\u001b[0;34m\u001b[0m\u001b[0;34m\u001b[0m\u001b[0m\n\u001b[1;32m     14\u001b[0m         ).properties(width='container', height=300)\n",
      "\u001b[0;31mTypeError\u001b[0m: unsupported operand type(s) for -: 'str' and 'str'"
     ]
    }
   ],
   "source": [
    "# Generate a plot for global average surface pH\n",
    "chart = alt.Chart(data).encode(\n",
    "            x=alt.X(field='years', type='temporal', timeUnit='year', title='year'),\n",
    "            y=alt.Y(field='total_pg/yr', type='quantitative', title='global concrete production [pg/yr]', scale=alt.Scale(domain=[8.05, 8.12])),\n",
    "            tooltip=[alt.Tooltip(field='year', type='temporal', title='year', format='%Y'),\n",
    "                     alt.Tooltip(field='total_pg/yr', type='nominal', title='global concrete production [pg/yr]')]\n",
    "            ).properties(width='container', height=300)\n",
    "\n",
    "# Add uncertainty bands\n",
    "bands = alt.Chart(data).mark_area(color='dodgerblue', fillOpacity=0.4).encode(\n",
    "            x=alt.X(field='year', type='temporal', timeUnit='year', title='year'),\n",
    "            y='total_pg/yr' - 'uncertainty_pg/yr',\n",
    "            y2= 'total_pg/yr' + 'uncertainty_pg/yr'\n",
    "        ).properties(width='container', height=300)\n",
    "\n",
    "l = chart.mark_line(color='dodgerblue')\n",
    "p = chart.mark_point(color='dodgerblue', filled=True)\n",
    "layer = alt.layer(l, p, bands) #.resolve_scale(y='shared')\n",
    "layer.save('concrete_production.json')"
   ]
  },
  {
   "cell_type": "code",
   "execution_count": null,
   "metadata": {},
   "outputs": [],
   "source": []
  }
 ],
 "metadata": {
  "kernelspec": {
   "display_name": "Python 3",
   "language": "python",
   "name": "python3"
  },
  "language_info": {
   "codemirror_mode": {
    "name": "ipython",
    "version": 3
   },
   "file_extension": ".py",
   "mimetype": "text/x-python",
   "name": "python",
   "nbconvert_exporter": "python",
   "pygments_lexer": "ipython3",
   "version": "3.7.7"
  }
 },
 "nbformat": 4,
 "nbformat_minor": 4
}
