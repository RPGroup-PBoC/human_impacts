{
 "cells": [
  {
   "cell_type": "code",
   "execution_count": 1,
   "metadata": {},
   "outputs": [],
   "source": [
    "import numpy as np \n",
    "import pandas as pd \n",
    "import altair as alt \n",
    "import anthro.io"
   ]
  },
  {
   "cell_type": "code",
   "execution_count": 2,
   "metadata": {},
   "outputs": [],
   "source": [
    "data = pd.read_csv('../processed/anthopogenic_mass_2015_processed.csv')\n",
    "data['Year'] = pd.to_datetime(data['Year'], format='%Y')\n",
    "data['total_Tt'] = round(data['total_Tt'], 3)"
   ]
  },
  {
   "cell_type": "code",
   "execution_count": 3,
   "metadata": {},
   "outputs": [],
   "source": [
    "# Generate a plot for global concrete production\n",
    "chart = alt.Chart(data).encode(\n",
    "            x=alt.X(field='Year', type='temporal', timeUnit='year', title='year'),\n",
    "            y=alt.Y(field='total_Tt', type='quantitative', title='global anthropogenic mass [Tt]'),\n",
    "            tooltip=[alt.Tooltip(field='Year', type='temporal', title='Year', format='%Y'),\n",
    "                     alt.Tooltip(field='total_Tt', type='nominal', title='global anthropogenic mass [pg/yr]')]\n",
    "            ).properties(width='container', height=300)\n",
    "l = chart.mark_line(color='dodgerblue')\n",
    "p = chart.mark_point(color='dodgerblue', filled=True)\n",
    "layer = alt.layer(l, p) \n",
    "layer.save('total_anthropomass.json')"
   ]
  },
  {
   "cell_type": "code",
   "execution_count": null,
   "metadata": {},
   "outputs": [],
   "source": []
  }
 ],
 "metadata": {
  "kernelspec": {
   "display_name": "Python 3",
   "language": "python",
   "name": "python3"
  },
  "language_info": {
   "codemirror_mode": {
    "name": "ipython",
    "version": 3
   },
   "file_extension": ".py",
   "mimetype": "text/x-python",
   "name": "python",
   "nbconvert_exporter": "python",
   "pygments_lexer": "ipython3",
   "version": "3.7.7"
  }
 },
 "nbformat": 4,
 "nbformat_minor": 4
}
