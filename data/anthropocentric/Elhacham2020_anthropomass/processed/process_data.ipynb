{
 "cells": [
  {
   "cell_type": "code",
   "execution_count": 1,
   "metadata": {},
   "outputs": [],
   "source": [
    "import numpy as np\n",
    "import pandas as pd"
   ]
  },
  {
   "cell_type": "code",
   "execution_count": 4,
   "metadata": {},
   "outputs": [
    {
     "data": {
      "text/html": [
       "<div>\n",
       "<style scoped>\n",
       "    .dataframe tbody tr th:only-of-type {\n",
       "        vertical-align: middle;\n",
       "    }\n",
       "\n",
       "    .dataframe tbody tr th {\n",
       "        vertical-align: top;\n",
       "    }\n",
       "\n",
       "    .dataframe thead th {\n",
       "        text-align: right;\n",
       "    }\n",
       "</style>\n",
       "<table border=\"1\" class=\"dataframe\">\n",
       "  <thead>\n",
       "    <tr style=\"text-align: right;\">\n",
       "      <th></th>\n",
       "      <th>Year</th>\n",
       "      <th>concrete</th>\n",
       "      <th>aggregates (gravel etc.)</th>\n",
       "      <th>bricks</th>\n",
       "      <th>asphalt</th>\n",
       "      <th>metals</th>\n",
       "      <th>other (plastic etc.)</th>\n",
       "      <th>waste</th>\n",
       "    </tr>\n",
       "  </thead>\n",
       "  <tbody>\n",
       "    <tr>\n",
       "      <th>111</th>\n",
       "      <td>2011</td>\n",
       "      <td>0.335820</td>\n",
       "      <td>0.314733</td>\n",
       "      <td>0.079071</td>\n",
       "      <td>0.055001</td>\n",
       "      <td>0.029322</td>\n",
       "      <td>0.019457</td>\n",
       "      <td>0.234627</td>\n",
       "    </tr>\n",
       "    <tr>\n",
       "      <th>112</th>\n",
       "      <td>2012</td>\n",
       "      <td>0.355099</td>\n",
       "      <td>0.322283</td>\n",
       "      <td>0.080495</td>\n",
       "      <td>0.056080</td>\n",
       "      <td>0.030283</td>\n",
       "      <td>0.019834</td>\n",
       "      <td>0.243201</td>\n",
       "    </tr>\n",
       "    <tr>\n",
       "      <th>113</th>\n",
       "      <td>2013</td>\n",
       "      <td>0.375763</td>\n",
       "      <td>0.329753</td>\n",
       "      <td>0.081841</td>\n",
       "      <td>0.057102</td>\n",
       "      <td>0.031322</td>\n",
       "      <td>0.020234</td>\n",
       "      <td>0.252147</td>\n",
       "    </tr>\n",
       "    <tr>\n",
       "      <th>114</th>\n",
       "      <td>2014</td>\n",
       "      <td>0.396741</td>\n",
       "      <td>0.337347</td>\n",
       "      <td>0.083149</td>\n",
       "      <td>0.058075</td>\n",
       "      <td>0.032345</td>\n",
       "      <td>0.020682</td>\n",
       "      <td>0.261476</td>\n",
       "    </tr>\n",
       "    <tr>\n",
       "      <th>115</th>\n",
       "      <td>2015</td>\n",
       "      <td>0.417198</td>\n",
       "      <td>0.344460</td>\n",
       "      <td>0.084432</td>\n",
       "      <td>0.059013</td>\n",
       "      <td>0.033346</td>\n",
       "      <td>0.021163</td>\n",
       "      <td>0.271154</td>\n",
       "    </tr>\n",
       "  </tbody>\n",
       "</table>\n",
       "</div>"
      ],
      "text/plain": [
       "     Year  concrete  aggregates (gravel etc.)    bricks   asphalt    metals  \\\n",
       "111  2011  0.335820                  0.314733  0.079071  0.055001  0.029322   \n",
       "112  2012  0.355099                  0.322283  0.080495  0.056080  0.030283   \n",
       "113  2013  0.375763                  0.329753  0.081841  0.057102  0.031322   \n",
       "114  2014  0.396741                  0.337347  0.083149  0.058075  0.032345   \n",
       "115  2015  0.417198                  0.344460  0.084432  0.059013  0.033346   \n",
       "\n",
       "     other (plastic etc.)     waste  \n",
       "111              0.019457  0.234627  \n",
       "112              0.019834  0.243201  \n",
       "113              0.020234  0.252147  \n",
       "114              0.020682  0.261476  \n",
       "115              0.021163  0.271154  "
      ]
     },
     "execution_count": 4,
     "metadata": {},
     "output_type": "execute_result"
    }
   ],
   "source": [
    "data = pd.read_excel('../source/anthropogenic_mass_2015.xlsx', usecols=(0,1,2,3,4,5,6,7))\n",
    "data.tail()"
   ]
  },
  {
   "cell_type": "code",
   "execution_count": 10,
   "metadata": {},
   "outputs": [],
   "source": [
    "data = data.rename(columns = {'concrete': 'concrete_Tt',\n",
    "                    'aggregates (gravel etc.)': 'aggregates_Tt',\n",
    "                    'bricks': 'bricks_Tt',\n",
    "                    'asphalt': 'asphalt_Tt',\n",
    "                    'metals': 'metals_Tt',\n",
    "                    'other (plastic etc.)': 'other_Tt',\n",
    "                    'waste': 'waste_Tt'})\n"
   ]
  },
  {
   "cell_type": "code",
   "execution_count": 12,
   "metadata": {},
   "outputs": [],
   "source": [
    "total = data['concrete_Tt'].values + data['aggregates_Tt'].values + data['bricks_Tt'].values + data['asphalt_Tt'].values + \\\n",
    "         data['metals_Tt'].values + data['other_Tt'].values + data['waste_Tt'].values\n",
    "    \n",
    "data['total_Tt'] = total"
   ]
  },
  {
   "cell_type": "code",
   "execution_count": 15,
   "metadata": {},
   "outputs": [],
   "source": [
    "data.to_csv('anthopogenic_mass_2015_processed.csv')"
   ]
  },
  {
   "cell_type": "code",
   "execution_count": null,
   "metadata": {},
   "outputs": [],
   "source": []
  }
 ],
 "metadata": {
  "kernelspec": {
   "display_name": "Python 3",
   "language": "python",
   "name": "python3"
  },
  "language_info": {
   "codemirror_mode": {
    "name": "ipython",
    "version": 3
   },
   "file_extension": ".py",
   "mimetype": "text/x-python",
   "name": "python",
   "nbconvert_exporter": "python",
   "pygments_lexer": "ipython3",
   "version": "3.7.7"
  }
 },
 "nbformat": 4,
 "nbformat_minor": 4
}
