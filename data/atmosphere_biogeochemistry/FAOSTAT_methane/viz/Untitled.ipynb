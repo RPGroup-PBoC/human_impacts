{
 "cells": [
  {
   "cell_type": "code",
   "execution_count": 2,
   "metadata": {},
   "outputs": [],
   "source": [
    "import numpy as np\n",
    "import pandas as pd\n",
    "import altair as alt\n",
    "import anthro.io"
   ]
  },
  {
   "cell_type": "code",
   "execution_count": 5,
   "metadata": {},
   "outputs": [],
   "source": [
    "data = pd.read_csv('../processed/FAOSTAT_methane_enteric_fermentation.csv')\n",
    "data['year'] = pd.to_datetime(data['year'], format='%Y')\n",
    "#data['CH4_10^9_kg'] = data['CH4_Gg'] * 1E-3\n",
    "data['CH4'] = anthro.io.numeric_formatter(data['emissions_10^9_kg'].values * 1E6, sci=False)"
   ]
  },
  {
   "cell_type": "code",
   "execution_count": 6,
   "metadata": {},
   "outputs": [],
   "source": [
    "chart = alt.Chart(data).encode(\n",
    "              x=alt.X(field='year', type='temporal', timeUnit='year', title='year'),\n",
    "              y=alt.Y(field='CH4', type='quantitative', title='CH$_{4}$ emissions'),\n",
    "              tooltip=[alt.Tooltip(field='year', type='temporal', title='year', format='%Y'),\n",
    "                       alt.Tooltip(field='CH4', type='nominal', title='CH$_{4}$ emissions')]\n",
    "             ).properties(width=\"container\", height=300)\n",
    "l = chart.mark_line(color='dodgerblue')\n",
    "p = chart.mark_point(color='dodgerblue', filled=True)\n",
    "\n",
    "layer = alt.layer(l, p)\n",
    "layer.save(f'enteric_fermentation.json')"
   ]
  },
  {
   "cell_type": "code",
   "execution_count": null,
   "metadata": {},
   "outputs": [],
   "source": []
  }
 ],
 "metadata": {
  "kernelspec": {
   "display_name": "Python 3",
   "language": "python",
   "name": "python3"
  },
  "language_info": {
   "codemirror_mode": {
    "name": "ipython",
    "version": 3
   },
   "file_extension": ".py",
   "mimetype": "text/x-python",
   "name": "python",
   "nbconvert_exporter": "python",
   "pygments_lexer": "ipython3",
   "version": "3.7.7"
  }
 },
 "nbformat": 4,
 "nbformat_minor": 4
}
