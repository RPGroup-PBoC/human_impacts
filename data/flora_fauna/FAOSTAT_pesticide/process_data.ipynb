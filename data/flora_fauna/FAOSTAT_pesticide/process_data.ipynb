{
 "cells": [
  {
   "cell_type": "code",
   "execution_count": 1,
   "metadata": {},
   "outputs": [],
   "source": [
    "import numpy as np\n",
    "import pandas as pd"
   ]
  },
  {
   "cell_type": "code",
   "execution_count": 7,
   "metadata": {},
   "outputs": [
    {
     "data": {
      "text/html": [
       "<div>\n",
       "<style scoped>\n",
       "    .dataframe tbody tr th:only-of-type {\n",
       "        vertical-align: middle;\n",
       "    }\n",
       "\n",
       "    .dataframe tbody tr th {\n",
       "        vertical-align: top;\n",
       "    }\n",
       "\n",
       "    .dataframe thead th {\n",
       "        text-align: right;\n",
       "    }\n",
       "</style>\n",
       "<table border=\"1\" class=\"dataframe\">\n",
       "  <thead>\n",
       "    <tr style=\"text-align: right;\">\n",
       "      <th></th>\n",
       "      <th>Domain</th>\n",
       "      <th>Area</th>\n",
       "      <th>Element</th>\n",
       "      <th>Item</th>\n",
       "      <th>Year</th>\n",
       "      <th>Unit</th>\n",
       "      <th>Value</th>\n",
       "    </tr>\n",
       "  </thead>\n",
       "  <tbody>\n",
       "    <tr>\n",
       "      <th>140</th>\n",
       "      <td>Pesticides Use</td>\n",
       "      <td>World</td>\n",
       "      <td>Agricultural Use</td>\n",
       "      <td>Rodenticides</td>\n",
       "      <td>2014</td>\n",
       "      <td>tonnes</td>\n",
       "      <td>3273</td>\n",
       "    </tr>\n",
       "    <tr>\n",
       "      <th>141</th>\n",
       "      <td>Pesticides Use</td>\n",
       "      <td>World</td>\n",
       "      <td>Agricultural Use</td>\n",
       "      <td>Rodenticides</td>\n",
       "      <td>2015</td>\n",
       "      <td>tonnes</td>\n",
       "      <td>3293</td>\n",
       "    </tr>\n",
       "    <tr>\n",
       "      <th>142</th>\n",
       "      <td>Pesticides Use</td>\n",
       "      <td>World</td>\n",
       "      <td>Agricultural Use</td>\n",
       "      <td>Rodenticides</td>\n",
       "      <td>2016</td>\n",
       "      <td>tonnes</td>\n",
       "      <td>3141</td>\n",
       "    </tr>\n",
       "    <tr>\n",
       "      <th>143</th>\n",
       "      <td>Pesticides Use</td>\n",
       "      <td>World</td>\n",
       "      <td>Agricultural Use</td>\n",
       "      <td>Rodenticides</td>\n",
       "      <td>2017</td>\n",
       "      <td>tonnes</td>\n",
       "      <td>3399</td>\n",
       "    </tr>\n",
       "    <tr>\n",
       "      <th>144</th>\n",
       "      <td>Pesticides Use</td>\n",
       "      <td>World</td>\n",
       "      <td>Agricultural Use</td>\n",
       "      <td>Rodenticides</td>\n",
       "      <td>2018</td>\n",
       "      <td>tonnes</td>\n",
       "      <td>4333</td>\n",
       "    </tr>\n",
       "  </tbody>\n",
       "</table>\n",
       "</div>"
      ],
      "text/plain": [
       "             Domain   Area           Element          Item  Year    Unit  \\\n",
       "140  Pesticides Use  World  Agricultural Use  Rodenticides  2014  tonnes   \n",
       "141  Pesticides Use  World  Agricultural Use  Rodenticides  2015  tonnes   \n",
       "142  Pesticides Use  World  Agricultural Use  Rodenticides  2016  tonnes   \n",
       "143  Pesticides Use  World  Agricultural Use  Rodenticides  2017  tonnes   \n",
       "144  Pesticides Use  World  Agricultural Use  Rodenticides  2018  tonnes   \n",
       "\n",
       "     Value  \n",
       "140   3273  \n",
       "141   3293  \n",
       "142   3141  \n",
       "143   3399  \n",
       "144   4333  "
      ]
     },
     "execution_count": 7,
     "metadata": {},
     "output_type": "execute_result"
    }
   ],
   "source": [
    "data = pd.read_csv('source/FAOSTAT_pesticides.csv')\n",
    "data.tail()"
   ]
  },
  {
   "cell_type": "code",
   "execution_count": 8,
   "metadata": {},
   "outputs": [],
   "source": [
    "dict_tidy = {\n",
    "    'item': data['Item'].values,\n",
    "    'year': data['Year'].values,\n",
    "    'tonnes': data['Value'].values\n",
    "}\n",
    "df_tidy = pd.DataFrame(dict_tidy)"
   ]
  },
  {
   "cell_type": "code",
   "execution_count": 9,
   "metadata": {},
   "outputs": [],
   "source": [
    "df_tidy.to_csv('processed/FAOSTAT_pesticide.csv')"
   ]
  },
  {
   "cell_type": "code",
   "execution_count": null,
   "metadata": {},
   "outputs": [],
   "source": []
  }
 ],
 "metadata": {
  "kernelspec": {
   "display_name": "Python 3",
   "language": "python",
   "name": "python3"
  },
  "language_info": {
   "codemirror_mode": {
    "name": "ipython",
    "version": 3
   },
   "file_extension": ".py",
   "mimetype": "text/x-python",
   "name": "python",
   "nbconvert_exporter": "python",
   "pygments_lexer": "ipython3",
   "version": "3.7.7"
  }
 },
 "nbformat": 4,
 "nbformat_minor": 4
}
